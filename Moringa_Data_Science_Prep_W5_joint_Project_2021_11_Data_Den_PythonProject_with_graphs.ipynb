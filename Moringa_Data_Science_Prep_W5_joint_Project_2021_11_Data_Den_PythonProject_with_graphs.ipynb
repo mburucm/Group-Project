{
  "nbformat": 4,
  "nbformat_minor": 0,
  "metadata": {
    "colab": {
      "name": "Moringa_Data_Science_Prep_W5_joint_Project_2021_11_Data_Den_PythonProject.ipynb",
      "provenance": [],
      "collapsed_sections": [],
      "include_colab_link": true
    },
    "kernelspec": {
      "name": "python3",
      "display_name": "Python 3"
    },
    "language_info": {
      "name": "python"
    }
  },
  "cells": [
    {
      "cell_type": "markdown",
      "metadata": {
        "id": "view-in-github",
        "colab_type": "text"
      },
      "source": [
        "<a href=\"https://colab.research.google.com/github/mburucm/Group-Project/blob/main/Moringa_Data_Science_Prep_W5_joint_Project_2021_11_Data_Den_PythonProject_with_graphs.ipynb\" target=\"_parent\"><img src=\"https://colab.research.google.com/assets/colab-badge.svg\" alt=\"Open In Colab\"/></a>"
      ]
    },
    {
      "cell_type": "markdown",
      "metadata": {
        "id": "N8Q9g2-xk-rD"
      },
      "source": [
        "## **INTRODUCTION**\n",
        "\n",
        "The following dataset contains a list of Kenyan retail Supermarkets containing information on items, location, day, type of payments among other variables. Historically, supermarkets have their business models radically re-shaped by cashless payment instore, online (advertisement, payments, locations) and in the food industry supply chain.\n",
        "\n",
        "The lack of or derailment in implementation of crucial strategies have led to the closure of major supermarkets across Kenya. These technologies will be deployed in the battle for customers but, more than this, can also benefit the business as a whole. "
      ]
    },
    {
      "cell_type": "markdown",
      "metadata": {
        "id": "n9ZuipOOBIYl"
      },
      "source": [
        "## **DATA UNDERSTANDING**"
      ]
    },
    {
      "cell_type": "code",
      "metadata": {
        "id": "-_Lu6P-n6wN2"
      },
      "source": [
        "# Importing the libraries we will need \n",
        "\n",
        "# Importing the pandas library\n",
        "# \n",
        "import pandas as pd\n",
        "\n",
        "# Importing the numpy library\n",
        "#\n",
        "import numpy as np"
      ],
      "execution_count": 1,
      "outputs": []
    },
    {
      "cell_type": "markdown",
      "metadata": {
        "id": "dq6qiFvPMrec"
      },
      "source": [
        ""
      ]
    },
    {
      "cell_type": "code",
      "metadata": {
        "colab": {
          "base_uri": "https://localhost:8080/",
          "height": 226
        },
        "id": "slsMwav2mAv8",
        "outputId": "2f17913d-3d16-4925-c9f3-54de7d01a9c1"
      },
      "source": [
        "#to read the data in the csv file to create a dataframe\n",
        "#the dataframe will be referred to as 'df'\n",
        "df= pd.read_csv('/content/drive/MyDrive/Supermarket Data - Supermarket Data.csv')\n",
        "df\n",
        "#to display the top 5 records of the dataframe\n",
        "df.head(5)"
      ],
      "execution_count": 4,
      "outputs": [
        {
          "output_type": "execute_result",
          "data": {
            "text/html": [
              "<div>\n",
              "<style scoped>\n",
              "    .dataframe tbody tr th:only-of-type {\n",
              "        vertical-align: middle;\n",
              "    }\n",
              "\n",
              "    .dataframe tbody tr th {\n",
              "        vertical-align: top;\n",
              "    }\n",
              "\n",
              "    .dataframe thead th {\n",
              "        text-align: right;\n",
              "    }\n",
              "</style>\n",
              "<table border=\"1\" class=\"dataframe\">\n",
              "  <thead>\n",
              "    <tr style=\"text-align: right;\">\n",
              "      <th></th>\n",
              "      <th>supermarket</th>\n",
              "      <th>no_of_items</th>\n",
              "      <th>variation</th>\n",
              "      <th>total</th>\n",
              "      <th>paid</th>\n",
              "      <th>change</th>\n",
              "      <th>type</th>\n",
              "      <th>food</th>\n",
              "      <th>snack</th>\n",
              "      <th>beverage</th>\n",
              "      <th>consumables</th>\n",
              "      <th>high_end</th>\n",
              "      <th>asset</th>\n",
              "      <th>fixed_asset</th>\n",
              "      <th>date</th>\n",
              "      <th>mall</th>\n",
              "      <th>time</th>\n",
              "      <th>time_type</th>\n",
              "      <th>type_market</th>\n",
              "      <th>location</th>\n",
              "      <th>loc_category</th>\n",
              "      <th>day</th>\n",
              "      <th>day_type</th>\n",
              "      <th>24hr</th>\n",
              "      <th>day.1</th>\n",
              "      <th>month</th>\n",
              "      <th>year</th>\n",
              "    </tr>\n",
              "  </thead>\n",
              "  <tbody>\n",
              "    <tr>\n",
              "      <th>0</th>\n",
              "      <td>acacia</td>\n",
              "      <td>1</td>\n",
              "      <td>1</td>\n",
              "      <td>90.0</td>\n",
              "      <td>100</td>\n",
              "      <td>10.0</td>\n",
              "      <td>cash</td>\n",
              "      <td>yes</td>\n",
              "      <td>no</td>\n",
              "      <td>no</td>\n",
              "      <td>no</td>\n",
              "      <td>no</td>\n",
              "      <td>no</td>\n",
              "      <td>no</td>\n",
              "      <td>20/05/2017</td>\n",
              "      <td>no</td>\n",
              "      <td>19:33</td>\n",
              "      <td>night</td>\n",
              "      <td>small</td>\n",
              "      <td>saika</td>\n",
              "      <td>mid</td>\n",
              "      <td>saturday</td>\n",
              "      <td>weekend</td>\n",
              "      <td>no</td>\n",
              "      <td>20</td>\n",
              "      <td>5</td>\n",
              "      <td>2017.0</td>\n",
              "    </tr>\n",
              "    <tr>\n",
              "      <th>1</th>\n",
              "      <td>acacia</td>\n",
              "      <td>1</td>\n",
              "      <td>1</td>\n",
              "      <td>90.0</td>\n",
              "      <td>500</td>\n",
              "      <td>410.0</td>\n",
              "      <td>cash</td>\n",
              "      <td>yes</td>\n",
              "      <td>no</td>\n",
              "      <td>no</td>\n",
              "      <td>no</td>\n",
              "      <td>no</td>\n",
              "      <td>no</td>\n",
              "      <td>no</td>\n",
              "      <td>20/05/2017</td>\n",
              "      <td>no</td>\n",
              "      <td>19:12</td>\n",
              "      <td>night</td>\n",
              "      <td>small</td>\n",
              "      <td>saika</td>\n",
              "      <td>mid</td>\n",
              "      <td>saturday</td>\n",
              "      <td>weekend</td>\n",
              "      <td>no</td>\n",
              "      <td>20</td>\n",
              "      <td>5</td>\n",
              "      <td>2017.0</td>\n",
              "    </tr>\n",
              "    <tr>\n",
              "      <th>2</th>\n",
              "      <td>acacia</td>\n",
              "      <td>3</td>\n",
              "      <td>1</td>\n",
              "      <td>270.0</td>\n",
              "      <td>300</td>\n",
              "      <td>30.0</td>\n",
              "      <td>cash</td>\n",
              "      <td>yes</td>\n",
              "      <td>no</td>\n",
              "      <td>no</td>\n",
              "      <td>no</td>\n",
              "      <td>no</td>\n",
              "      <td>no</td>\n",
              "      <td>no</td>\n",
              "      <td>20/05/2017</td>\n",
              "      <td>no</td>\n",
              "      <td>19:16</td>\n",
              "      <td>night</td>\n",
              "      <td>small</td>\n",
              "      <td>saika</td>\n",
              "      <td>mid</td>\n",
              "      <td>saturday</td>\n",
              "      <td>weekend</td>\n",
              "      <td>no</td>\n",
              "      <td>20</td>\n",
              "      <td>5</td>\n",
              "      <td>2017.0</td>\n",
              "    </tr>\n",
              "    <tr>\n",
              "      <th>3</th>\n",
              "      <td>acacia</td>\n",
              "      <td>3</td>\n",
              "      <td>1</td>\n",
              "      <td>137.0</td>\n",
              "      <td>200</td>\n",
              "      <td>63.0</td>\n",
              "      <td>cash</td>\n",
              "      <td>yes</td>\n",
              "      <td>no</td>\n",
              "      <td>no</td>\n",
              "      <td>no</td>\n",
              "      <td>no</td>\n",
              "      <td>no</td>\n",
              "      <td>no</td>\n",
              "      <td>20/05/2017</td>\n",
              "      <td>no</td>\n",
              "      <td>19:12</td>\n",
              "      <td>night</td>\n",
              "      <td>small</td>\n",
              "      <td>saika</td>\n",
              "      <td>mid</td>\n",
              "      <td>saturday</td>\n",
              "      <td>weekend</td>\n",
              "      <td>no</td>\n",
              "      <td>20</td>\n",
              "      <td>5</td>\n",
              "      <td>2017.0</td>\n",
              "    </tr>\n",
              "    <tr>\n",
              "      <th>4</th>\n",
              "      <td>acacia</td>\n",
              "      <td>1</td>\n",
              "      <td>1</td>\n",
              "      <td>75.0</td>\n",
              "      <td>80</td>\n",
              "      <td>5.0</td>\n",
              "      <td>cash</td>\n",
              "      <td>yes</td>\n",
              "      <td>no</td>\n",
              "      <td>no</td>\n",
              "      <td>no</td>\n",
              "      <td>no</td>\n",
              "      <td>no</td>\n",
              "      <td>no</td>\n",
              "      <td>20/05/2017</td>\n",
              "      <td>no</td>\n",
              "      <td>18:31</td>\n",
              "      <td>afternoon</td>\n",
              "      <td>small</td>\n",
              "      <td>saika</td>\n",
              "      <td>mid</td>\n",
              "      <td>saturday</td>\n",
              "      <td>weekend</td>\n",
              "      <td>no</td>\n",
              "      <td>20</td>\n",
              "      <td>5</td>\n",
              "      <td>2017.0</td>\n",
              "    </tr>\n",
              "  </tbody>\n",
              "</table>\n",
              "</div>"
            ],
            "text/plain": [
              "  supermarket  no_of_items  variation  total  ...  24hr  day.1 month    year\n",
              "0      acacia            1          1   90.0  ...    no     20     5  2017.0\n",
              "1      acacia            1          1   90.0  ...    no     20     5  2017.0\n",
              "2      acacia            3          1  270.0  ...    no     20     5  2017.0\n",
              "3      acacia            3          1  137.0  ...    no     20     5  2017.0\n",
              "4      acacia            1          1   75.0  ...    no     20     5  2017.0\n",
              "\n",
              "[5 rows x 27 columns]"
            ]
          },
          "metadata": {},
          "execution_count": 4
        }
      ]
    },
    {
      "cell_type": "code",
      "metadata": {
        "colab": {
          "base_uri": "https://localhost:8080/"
        },
        "id": "j_WI8zJZOC2i",
        "outputId": "5173cc9e-b04b-4068-ccc2-066327c7c6af"
      },
      "source": [
        "from google.colab import drive\n",
        "drive.mount('/content/drive')"
      ],
      "execution_count": 2,
      "outputs": [
        {
          "output_type": "stream",
          "name": "stdout",
          "text": [
            "Mounted at /content/drive\n"
          ]
        }
      ]
    },
    {
      "cell_type": "code",
      "metadata": {
        "colab": {
          "base_uri": "https://localhost:8080/"
        },
        "id": "TsL2JG8x7vBe",
        "outputId": "f9e09ce7-bdc2-4fc2-82a7-eae340a60228"
      },
      "source": [
        "#getting information on the dataframe\n",
        "df.info()"
      ],
      "execution_count": 5,
      "outputs": [
        {
          "output_type": "stream",
          "name": "stdout",
          "text": [
            "<class 'pandas.core.frame.DataFrame'>\n",
            "RangeIndex: 1464 entries, 0 to 1463\n",
            "Data columns (total 27 columns):\n",
            " #   Column        Non-Null Count  Dtype  \n",
            "---  ------        --------------  -----  \n",
            " 0   supermarket   1463 non-null   object \n",
            " 1   no_of_items   1464 non-null   int64  \n",
            " 2   variation     1464 non-null   int64  \n",
            " 3   total         1464 non-null   float64\n",
            " 4   paid          1464 non-null   int64  \n",
            " 5   change        1464 non-null   float64\n",
            " 6   type          1464 non-null   object \n",
            " 7   food          1464 non-null   object \n",
            " 8   snack         1464 non-null   object \n",
            " 9   beverage      1464 non-null   object \n",
            " 10  consumables   1464 non-null   object \n",
            " 11  high_end      1464 non-null   object \n",
            " 12  asset         1464 non-null   object \n",
            " 13  fixed_asset   1464 non-null   object \n",
            " 14  date          1464 non-null   object \n",
            " 15  mall          1464 non-null   object \n",
            " 16  time          1464 non-null   object \n",
            " 17  time_type     1464 non-null   object \n",
            " 18  type_market   1464 non-null   object \n",
            " 19  location      1464 non-null   object \n",
            " 20  loc_category  1464 non-null   object \n",
            " 21  day           1464 non-null   object \n",
            " 22  day_type      1464 non-null   object \n",
            " 23  24hr          1464 non-null   object \n",
            " 24  day.1         1464 non-null   object \n",
            " 25  month         1464 non-null   int64  \n",
            " 26  year          1462 non-null   float64\n",
            "dtypes: float64(3), int64(4), object(20)\n",
            "memory usage: 308.9+ KB\n"
          ]
        }
      ]
    },
    {
      "cell_type": "code",
      "metadata": {
        "colab": {
          "base_uri": "https://localhost:8080/"
        },
        "id": "3H-uhxSt77Z7",
        "outputId": "05508984-4dbc-455e-afa2-e1ebb48e0065"
      },
      "source": [
        "#to get the number of rows and columns respectively\n",
        "df.shape"
      ],
      "execution_count": 6,
      "outputs": [
        {
          "output_type": "execute_result",
          "data": {
            "text/plain": [
              "(1464, 27)"
            ]
          },
          "metadata": {},
          "execution_count": 6
        }
      ]
    },
    {
      "cell_type": "markdown",
      "metadata": {
        "id": "kS2yH8q3BQoF"
      },
      "source": [
        "## **DATA CLEANING**\n",
        "Cleaning and transforming raw data prior to processing and analysis\n"
      ]
    },
    {
      "cell_type": "code",
      "metadata": {
        "colab": {
          "base_uri": "https://localhost:8080/"
        },
        "id": "T35r-pP7mn0q",
        "outputId": "a7a2b815-5cb2-43f6-a524-554d531398a0"
      },
      "source": [
        "#to check null values in the DataFrame\n",
        "df.isnull().sum().any()"
      ],
      "execution_count": 7,
      "outputs": [
        {
          "output_type": "execute_result",
          "data": {
            "text/plain": [
              "True"
            ]
          },
          "metadata": {},
          "execution_count": 7
        }
      ]
    },
    {
      "cell_type": "code",
      "metadata": {
        "id": "VU6LiW4-Gg3F",
        "colab": {
          "base_uri": "https://localhost:8080/"
        },
        "outputId": "15ca8742-ddde-48f9-f231-2446c63a38a3"
      },
      "source": [
        "#show no of duplicates\n",
        "df.duplicated().sum()"
      ],
      "execution_count": 8,
      "outputs": [
        {
          "output_type": "execute_result",
          "data": {
            "text/plain": [
              "23"
            ]
          },
          "metadata": {},
          "execution_count": 8
        }
      ]
    },
    {
      "cell_type": "code",
      "metadata": {
        "id": "FSvlCyfymoGZ",
        "colab": {
          "base_uri": "https://localhost:8080/"
        },
        "outputId": "2f1dc0ce-ec73-4911-92cd-66550ea5985d"
      },
      "source": [
        "#checking for duplicates\n",
        "#dropping the duplicates, keeping the first records\n",
        "df.duplicated(subset=None, keep='first')"
      ],
      "execution_count": 9,
      "outputs": [
        {
          "output_type": "execute_result",
          "data": {
            "text/plain": [
              "0       False\n",
              "1       False\n",
              "2       False\n",
              "3       False\n",
              "4       False\n",
              "        ...  \n",
              "1459    False\n",
              "1460    False\n",
              "1461    False\n",
              "1462    False\n",
              "1463    False\n",
              "Length: 1464, dtype: bool"
            ]
          },
          "metadata": {},
          "execution_count": 9
        }
      ]
    },
    {
      "cell_type": "code",
      "metadata": {
        "colab": {
          "base_uri": "https://localhost:8080/",
          "height": 163
        },
        "id": "nuGWLqN8BiJB",
        "outputId": "8c21c20a-9140-46c1-983d-02c8d8fe14d6"
      },
      "source": [
        "#null values were droppe sice non e of their columns had any records\n",
        "df.dropna()\n",
        "df.head(3)"
      ],
      "execution_count": 10,
      "outputs": [
        {
          "output_type": "execute_result",
          "data": {
            "text/html": [
              "<div>\n",
              "<style scoped>\n",
              "    .dataframe tbody tr th:only-of-type {\n",
              "        vertical-align: middle;\n",
              "    }\n",
              "\n",
              "    .dataframe tbody tr th {\n",
              "        vertical-align: top;\n",
              "    }\n",
              "\n",
              "    .dataframe thead th {\n",
              "        text-align: right;\n",
              "    }\n",
              "</style>\n",
              "<table border=\"1\" class=\"dataframe\">\n",
              "  <thead>\n",
              "    <tr style=\"text-align: right;\">\n",
              "      <th></th>\n",
              "      <th>supermarket</th>\n",
              "      <th>no_of_items</th>\n",
              "      <th>variation</th>\n",
              "      <th>total</th>\n",
              "      <th>paid</th>\n",
              "      <th>change</th>\n",
              "      <th>type</th>\n",
              "      <th>food</th>\n",
              "      <th>snack</th>\n",
              "      <th>beverage</th>\n",
              "      <th>consumables</th>\n",
              "      <th>high_end</th>\n",
              "      <th>asset</th>\n",
              "      <th>fixed_asset</th>\n",
              "      <th>date</th>\n",
              "      <th>mall</th>\n",
              "      <th>time</th>\n",
              "      <th>time_type</th>\n",
              "      <th>type_market</th>\n",
              "      <th>location</th>\n",
              "      <th>loc_category</th>\n",
              "      <th>day</th>\n",
              "      <th>day_type</th>\n",
              "      <th>24hr</th>\n",
              "      <th>day.1</th>\n",
              "      <th>month</th>\n",
              "      <th>year</th>\n",
              "    </tr>\n",
              "  </thead>\n",
              "  <tbody>\n",
              "    <tr>\n",
              "      <th>0</th>\n",
              "      <td>acacia</td>\n",
              "      <td>1</td>\n",
              "      <td>1</td>\n",
              "      <td>90.0</td>\n",
              "      <td>100</td>\n",
              "      <td>10.0</td>\n",
              "      <td>cash</td>\n",
              "      <td>yes</td>\n",
              "      <td>no</td>\n",
              "      <td>no</td>\n",
              "      <td>no</td>\n",
              "      <td>no</td>\n",
              "      <td>no</td>\n",
              "      <td>no</td>\n",
              "      <td>20/05/2017</td>\n",
              "      <td>no</td>\n",
              "      <td>19:33</td>\n",
              "      <td>night</td>\n",
              "      <td>small</td>\n",
              "      <td>saika</td>\n",
              "      <td>mid</td>\n",
              "      <td>saturday</td>\n",
              "      <td>weekend</td>\n",
              "      <td>no</td>\n",
              "      <td>20</td>\n",
              "      <td>5</td>\n",
              "      <td>2017.0</td>\n",
              "    </tr>\n",
              "    <tr>\n",
              "      <th>1</th>\n",
              "      <td>acacia</td>\n",
              "      <td>1</td>\n",
              "      <td>1</td>\n",
              "      <td>90.0</td>\n",
              "      <td>500</td>\n",
              "      <td>410.0</td>\n",
              "      <td>cash</td>\n",
              "      <td>yes</td>\n",
              "      <td>no</td>\n",
              "      <td>no</td>\n",
              "      <td>no</td>\n",
              "      <td>no</td>\n",
              "      <td>no</td>\n",
              "      <td>no</td>\n",
              "      <td>20/05/2017</td>\n",
              "      <td>no</td>\n",
              "      <td>19:12</td>\n",
              "      <td>night</td>\n",
              "      <td>small</td>\n",
              "      <td>saika</td>\n",
              "      <td>mid</td>\n",
              "      <td>saturday</td>\n",
              "      <td>weekend</td>\n",
              "      <td>no</td>\n",
              "      <td>20</td>\n",
              "      <td>5</td>\n",
              "      <td>2017.0</td>\n",
              "    </tr>\n",
              "    <tr>\n",
              "      <th>2</th>\n",
              "      <td>acacia</td>\n",
              "      <td>3</td>\n",
              "      <td>1</td>\n",
              "      <td>270.0</td>\n",
              "      <td>300</td>\n",
              "      <td>30.0</td>\n",
              "      <td>cash</td>\n",
              "      <td>yes</td>\n",
              "      <td>no</td>\n",
              "      <td>no</td>\n",
              "      <td>no</td>\n",
              "      <td>no</td>\n",
              "      <td>no</td>\n",
              "      <td>no</td>\n",
              "      <td>20/05/2017</td>\n",
              "      <td>no</td>\n",
              "      <td>19:16</td>\n",
              "      <td>night</td>\n",
              "      <td>small</td>\n",
              "      <td>saika</td>\n",
              "      <td>mid</td>\n",
              "      <td>saturday</td>\n",
              "      <td>weekend</td>\n",
              "      <td>no</td>\n",
              "      <td>20</td>\n",
              "      <td>5</td>\n",
              "      <td>2017.0</td>\n",
              "    </tr>\n",
              "  </tbody>\n",
              "</table>\n",
              "</div>"
            ],
            "text/plain": [
              "  supermarket  no_of_items  variation  total  ...  24hr  day.1 month    year\n",
              "0      acacia            1          1   90.0  ...    no     20     5  2017.0\n",
              "1      acacia            1          1   90.0  ...    no     20     5  2017.0\n",
              "2      acacia            3          1  270.0  ...    no     20     5  2017.0\n",
              "\n",
              "[3 rows x 27 columns]"
            ]
          },
          "metadata": {},
          "execution_count": 10
        }
      ]
    },
    {
      "cell_type": "code",
      "metadata": {
        "colab": {
          "base_uri": "https://localhost:8080/",
          "height": 226
        },
        "id": "zQYCln4LmoBw",
        "outputId": "c0c625c3-46f6-4371-bccc-2abc4fa6c503"
      },
      "source": [
        "#to review the cleaned dataframe\n",
        "df.head()"
      ],
      "execution_count": 11,
      "outputs": [
        {
          "output_type": "execute_result",
          "data": {
            "text/html": [
              "<div>\n",
              "<style scoped>\n",
              "    .dataframe tbody tr th:only-of-type {\n",
              "        vertical-align: middle;\n",
              "    }\n",
              "\n",
              "    .dataframe tbody tr th {\n",
              "        vertical-align: top;\n",
              "    }\n",
              "\n",
              "    .dataframe thead th {\n",
              "        text-align: right;\n",
              "    }\n",
              "</style>\n",
              "<table border=\"1\" class=\"dataframe\">\n",
              "  <thead>\n",
              "    <tr style=\"text-align: right;\">\n",
              "      <th></th>\n",
              "      <th>supermarket</th>\n",
              "      <th>no_of_items</th>\n",
              "      <th>variation</th>\n",
              "      <th>total</th>\n",
              "      <th>paid</th>\n",
              "      <th>change</th>\n",
              "      <th>type</th>\n",
              "      <th>food</th>\n",
              "      <th>snack</th>\n",
              "      <th>beverage</th>\n",
              "      <th>consumables</th>\n",
              "      <th>high_end</th>\n",
              "      <th>asset</th>\n",
              "      <th>fixed_asset</th>\n",
              "      <th>date</th>\n",
              "      <th>mall</th>\n",
              "      <th>time</th>\n",
              "      <th>time_type</th>\n",
              "      <th>type_market</th>\n",
              "      <th>location</th>\n",
              "      <th>loc_category</th>\n",
              "      <th>day</th>\n",
              "      <th>day_type</th>\n",
              "      <th>24hr</th>\n",
              "      <th>day.1</th>\n",
              "      <th>month</th>\n",
              "      <th>year</th>\n",
              "    </tr>\n",
              "  </thead>\n",
              "  <tbody>\n",
              "    <tr>\n",
              "      <th>0</th>\n",
              "      <td>acacia</td>\n",
              "      <td>1</td>\n",
              "      <td>1</td>\n",
              "      <td>90.0</td>\n",
              "      <td>100</td>\n",
              "      <td>10.0</td>\n",
              "      <td>cash</td>\n",
              "      <td>yes</td>\n",
              "      <td>no</td>\n",
              "      <td>no</td>\n",
              "      <td>no</td>\n",
              "      <td>no</td>\n",
              "      <td>no</td>\n",
              "      <td>no</td>\n",
              "      <td>20/05/2017</td>\n",
              "      <td>no</td>\n",
              "      <td>19:33</td>\n",
              "      <td>night</td>\n",
              "      <td>small</td>\n",
              "      <td>saika</td>\n",
              "      <td>mid</td>\n",
              "      <td>saturday</td>\n",
              "      <td>weekend</td>\n",
              "      <td>no</td>\n",
              "      <td>20</td>\n",
              "      <td>5</td>\n",
              "      <td>2017.0</td>\n",
              "    </tr>\n",
              "    <tr>\n",
              "      <th>1</th>\n",
              "      <td>acacia</td>\n",
              "      <td>1</td>\n",
              "      <td>1</td>\n",
              "      <td>90.0</td>\n",
              "      <td>500</td>\n",
              "      <td>410.0</td>\n",
              "      <td>cash</td>\n",
              "      <td>yes</td>\n",
              "      <td>no</td>\n",
              "      <td>no</td>\n",
              "      <td>no</td>\n",
              "      <td>no</td>\n",
              "      <td>no</td>\n",
              "      <td>no</td>\n",
              "      <td>20/05/2017</td>\n",
              "      <td>no</td>\n",
              "      <td>19:12</td>\n",
              "      <td>night</td>\n",
              "      <td>small</td>\n",
              "      <td>saika</td>\n",
              "      <td>mid</td>\n",
              "      <td>saturday</td>\n",
              "      <td>weekend</td>\n",
              "      <td>no</td>\n",
              "      <td>20</td>\n",
              "      <td>5</td>\n",
              "      <td>2017.0</td>\n",
              "    </tr>\n",
              "    <tr>\n",
              "      <th>2</th>\n",
              "      <td>acacia</td>\n",
              "      <td>3</td>\n",
              "      <td>1</td>\n",
              "      <td>270.0</td>\n",
              "      <td>300</td>\n",
              "      <td>30.0</td>\n",
              "      <td>cash</td>\n",
              "      <td>yes</td>\n",
              "      <td>no</td>\n",
              "      <td>no</td>\n",
              "      <td>no</td>\n",
              "      <td>no</td>\n",
              "      <td>no</td>\n",
              "      <td>no</td>\n",
              "      <td>20/05/2017</td>\n",
              "      <td>no</td>\n",
              "      <td>19:16</td>\n",
              "      <td>night</td>\n",
              "      <td>small</td>\n",
              "      <td>saika</td>\n",
              "      <td>mid</td>\n",
              "      <td>saturday</td>\n",
              "      <td>weekend</td>\n",
              "      <td>no</td>\n",
              "      <td>20</td>\n",
              "      <td>5</td>\n",
              "      <td>2017.0</td>\n",
              "    </tr>\n",
              "    <tr>\n",
              "      <th>3</th>\n",
              "      <td>acacia</td>\n",
              "      <td>3</td>\n",
              "      <td>1</td>\n",
              "      <td>137.0</td>\n",
              "      <td>200</td>\n",
              "      <td>63.0</td>\n",
              "      <td>cash</td>\n",
              "      <td>yes</td>\n",
              "      <td>no</td>\n",
              "      <td>no</td>\n",
              "      <td>no</td>\n",
              "      <td>no</td>\n",
              "      <td>no</td>\n",
              "      <td>no</td>\n",
              "      <td>20/05/2017</td>\n",
              "      <td>no</td>\n",
              "      <td>19:12</td>\n",
              "      <td>night</td>\n",
              "      <td>small</td>\n",
              "      <td>saika</td>\n",
              "      <td>mid</td>\n",
              "      <td>saturday</td>\n",
              "      <td>weekend</td>\n",
              "      <td>no</td>\n",
              "      <td>20</td>\n",
              "      <td>5</td>\n",
              "      <td>2017.0</td>\n",
              "    </tr>\n",
              "    <tr>\n",
              "      <th>4</th>\n",
              "      <td>acacia</td>\n",
              "      <td>1</td>\n",
              "      <td>1</td>\n",
              "      <td>75.0</td>\n",
              "      <td>80</td>\n",
              "      <td>5.0</td>\n",
              "      <td>cash</td>\n",
              "      <td>yes</td>\n",
              "      <td>no</td>\n",
              "      <td>no</td>\n",
              "      <td>no</td>\n",
              "      <td>no</td>\n",
              "      <td>no</td>\n",
              "      <td>no</td>\n",
              "      <td>20/05/2017</td>\n",
              "      <td>no</td>\n",
              "      <td>18:31</td>\n",
              "      <td>afternoon</td>\n",
              "      <td>small</td>\n",
              "      <td>saika</td>\n",
              "      <td>mid</td>\n",
              "      <td>saturday</td>\n",
              "      <td>weekend</td>\n",
              "      <td>no</td>\n",
              "      <td>20</td>\n",
              "      <td>5</td>\n",
              "      <td>2017.0</td>\n",
              "    </tr>\n",
              "  </tbody>\n",
              "</table>\n",
              "</div>"
            ],
            "text/plain": [
              "  supermarket  no_of_items  variation  total  ...  24hr  day.1 month    year\n",
              "0      acacia            1          1   90.0  ...    no     20     5  2017.0\n",
              "1      acacia            1          1   90.0  ...    no     20     5  2017.0\n",
              "2      acacia            3          1  270.0  ...    no     20     5  2017.0\n",
              "3      acacia            3          1  137.0  ...    no     20     5  2017.0\n",
              "4      acacia            1          1   75.0  ...    no     20     5  2017.0\n",
              "\n",
              "[5 rows x 27 columns]"
            ]
          },
          "metadata": {},
          "execution_count": 11
        }
      ]
    },
    {
      "cell_type": "code",
      "metadata": {
        "id": "jz9-OViimoTT",
        "colab": {
          "base_uri": "https://localhost:8080/",
          "height": 557
        },
        "outputId": "05ec29e8-2de2-48a7-d9c6-f20b99fb382a"
      },
      "source": [
        "#First to change the dtype date and time column from \n",
        "df['date'] = df['date'].astype(str)\n",
        "df['time'] = df['time'].astype(str)\n",
        "\n",
        "\n",
        "#combining the  day, month and year column to form a date column\n",
        "df['Date_Time'] = df[['date', 'time']].agg(' '.join, axis=1)\n",
        "df.head(10)"
      ],
      "execution_count": 12,
      "outputs": [
        {
          "output_type": "execute_result",
          "data": {
            "text/html": [
              "<div>\n",
              "<style scoped>\n",
              "    .dataframe tbody tr th:only-of-type {\n",
              "        vertical-align: middle;\n",
              "    }\n",
              "\n",
              "    .dataframe tbody tr th {\n",
              "        vertical-align: top;\n",
              "    }\n",
              "\n",
              "    .dataframe thead th {\n",
              "        text-align: right;\n",
              "    }\n",
              "</style>\n",
              "<table border=\"1\" class=\"dataframe\">\n",
              "  <thead>\n",
              "    <tr style=\"text-align: right;\">\n",
              "      <th></th>\n",
              "      <th>supermarket</th>\n",
              "      <th>no_of_items</th>\n",
              "      <th>variation</th>\n",
              "      <th>total</th>\n",
              "      <th>paid</th>\n",
              "      <th>change</th>\n",
              "      <th>type</th>\n",
              "      <th>food</th>\n",
              "      <th>snack</th>\n",
              "      <th>beverage</th>\n",
              "      <th>consumables</th>\n",
              "      <th>high_end</th>\n",
              "      <th>asset</th>\n",
              "      <th>fixed_asset</th>\n",
              "      <th>date</th>\n",
              "      <th>mall</th>\n",
              "      <th>time</th>\n",
              "      <th>time_type</th>\n",
              "      <th>type_market</th>\n",
              "      <th>location</th>\n",
              "      <th>loc_category</th>\n",
              "      <th>day</th>\n",
              "      <th>day_type</th>\n",
              "      <th>24hr</th>\n",
              "      <th>day.1</th>\n",
              "      <th>month</th>\n",
              "      <th>year</th>\n",
              "      <th>Date_Time</th>\n",
              "    </tr>\n",
              "  </thead>\n",
              "  <tbody>\n",
              "    <tr>\n",
              "      <th>0</th>\n",
              "      <td>acacia</td>\n",
              "      <td>1</td>\n",
              "      <td>1</td>\n",
              "      <td>90.0</td>\n",
              "      <td>100</td>\n",
              "      <td>10.0</td>\n",
              "      <td>cash</td>\n",
              "      <td>yes</td>\n",
              "      <td>no</td>\n",
              "      <td>no</td>\n",
              "      <td>no</td>\n",
              "      <td>no</td>\n",
              "      <td>no</td>\n",
              "      <td>no</td>\n",
              "      <td>20/05/2017</td>\n",
              "      <td>no</td>\n",
              "      <td>19:33</td>\n",
              "      <td>night</td>\n",
              "      <td>small</td>\n",
              "      <td>saika</td>\n",
              "      <td>mid</td>\n",
              "      <td>saturday</td>\n",
              "      <td>weekend</td>\n",
              "      <td>no</td>\n",
              "      <td>20</td>\n",
              "      <td>5</td>\n",
              "      <td>2017.0</td>\n",
              "      <td>20/05/2017 19:33</td>\n",
              "    </tr>\n",
              "    <tr>\n",
              "      <th>1</th>\n",
              "      <td>acacia</td>\n",
              "      <td>1</td>\n",
              "      <td>1</td>\n",
              "      <td>90.0</td>\n",
              "      <td>500</td>\n",
              "      <td>410.0</td>\n",
              "      <td>cash</td>\n",
              "      <td>yes</td>\n",
              "      <td>no</td>\n",
              "      <td>no</td>\n",
              "      <td>no</td>\n",
              "      <td>no</td>\n",
              "      <td>no</td>\n",
              "      <td>no</td>\n",
              "      <td>20/05/2017</td>\n",
              "      <td>no</td>\n",
              "      <td>19:12</td>\n",
              "      <td>night</td>\n",
              "      <td>small</td>\n",
              "      <td>saika</td>\n",
              "      <td>mid</td>\n",
              "      <td>saturday</td>\n",
              "      <td>weekend</td>\n",
              "      <td>no</td>\n",
              "      <td>20</td>\n",
              "      <td>5</td>\n",
              "      <td>2017.0</td>\n",
              "      <td>20/05/2017 19:12</td>\n",
              "    </tr>\n",
              "    <tr>\n",
              "      <th>2</th>\n",
              "      <td>acacia</td>\n",
              "      <td>3</td>\n",
              "      <td>1</td>\n",
              "      <td>270.0</td>\n",
              "      <td>300</td>\n",
              "      <td>30.0</td>\n",
              "      <td>cash</td>\n",
              "      <td>yes</td>\n",
              "      <td>no</td>\n",
              "      <td>no</td>\n",
              "      <td>no</td>\n",
              "      <td>no</td>\n",
              "      <td>no</td>\n",
              "      <td>no</td>\n",
              "      <td>20/05/2017</td>\n",
              "      <td>no</td>\n",
              "      <td>19:16</td>\n",
              "      <td>night</td>\n",
              "      <td>small</td>\n",
              "      <td>saika</td>\n",
              "      <td>mid</td>\n",
              "      <td>saturday</td>\n",
              "      <td>weekend</td>\n",
              "      <td>no</td>\n",
              "      <td>20</td>\n",
              "      <td>5</td>\n",
              "      <td>2017.0</td>\n",
              "      <td>20/05/2017 19:16</td>\n",
              "    </tr>\n",
              "    <tr>\n",
              "      <th>3</th>\n",
              "      <td>acacia</td>\n",
              "      <td>3</td>\n",
              "      <td>1</td>\n",
              "      <td>137.0</td>\n",
              "      <td>200</td>\n",
              "      <td>63.0</td>\n",
              "      <td>cash</td>\n",
              "      <td>yes</td>\n",
              "      <td>no</td>\n",
              "      <td>no</td>\n",
              "      <td>no</td>\n",
              "      <td>no</td>\n",
              "      <td>no</td>\n",
              "      <td>no</td>\n",
              "      <td>20/05/2017</td>\n",
              "      <td>no</td>\n",
              "      <td>19:12</td>\n",
              "      <td>night</td>\n",
              "      <td>small</td>\n",
              "      <td>saika</td>\n",
              "      <td>mid</td>\n",
              "      <td>saturday</td>\n",
              "      <td>weekend</td>\n",
              "      <td>no</td>\n",
              "      <td>20</td>\n",
              "      <td>5</td>\n",
              "      <td>2017.0</td>\n",
              "      <td>20/05/2017 19:12</td>\n",
              "    </tr>\n",
              "    <tr>\n",
              "      <th>4</th>\n",
              "      <td>acacia</td>\n",
              "      <td>1</td>\n",
              "      <td>1</td>\n",
              "      <td>75.0</td>\n",
              "      <td>80</td>\n",
              "      <td>5.0</td>\n",
              "      <td>cash</td>\n",
              "      <td>yes</td>\n",
              "      <td>no</td>\n",
              "      <td>no</td>\n",
              "      <td>no</td>\n",
              "      <td>no</td>\n",
              "      <td>no</td>\n",
              "      <td>no</td>\n",
              "      <td>20/05/2017</td>\n",
              "      <td>no</td>\n",
              "      <td>18:31</td>\n",
              "      <td>afternoon</td>\n",
              "      <td>small</td>\n",
              "      <td>saika</td>\n",
              "      <td>mid</td>\n",
              "      <td>saturday</td>\n",
              "      <td>weekend</td>\n",
              "      <td>no</td>\n",
              "      <td>20</td>\n",
              "      <td>5</td>\n",
              "      <td>2017.0</td>\n",
              "      <td>20/05/2017 18:31</td>\n",
              "    </tr>\n",
              "    <tr>\n",
              "      <th>5</th>\n",
              "      <td>nakumatt</td>\n",
              "      <td>22</td>\n",
              "      <td>3</td>\n",
              "      <td>5611.0</td>\n",
              "      <td>5611</td>\n",
              "      <td>0.0</td>\n",
              "      <td>card</td>\n",
              "      <td>yes</td>\n",
              "      <td>no</td>\n",
              "      <td>no</td>\n",
              "      <td>yes</td>\n",
              "      <td>yes</td>\n",
              "      <td>no</td>\n",
              "      <td>no</td>\n",
              "      <td>24/12/2016</td>\n",
              "      <td>no</td>\n",
              "      <td>16:26</td>\n",
              "      <td>afternoon</td>\n",
              "      <td>chain</td>\n",
              "      <td>cbd</td>\n",
              "      <td>mid</td>\n",
              "      <td>wednesday</td>\n",
              "      <td>weekday</td>\n",
              "      <td>yes</td>\n",
              "      <td>24</td>\n",
              "      <td>12</td>\n",
              "      <td>2016.0</td>\n",
              "      <td>24/12/2016 16:26</td>\n",
              "    </tr>\n",
              "    <tr>\n",
              "      <th>6</th>\n",
              "      <td>acacia</td>\n",
              "      <td>1</td>\n",
              "      <td>1</td>\n",
              "      <td>55.0</td>\n",
              "      <td>100</td>\n",
              "      <td>45.0</td>\n",
              "      <td>cash</td>\n",
              "      <td>yes</td>\n",
              "      <td>no</td>\n",
              "      <td>no</td>\n",
              "      <td>no</td>\n",
              "      <td>no</td>\n",
              "      <td>no</td>\n",
              "      <td>no</td>\n",
              "      <td>20/05/2017</td>\n",
              "      <td>no</td>\n",
              "      <td>18:23</td>\n",
              "      <td>afternoon</td>\n",
              "      <td>small</td>\n",
              "      <td>saika</td>\n",
              "      <td>mid</td>\n",
              "      <td>saturday</td>\n",
              "      <td>weekend</td>\n",
              "      <td>no</td>\n",
              "      <td>20</td>\n",
              "      <td>5</td>\n",
              "      <td>2017.0</td>\n",
              "      <td>20/05/2017 18:23</td>\n",
              "    </tr>\n",
              "    <tr>\n",
              "      <th>7</th>\n",
              "      <td>chandarana</td>\n",
              "      <td>32</td>\n",
              "      <td>3</td>\n",
              "      <td>7955.0</td>\n",
              "      <td>7955</td>\n",
              "      <td>0.0</td>\n",
              "      <td>mpesa</td>\n",
              "      <td>yes</td>\n",
              "      <td>no</td>\n",
              "      <td>no</td>\n",
              "      <td>yes</td>\n",
              "      <td>yes</td>\n",
              "      <td>no</td>\n",
              "      <td>no</td>\n",
              "      <td>03/01/2017</td>\n",
              "      <td>yes</td>\n",
              "      <td>19:03</td>\n",
              "      <td>night</td>\n",
              "      <td>median</td>\n",
              "      <td>yaya</td>\n",
              "      <td>high</td>\n",
              "      <td>tuesday</td>\n",
              "      <td>weekday</td>\n",
              "      <td>no</td>\n",
              "      <td>3</td>\n",
              "      <td>1</td>\n",
              "      <td>2017.0</td>\n",
              "      <td>03/01/2017 19:03</td>\n",
              "    </tr>\n",
              "    <tr>\n",
              "      <th>8</th>\n",
              "      <td>nakumatt</td>\n",
              "      <td>1</td>\n",
              "      <td>1</td>\n",
              "      <td>780.0</td>\n",
              "      <td>1000</td>\n",
              "      <td>220.0</td>\n",
              "      <td>cash</td>\n",
              "      <td>no</td>\n",
              "      <td>no</td>\n",
              "      <td>no</td>\n",
              "      <td>yes</td>\n",
              "      <td>no</td>\n",
              "      <td>no</td>\n",
              "      <td>no</td>\n",
              "      <td>27/03/2017</td>\n",
              "      <td>yes</td>\n",
              "      <td>19:34</td>\n",
              "      <td>night</td>\n",
              "      <td>chain</td>\n",
              "      <td>kilimani</td>\n",
              "      <td>high</td>\n",
              "      <td>monday</td>\n",
              "      <td>weekday</td>\n",
              "      <td>no</td>\n",
              "      <td>27</td>\n",
              "      <td>3</td>\n",
              "      <td>2017.0</td>\n",
              "      <td>27/03/2017 19:34</td>\n",
              "    </tr>\n",
              "    <tr>\n",
              "      <th>9</th>\n",
              "      <td>acacia</td>\n",
              "      <td>1</td>\n",
              "      <td>1</td>\n",
              "      <td>235.0</td>\n",
              "      <td>500</td>\n",
              "      <td>265.0</td>\n",
              "      <td>cash</td>\n",
              "      <td>no</td>\n",
              "      <td>no</td>\n",
              "      <td>no</td>\n",
              "      <td>yes</td>\n",
              "      <td>no</td>\n",
              "      <td>no</td>\n",
              "      <td>no</td>\n",
              "      <td>15/05/2017</td>\n",
              "      <td>no</td>\n",
              "      <td>14:06</td>\n",
              "      <td>afternoon</td>\n",
              "      <td>small</td>\n",
              "      <td>saika</td>\n",
              "      <td>mid</td>\n",
              "      <td>monday</td>\n",
              "      <td>weekday</td>\n",
              "      <td>no</td>\n",
              "      <td>15</td>\n",
              "      <td>5</td>\n",
              "      <td>2017.0</td>\n",
              "      <td>15/05/2017 14:06</td>\n",
              "    </tr>\n",
              "  </tbody>\n",
              "</table>\n",
              "</div>"
            ],
            "text/plain": [
              "  supermarket  no_of_items  variation  ...  month    year         Date_Time\n",
              "0      acacia            1          1  ...      5  2017.0  20/05/2017 19:33\n",
              "1      acacia            1          1  ...      5  2017.0  20/05/2017 19:12\n",
              "2      acacia            3          1  ...      5  2017.0  20/05/2017 19:16\n",
              "3      acacia            3          1  ...      5  2017.0  20/05/2017 19:12\n",
              "4      acacia            1          1  ...      5  2017.0  20/05/2017 18:31\n",
              "5    nakumatt           22          3  ...     12  2016.0  24/12/2016 16:26\n",
              "6      acacia            1          1  ...      5  2017.0  20/05/2017 18:23\n",
              "7  chandarana           32          3  ...      1  2017.0  03/01/2017 19:03\n",
              "8    nakumatt            1          1  ...      3  2017.0  27/03/2017 19:34\n",
              "9      acacia            1          1  ...      5  2017.0  15/05/2017 14:06\n",
              "\n",
              "[10 rows x 28 columns]"
            ]
          },
          "metadata": {},
          "execution_count": 12
        }
      ]
    },
    {
      "cell_type": "code",
      "metadata": {
        "colab": {
          "base_uri": "https://localhost:8080/",
          "height": 313
        },
        "id": "3XR-beb9CQF-",
        "outputId": "52e20bfb-1670-493f-c47e-4f5d5b6d397a"
      },
      "source": [
        "##To drop the separate date and time columns\n",
        "#Unnamed: 27 was an empty column with no data\n",
        "df_cleaned = df.drop(['date', 'time'], axis = 1)\n",
        "df_cleaned.head(5)"
      ],
      "execution_count": 15,
      "outputs": [
        {
          "output_type": "execute_result",
          "data": {
            "text/html": [
              "<div>\n",
              "<style scoped>\n",
              "    .dataframe tbody tr th:only-of-type {\n",
              "        vertical-align: middle;\n",
              "    }\n",
              "\n",
              "    .dataframe tbody tr th {\n",
              "        vertical-align: top;\n",
              "    }\n",
              "\n",
              "    .dataframe thead th {\n",
              "        text-align: right;\n",
              "    }\n",
              "</style>\n",
              "<table border=\"1\" class=\"dataframe\">\n",
              "  <thead>\n",
              "    <tr style=\"text-align: right;\">\n",
              "      <th></th>\n",
              "      <th>supermarket</th>\n",
              "      <th>no_of_items</th>\n",
              "      <th>variation</th>\n",
              "      <th>total</th>\n",
              "      <th>paid</th>\n",
              "      <th>change</th>\n",
              "      <th>type</th>\n",
              "      <th>food</th>\n",
              "      <th>snack</th>\n",
              "      <th>beverage</th>\n",
              "      <th>consumables</th>\n",
              "      <th>high_end</th>\n",
              "      <th>asset</th>\n",
              "      <th>fixed_asset</th>\n",
              "      <th>mall</th>\n",
              "      <th>time_type</th>\n",
              "      <th>type_market</th>\n",
              "      <th>location</th>\n",
              "      <th>loc_category</th>\n",
              "      <th>day</th>\n",
              "      <th>day_type</th>\n",
              "      <th>24hr</th>\n",
              "      <th>day.1</th>\n",
              "      <th>month</th>\n",
              "      <th>year</th>\n",
              "      <th>Date_Time</th>\n",
              "    </tr>\n",
              "  </thead>\n",
              "  <tbody>\n",
              "    <tr>\n",
              "      <th>0</th>\n",
              "      <td>acacia</td>\n",
              "      <td>1</td>\n",
              "      <td>1</td>\n",
              "      <td>90.0</td>\n",
              "      <td>100</td>\n",
              "      <td>10.0</td>\n",
              "      <td>cash</td>\n",
              "      <td>yes</td>\n",
              "      <td>no</td>\n",
              "      <td>no</td>\n",
              "      <td>no</td>\n",
              "      <td>no</td>\n",
              "      <td>no</td>\n",
              "      <td>no</td>\n",
              "      <td>no</td>\n",
              "      <td>night</td>\n",
              "      <td>small</td>\n",
              "      <td>saika</td>\n",
              "      <td>mid</td>\n",
              "      <td>saturday</td>\n",
              "      <td>weekend</td>\n",
              "      <td>no</td>\n",
              "      <td>20</td>\n",
              "      <td>5</td>\n",
              "      <td>2017.0</td>\n",
              "      <td>20/05/2017 19:33</td>\n",
              "    </tr>\n",
              "    <tr>\n",
              "      <th>1</th>\n",
              "      <td>acacia</td>\n",
              "      <td>1</td>\n",
              "      <td>1</td>\n",
              "      <td>90.0</td>\n",
              "      <td>500</td>\n",
              "      <td>410.0</td>\n",
              "      <td>cash</td>\n",
              "      <td>yes</td>\n",
              "      <td>no</td>\n",
              "      <td>no</td>\n",
              "      <td>no</td>\n",
              "      <td>no</td>\n",
              "      <td>no</td>\n",
              "      <td>no</td>\n",
              "      <td>no</td>\n",
              "      <td>night</td>\n",
              "      <td>small</td>\n",
              "      <td>saika</td>\n",
              "      <td>mid</td>\n",
              "      <td>saturday</td>\n",
              "      <td>weekend</td>\n",
              "      <td>no</td>\n",
              "      <td>20</td>\n",
              "      <td>5</td>\n",
              "      <td>2017.0</td>\n",
              "      <td>20/05/2017 19:12</td>\n",
              "    </tr>\n",
              "    <tr>\n",
              "      <th>2</th>\n",
              "      <td>acacia</td>\n",
              "      <td>3</td>\n",
              "      <td>1</td>\n",
              "      <td>270.0</td>\n",
              "      <td>300</td>\n",
              "      <td>30.0</td>\n",
              "      <td>cash</td>\n",
              "      <td>yes</td>\n",
              "      <td>no</td>\n",
              "      <td>no</td>\n",
              "      <td>no</td>\n",
              "      <td>no</td>\n",
              "      <td>no</td>\n",
              "      <td>no</td>\n",
              "      <td>no</td>\n",
              "      <td>night</td>\n",
              "      <td>small</td>\n",
              "      <td>saika</td>\n",
              "      <td>mid</td>\n",
              "      <td>saturday</td>\n",
              "      <td>weekend</td>\n",
              "      <td>no</td>\n",
              "      <td>20</td>\n",
              "      <td>5</td>\n",
              "      <td>2017.0</td>\n",
              "      <td>20/05/2017 19:16</td>\n",
              "    </tr>\n",
              "    <tr>\n",
              "      <th>3</th>\n",
              "      <td>acacia</td>\n",
              "      <td>3</td>\n",
              "      <td>1</td>\n",
              "      <td>137.0</td>\n",
              "      <td>200</td>\n",
              "      <td>63.0</td>\n",
              "      <td>cash</td>\n",
              "      <td>yes</td>\n",
              "      <td>no</td>\n",
              "      <td>no</td>\n",
              "      <td>no</td>\n",
              "      <td>no</td>\n",
              "      <td>no</td>\n",
              "      <td>no</td>\n",
              "      <td>no</td>\n",
              "      <td>night</td>\n",
              "      <td>small</td>\n",
              "      <td>saika</td>\n",
              "      <td>mid</td>\n",
              "      <td>saturday</td>\n",
              "      <td>weekend</td>\n",
              "      <td>no</td>\n",
              "      <td>20</td>\n",
              "      <td>5</td>\n",
              "      <td>2017.0</td>\n",
              "      <td>20/05/2017 19:12</td>\n",
              "    </tr>\n",
              "    <tr>\n",
              "      <th>4</th>\n",
              "      <td>acacia</td>\n",
              "      <td>1</td>\n",
              "      <td>1</td>\n",
              "      <td>75.0</td>\n",
              "      <td>80</td>\n",
              "      <td>5.0</td>\n",
              "      <td>cash</td>\n",
              "      <td>yes</td>\n",
              "      <td>no</td>\n",
              "      <td>no</td>\n",
              "      <td>no</td>\n",
              "      <td>no</td>\n",
              "      <td>no</td>\n",
              "      <td>no</td>\n",
              "      <td>no</td>\n",
              "      <td>afternoon</td>\n",
              "      <td>small</td>\n",
              "      <td>saika</td>\n",
              "      <td>mid</td>\n",
              "      <td>saturday</td>\n",
              "      <td>weekend</td>\n",
              "      <td>no</td>\n",
              "      <td>20</td>\n",
              "      <td>5</td>\n",
              "      <td>2017.0</td>\n",
              "      <td>20/05/2017 18:31</td>\n",
              "    </tr>\n",
              "  </tbody>\n",
              "</table>\n",
              "</div>"
            ],
            "text/plain": [
              "  supermarket  no_of_items  variation  ...  month    year         Date_Time\n",
              "0      acacia            1          1  ...      5  2017.0  20/05/2017 19:33\n",
              "1      acacia            1          1  ...      5  2017.0  20/05/2017 19:12\n",
              "2      acacia            3          1  ...      5  2017.0  20/05/2017 19:16\n",
              "3      acacia            3          1  ...      5  2017.0  20/05/2017 19:12\n",
              "4      acacia            1          1  ...      5  2017.0  20/05/2017 18:31\n",
              "\n",
              "[5 rows x 26 columns]"
            ]
          },
          "metadata": {},
          "execution_count": 15
        }
      ]
    },
    {
      "cell_type": "markdown",
      "metadata": {
        "id": "-qzbTeVe_SOr"
      },
      "source": [
        "#**DATA ANALYSIS**\n",
        "The data is inspected, transformed, and modelled with the goal of discovering useful information, informing conclusions and supporting decision-making"
      ]
    },
    {
      "cell_type": "code",
      "metadata": {
        "id": "B_CvWJ6dC7pQ",
        "colab": {
          "base_uri": "https://localhost:8080/"
        },
        "outputId": "d9c54f2a-a0e1-4631-fa22-8aba338a7bac"
      },
      "source": [
        "#displaying all the different supermarkets\n",
        "df_cleaned['supermarket'].unique()"
      ],
      "execution_count": 16,
      "outputs": [
        {
          "output_type": "execute_result",
          "data": {
            "text/plain": [
              "array(['acacia', 'nakumatt', 'chandarana', 'tuskys', 'uchumi', 'naivas',\n",
              "       'kamindi', 'karrymart', 'ukwala', 'neema', 'eastmatt', 'kassmart',\n",
              "       'fairway', 'tumaini', 'cleanshelf', nan, 'large neema',\n",
              "       'interstrat', 'zucchini', 'magna', 'Tuskys', 'Naivas',\n",
              "       'Selfridges', 'Eastmatt', 'foodplus'], dtype=object)"
            ]
          },
          "metadata": {},
          "execution_count": 16
        }
      ]
    },
    {
      "cell_type": "code",
      "metadata": {
        "colab": {
          "base_uri": "https://localhost:8080/"
        },
        "id": "3DkP5Yd6XPPn",
        "outputId": "91982b35-038b-4420-b8f5-4d5f20d2f94e"
      },
      "source": [
        "#checking the supermarket records\n",
        "print(df_cleaned['supermarket'].describe())"
      ],
      "execution_count": 17,
      "outputs": [
        {
          "output_type": "stream",
          "name": "stdout",
          "text": [
            "count          1463\n",
            "unique           24\n",
            "top       karrymart\n",
            "freq            520\n",
            "Name: supermarket, dtype: object\n"
          ]
        }
      ]
    },
    {
      "cell_type": "code",
      "metadata": {
        "colab": {
          "base_uri": "https://localhost:8080/"
        },
        "id": "uLK_JdkIXPjg",
        "outputId": "dc387059-da6f-47d5-a4f9-b7f6e125cdf6"
      },
      "source": [
        "#checking how many times each supermarket appears in the dataset\n",
        "df_cleaned['supermarket'].value_counts()"
      ],
      "execution_count": 18,
      "outputs": [
        {
          "output_type": "execute_result",
          "data": {
            "text/plain": [
              "karrymart      520\n",
              "tumaini        268\n",
              "nakumatt       180\n",
              "cleanshelf     128\n",
              "tuskys         126\n",
              "ukwala          56\n",
              "acacia          53\n",
              "naivas          30\n",
              "eastmatt        26\n",
              "Tuskys          16\n",
              "Naivas          15\n",
              "chandarana      12\n",
              "uchumi          10\n",
              "zucchini         4\n",
              "neema            4\n",
              "kamindi          3\n",
              "Eastmatt         2\n",
              "Selfridges       2\n",
              "large neema      2\n",
              "fairway          2\n",
              "kassmart         1\n",
              "foodplus         1\n",
              "interstrat       1\n",
              "magna            1\n",
              "Name: supermarket, dtype: int64"
            ]
          },
          "metadata": {},
          "execution_count": 18
        }
      ]
    },
    {
      "cell_type": "code",
      "metadata": {
        "colab": {
          "base_uri": "https://localhost:8080/",
          "height": 349
        },
        "id": "Areyee8ziISa",
        "outputId": "7a08c635-1dc6-41d0-b2d8-ddb6e4392bc4"
      },
      "source": [
        "import matplotlib.pyplot as plt\n",
        "df_cleaned.plot.bar(x = 'supermarket', y = 'total')"
      ],
      "execution_count": 19,
      "outputs": [
        {
          "output_type": "execute_result",
          "data": {
            "text/plain": [
              "<matplotlib.axes._subplots.AxesSubplot at 0x7f540cfdd390>"
            ]
          },
          "metadata": {},
          "execution_count": 19
        },
        {
          "output_type": "display_data",
          "data": {
            "image/png": "[encoded data removed]",
            "text/plain": [
              "<Figure size 432x288 with 1 Axes>"
            ]
          },
          "metadata": {
            "needs_background": "light"
          }
        }
      ]
    },
    {
      "cell_type": "code",
      "metadata": {
        "colab": {
          "base_uri": "https://localhost:8080/",
          "height": 53
        },
        "id": "zyYsQulpjfCr",
        "outputId": "d829664c-d9bb-4058-dc84-5bad7d3c8810"
      },
      "source": [
        "print(\"The most popular supermarket is: \")\n",
        "#used this method since 'supermarket' column is a string\n",
        "#To find out which supermarket has the most frequency\n",
        "df_cleaned['supermarket'].value_counts(). idxmax()"
      ],
      "execution_count": 20,
      "outputs": [
        {
          "output_type": "stream",
          "name": "stdout",
          "text": [
            "The most popular supermarket is: \n"
          ]
        },
        {
          "output_type": "execute_result",
          "data": {
            "application/vnd.google.colaboratory.intrinsic+json": {
              "type": "string"
            },
            "text/plain": [
              "'karrymart'"
            ]
          },
          "metadata": {},
          "execution_count": 20
        }
      ]
    },
    {
      "cell_type": "markdown",
      "metadata": {
        "id": "xLdzS2Ga8fMV"
      },
      "source": [
        "### **Do shoppers spend more on a weekday at a supermarket retail chain outside a mall?**\n"
      ]
    },
    {
      "cell_type": "code",
      "metadata": {
        "id": "4HSnElBr7lJa"
      },
      "source": [
        "#on weekdays\n",
        "weekday = (df_cleaned['day_type'] == 'weekday')\n",
        "#on weekends condition\n",
        "weekend = (df_cleaned['day_type'] == 'weekend')"
      ],
      "execution_count": 22,
      "outputs": []
    },
    {
      "cell_type": "code",
      "metadata": {
        "id": "a_hvmDGt7aCx"
      },
      "source": [
        "#narrow down to mall data\n",
        "mall = (df_cleaned['mall'] == 'yes')\n",
        "#supermarkets not in malls\n",
        "no_mall = (df_cleaned['mall'] == 'no')"
      ],
      "execution_count": 23,
      "outputs": []
    },
    {
      "cell_type": "code",
      "metadata": {
        "colab": {
          "base_uri": "https://localhost:8080/"
        },
        "id": "N6X5AxT3XPsP",
        "outputId": "12dad548-f238-4275-a6ed-5d3e40e2823e"
      },
      "source": [
        "#finding the total sales for supermarkets in malls on weekdays\n",
        "wd_sales = df_cleaned[weekday & mall]\n",
        "wd_sales['total'].sum()"
      ],
      "execution_count": 24,
      "outputs": [
        {
          "output_type": "execute_result",
          "data": {
            "text/plain": [
              "123331.70999999999"
            ]
          },
          "metadata": {},
          "execution_count": 24
        }
      ]
    },
    {
      "cell_type": "code",
      "metadata": {
        "colab": {
          "base_uri": "https://localhost:8080/"
        },
        "id": "-JExQSPi31Wa",
        "outputId": "251454c7-7480-4a92-c692-77871e61c146"
      },
      "source": [
        "#finding the total sales for supermarkets outside malls on weekdays\n",
        "\n",
        "wkdy_sales = df_cleaned[weekday & no_mall]\n",
        "wkdy_sales['total'].sum()"
      ],
      "execution_count": 25,
      "outputs": [
        {
          "output_type": "execute_result",
          "data": {
            "text/plain": [
              "240746.9"
            ]
          },
          "metadata": {},
          "execution_count": 25
        }
      ]
    },
    {
      "cell_type": "code",
      "metadata": {
        "colab": {
          "base_uri": "https://localhost:8080/"
        },
        "id": "qli47ubfxr_m",
        "outputId": "f48459a5-2cf6-4fef-cefd-df80c4814f1b"
      },
      "source": [
        "#finding the total sales for supermarkets in malls on weekends\n",
        "\n",
        "wknd_sales = df_cleaned[weekend & mall]\n",
        "wknd_sales['total'].sum()"
      ],
      "execution_count": 26,
      "outputs": [
        {
          "output_type": "execute_result",
          "data": {
            "text/plain": [
              "7117.0"
            ]
          },
          "metadata": {},
          "execution_count": 26
        }
      ]
    },
    {
      "cell_type": "code",
      "metadata": {
        "colab": {
          "base_uri": "https://localhost:8080/"
        },
        "id": "gq5Rke_y41vr",
        "outputId": "00c6f305-7b4c-445c-ca72-ef52a3ae323d"
      },
      "source": [
        "#finding the total sales for supermarkets outside malls on weekends\n",
        "\n",
        "wknd = df_cleaned[weekend & no_mall]\n",
        "wknd['total'].sum()"
      ],
      "execution_count": 27,
      "outputs": [
        {
          "output_type": "execute_result",
          "data": {
            "text/plain": [
              "85252.0"
            ]
          },
          "metadata": {},
          "execution_count": 27
        }
      ]
    },
    {
      "cell_type": "markdown",
      "metadata": {
        "id": "Q_bev8aFEO-F"
      },
      "source": [
        "**Supermarkets that were outside malls made more sales on weekdays and weekends as well**"
      ]
    },
    {
      "cell_type": "markdown",
      "metadata": {
        "id": "yV5QSrHR9IlF"
      },
      "source": [
        "## **Did consumers prefer chain, medium or small stores?**\n"
      ]
    },
    {
      "cell_type": "code",
      "metadata": {
        "colab": {
          "base_uri": "https://localhost:8080/"
        },
        "id": "Kvgejly-egsD",
        "outputId": "cfafa695-26c1-4606-f9c1-57a3d463d9c6"
      },
      "source": [
        "#viewing the type of supermarkets and how often they appear\n",
        "#counting the number of values in the type_market column\n",
        "df_cleaned['type_market'].value_counts()\n"
      ],
      "execution_count": 28,
      "outputs": [
        {
          "output_type": "execute_result",
          "data": {
            "text/plain": [
              "chain     1297\n",
              "small      130\n",
              "median      37\n",
              "Name: type_market, dtype: int64"
            ]
          },
          "metadata": {},
          "execution_count": 28
        }
      ]
    },
    {
      "cell_type": "code",
      "metadata": {
        "colab": {
          "base_uri": "https://localhost:8080/",
          "height": 325
        },
        "id": "sp4MI2KXTXE6",
        "outputId": "21fb6ac9-7767-4e5e-bb4f-fc2932c0a7cd"
      },
      "source": [
        "df_cleaned.groupby('type_market').sum().plot(kind = 'bar', y = 'total', title = '')"
      ],
      "execution_count": 35,
      "outputs": [
        {
          "output_type": "execute_result",
          "data": {
            "text/plain": [
              "<matplotlib.axes._subplots.AxesSubplot at 0x7f540c10cd50>"
            ]
          },
          "metadata": {},
          "execution_count": 35
        },
        {
          "output_type": "display_data",
          "data": {
            "image/png": "[encoded data removed]",
            "text/plain": [
              "<Figure size 432x288 with 1 Axes>"
            ]
          },
          "metadata": {
            "needs_background": "light"
          }
        }
      ]
    },
    {
      "cell_type": "code",
      "metadata": {
        "colab": {
          "base_uri": "https://localhost:8080/"
        },
        "id": "SLgiAaEX1cmb",
        "outputId": "8567fcc4-10d1-4046-d177-f3b59fa2b082"
      },
      "source": [
        "#total sales for the chain supermarkets\n",
        "types = df_cleaned.groupby('type_market')\n",
        "chain = types.get_group('chain')\n",
        "chain['total'].sum()"
      ],
      "execution_count": 29,
      "outputs": [
        {
          "output_type": "execute_result",
          "data": {
            "text/plain": [
              "415972.61"
            ]
          },
          "metadata": {},
          "execution_count": 29
        }
      ]
    },
    {
      "cell_type": "code",
      "metadata": {
        "colab": {
          "base_uri": "https://localhost:8080/"
        },
        "id": "ktebYnLh1mmD",
        "outputId": "928c36d8-3f45-46bd-9e36-2fd8512ebc9d"
      },
      "source": [
        "#total sales for the median supermarkets\n",
        "median = types.get_group('median')\n",
        "median['total'].sum()"
      ],
      "execution_count": 30,
      "outputs": [
        {
          "output_type": "execute_result",
          "data": {
            "text/plain": [
              "13397.0"
            ]
          },
          "metadata": {},
          "execution_count": 30
        }
      ]
    },
    {
      "cell_type": "code",
      "metadata": {
        "colab": {
          "base_uri": "https://localhost:8080/"
        },
        "id": "rjC5frWP1cq0",
        "outputId": "8cdafa9f-ebaf-4950-8cff-9dcb361964d8"
      },
      "source": [
        "#total sales for the small supermarkets\n",
        "small = types.get_group('small')\n",
        "small['total'].sum()"
      ],
      "execution_count": 31,
      "outputs": [
        {
          "output_type": "execute_result",
          "data": {
            "text/plain": [
              "27078.0"
            ]
          },
          "metadata": {},
          "execution_count": 31
        }
      ]
    },
    {
      "cell_type": "markdown",
      "metadata": {
        "id": "Y-TFawraE3RA"
      },
      "source": [
        "##### **Customer prefered purchasing items from chain stores as compared to median and smaller stores**"
      ]
    },
    {
      "cell_type": "markdown",
      "metadata": {
        "id": "s0LNhEVU9Vcm"
      },
      "source": [
        "###**Which was the most common mode of payment?**"
      ]
    },
    {
      "cell_type": "code",
      "metadata": {
        "colab": {
          "base_uri": "https://localhost:8080/"
        },
        "id": "Czl80ZhZuG95",
        "outputId": "e98413f0-9346-4e53-ff89-f3532a4769b1"
      },
      "source": [
        "#counting the most common mode of payment \n",
        "df_cleaned['type'].value_counts()"
      ],
      "execution_count": 32,
      "outputs": [
        {
          "output_type": "execute_result",
          "data": {
            "text/plain": [
              "cash               1378\n",
              "mpesa                52\n",
              "card                 26\n",
              "credit card           3\n",
              "redeemed points       2\n",
              "voucher               2\n",
              "points                1\n",
              "Name: type, dtype: int64"
            ]
          },
          "metadata": {},
          "execution_count": 32
        }
      ]
    },
    {
      "cell_type": "markdown",
      "metadata": {
        "id": "vFH3Ny1cFSZn"
      },
      "source": [
        "####**Customers preferred paying for items using cash as compared to other payment methods**"
      ]
    },
    {
      "cell_type": "markdown",
      "metadata": {
        "id": "rMrOjdpoo512"
      },
      "source": [
        "###**Which category of items were less/more purchased in mid/high income areas?**"
      ]
    },
    {
      "cell_type": "code",
      "metadata": {
        "colab": {
          "base_uri": "https://localhost:8080/",
          "height": 247
        },
        "id": "T2a9fc1hU0nV",
        "outputId": "f6187fd4-7ba8-4ae9-a3f0-36933e2e9235"
      },
      "source": [
        "df_cleaned.groupby('loc_category').first()"
      ],
      "execution_count": 37,
      "outputs": [
        {
          "output_type": "execute_result",
          "data": {
            "text/html": [
              "<div>\n",
              "<style scoped>\n",
              "    .dataframe tbody tr th:only-of-type {\n",
              "        vertical-align: middle;\n",
              "    }\n",
              "\n",
              "    .dataframe tbody tr th {\n",
              "        vertical-align: top;\n",
              "    }\n",
              "\n",
              "    .dataframe thead th {\n",
              "        text-align: right;\n",
              "    }\n",
              "</style>\n",
              "<table border=\"1\" class=\"dataframe\">\n",
              "  <thead>\n",
              "    <tr style=\"text-align: right;\">\n",
              "      <th></th>\n",
              "      <th>supermarket</th>\n",
              "      <th>no_of_items</th>\n",
              "      <th>variation</th>\n",
              "      <th>total</th>\n",
              "      <th>paid</th>\n",
              "      <th>change</th>\n",
              "      <th>type</th>\n",
              "      <th>food</th>\n",
              "      <th>snack</th>\n",
              "      <th>beverage</th>\n",
              "      <th>consumables</th>\n",
              "      <th>high_end</th>\n",
              "      <th>asset</th>\n",
              "      <th>fixed_asset</th>\n",
              "      <th>mall</th>\n",
              "      <th>time_type</th>\n",
              "      <th>type_market</th>\n",
              "      <th>location</th>\n",
              "      <th>day</th>\n",
              "      <th>day_type</th>\n",
              "      <th>24hr</th>\n",
              "      <th>day.1</th>\n",
              "      <th>month</th>\n",
              "      <th>year</th>\n",
              "      <th>Date_Time</th>\n",
              "    </tr>\n",
              "    <tr>\n",
              "      <th>loc_category</th>\n",
              "      <th></th>\n",
              "      <th></th>\n",
              "      <th></th>\n",
              "      <th></th>\n",
              "      <th></th>\n",
              "      <th></th>\n",
              "      <th></th>\n",
              "      <th></th>\n",
              "      <th></th>\n",
              "      <th></th>\n",
              "      <th></th>\n",
              "      <th></th>\n",
              "      <th></th>\n",
              "      <th></th>\n",
              "      <th></th>\n",
              "      <th></th>\n",
              "      <th></th>\n",
              "      <th></th>\n",
              "      <th></th>\n",
              "      <th></th>\n",
              "      <th></th>\n",
              "      <th></th>\n",
              "      <th></th>\n",
              "      <th></th>\n",
              "      <th></th>\n",
              "    </tr>\n",
              "  </thead>\n",
              "  <tbody>\n",
              "    <tr>\n",
              "      <th>high</th>\n",
              "      <td>chandarana</td>\n",
              "      <td>32</td>\n",
              "      <td>3</td>\n",
              "      <td>7955.0</td>\n",
              "      <td>7955</td>\n",
              "      <td>0.0</td>\n",
              "      <td>mpesa</td>\n",
              "      <td>yes</td>\n",
              "      <td>no</td>\n",
              "      <td>no</td>\n",
              "      <td>yes</td>\n",
              "      <td>yes</td>\n",
              "      <td>no</td>\n",
              "      <td>no</td>\n",
              "      <td>yes</td>\n",
              "      <td>night</td>\n",
              "      <td>median</td>\n",
              "      <td>yaya</td>\n",
              "      <td>tuesday</td>\n",
              "      <td>weekday</td>\n",
              "      <td>no</td>\n",
              "      <td>3</td>\n",
              "      <td>1</td>\n",
              "      <td>2017.0</td>\n",
              "      <td>03/01/2017 19:03</td>\n",
              "    </tr>\n",
              "    <tr>\n",
              "      <th>low</th>\n",
              "      <td>kassmart</td>\n",
              "      <td>5</td>\n",
              "      <td>2</td>\n",
              "      <td>161.0</td>\n",
              "      <td>1000</td>\n",
              "      <td>839.0</td>\n",
              "      <td>cash</td>\n",
              "      <td>no</td>\n",
              "      <td>yes</td>\n",
              "      <td>yes</td>\n",
              "      <td>no</td>\n",
              "      <td>no</td>\n",
              "      <td>no</td>\n",
              "      <td>no</td>\n",
              "      <td>no</td>\n",
              "      <td>afternoon</td>\n",
              "      <td>small</td>\n",
              "      <td>mwiki</td>\n",
              "      <td>thursday</td>\n",
              "      <td>weekday</td>\n",
              "      <td>no</td>\n",
              "      <td>1</td>\n",
              "      <td>6</td>\n",
              "      <td>2017.0</td>\n",
              "      <td>01/06/2017 13:10</td>\n",
              "    </tr>\n",
              "    <tr>\n",
              "      <th>mid</th>\n",
              "      <td>acacia</td>\n",
              "      <td>1</td>\n",
              "      <td>1</td>\n",
              "      <td>90.0</td>\n",
              "      <td>100</td>\n",
              "      <td>10.0</td>\n",
              "      <td>cash</td>\n",
              "      <td>yes</td>\n",
              "      <td>no</td>\n",
              "      <td>no</td>\n",
              "      <td>no</td>\n",
              "      <td>no</td>\n",
              "      <td>no</td>\n",
              "      <td>no</td>\n",
              "      <td>no</td>\n",
              "      <td>night</td>\n",
              "      <td>small</td>\n",
              "      <td>saika</td>\n",
              "      <td>saturday</td>\n",
              "      <td>weekend</td>\n",
              "      <td>no</td>\n",
              "      <td>20</td>\n",
              "      <td>5</td>\n",
              "      <td>2017.0</td>\n",
              "      <td>20/05/2017 19:33</td>\n",
              "    </tr>\n",
              "  </tbody>\n",
              "</table>\n",
              "</div>"
            ],
            "text/plain": [
              "             supermarket  no_of_items  ...    year         Date_Time\n",
              "loc_category                           ...                          \n",
              "high          chandarana           32  ...  2017.0  03/01/2017 19:03\n",
              "low             kassmart            5  ...  2017.0  01/06/2017 13:10\n",
              "mid               acacia            1  ...  2017.0  20/05/2017 19:33\n",
              "\n",
              "[3 rows x 25 columns]"
            ]
          },
          "metadata": {},
          "execution_count": 37
        }
      ]
    },
    {
      "cell_type": "code",
      "metadata": {
        "colab": {
          "base_uri": "https://localhost:8080/"
        },
        "id": "7G-XWskrutC2",
        "outputId": "d9197b06-8447-4aa0-8308-0d942bc40f72"
      },
      "source": [
        "#grouping by location category\n",
        "area_type = df_cleaned.groupby('loc_category')\n",
        "high = area_type.get_group('high')\n",
        "consumables = (df_cleaned['consumables']=='yes')\n",
        "#counting the number of times consumables were purchased in high income areas\n",
        "high[consumables].count()"
      ],
      "execution_count": 33,
      "outputs": [
        {
          "output_type": "stream",
          "name": "stderr",
          "text": [
            "/usr/local/lib/python3.7/dist-packages/ipykernel_launcher.py:6: UserWarning: Boolean Series key will be reindexed to match DataFrame index.\n",
            "  \n"
          ]
        },
        {
          "output_type": "execute_result",
          "data": {
            "text/plain": [
              "supermarket     9\n",
              "no_of_items     9\n",
              "variation       9\n",
              "total           9\n",
              "paid            9\n",
              "change          9\n",
              "type            9\n",
              "food            9\n",
              "snack           9\n",
              "beverage        9\n",
              "consumables     9\n",
              "high_end        9\n",
              "asset           9\n",
              "fixed_asset     9\n",
              "mall            9\n",
              "time_type       9\n",
              "type_market     9\n",
              "location        9\n",
              "loc_category    9\n",
              "day             9\n",
              "day_type        9\n",
              "24hr            9\n",
              "day.1           9\n",
              "month           9\n",
              "year            9\n",
              "Date_Time       9\n",
              "dtype: int64"
            ]
          },
          "metadata": {},
          "execution_count": 33
        }
      ]
    },
    {
      "cell_type": "code",
      "metadata": {
        "colab": {
          "base_uri": "https://localhost:8080/"
        },
        "id": "qJ2-MJT8utJd",
        "outputId": "bab65ea4-770d-463d-b344-225fb859a55c"
      },
      "source": [
        "#counting the number of times consumables were purchased in mid income areas\n",
        "mid = area_type.get_group('mid')\n",
        "mid[consumables].count()"
      ],
      "execution_count": 34,
      "outputs": [
        {
          "output_type": "stream",
          "name": "stderr",
          "text": [
            "/usr/local/lib/python3.7/dist-packages/ipykernel_launcher.py:3: UserWarning: Boolean Series key will be reindexed to match DataFrame index.\n",
            "  This is separate from the ipykernel package so we can avoid doing imports until\n"
          ]
        },
        {
          "output_type": "execute_result",
          "data": {
            "text/plain": [
              "supermarket     310\n",
              "no_of_items     310\n",
              "variation       310\n",
              "total           310\n",
              "paid            310\n",
              "change          310\n",
              "type            310\n",
              "food            310\n",
              "snack           310\n",
              "beverage        310\n",
              "consumables     310\n",
              "high_end        310\n",
              "asset           310\n",
              "fixed_asset     310\n",
              "mall            310\n",
              "time_type       310\n",
              "type_market     310\n",
              "location        310\n",
              "loc_category    310\n",
              "day             310\n",
              "day_type        310\n",
              "24hr            310\n",
              "day.1           310\n",
              "month           310\n",
              "year            308\n",
              "Date_Time       310\n",
              "dtype: int64"
            ]
          },
          "metadata": {},
          "execution_count": 34
        }
      ]
    },
    {
      "cell_type": "markdown",
      "metadata": {
        "id": "2d2iy7Llw304"
      },
      "source": [
        "\n",
        "#####**Customers from mid income areas purchase more consumable goods as compared to those from high income areas**\n",
        "\n",
        "\n",
        "\n",
        "\n",
        "\n"
      ]
    },
    {
      "cell_type": "code",
      "metadata": {
        "colab": {
          "base_uri": "https://localhost:8080/"
        },
        "id": "pLO_kRteutb4",
        "outputId": "5ecf6d5a-09fb-42bb-d145-1f6eafbf6a37"
      },
      "source": [
        "#counting the number of times assets were purchased in mid income areas\n",
        "assets = (df_cleaned['asset']=='yes')\n",
        "mid[assets].count()"
      ],
      "execution_count": null,
      "outputs": [
        {
          "output_type": "stream",
          "name": "stderr",
          "text": [
            "/usr/local/lib/python3.7/dist-packages/ipykernel_launcher.py:3: UserWarning: Boolean Series key will be reindexed to match DataFrame index.\n",
            "  This is separate from the ipykernel package so we can avoid doing imports until\n"
          ]
        },
        {
          "output_type": "execute_result",
          "data": {
            "text/plain": [
              "<bound method DataFrame.count of      supermarket  no_of_items  variation  ...  month    year         Date_Time\n",
              "10        tuskys         33.0        6.0  ...   12.0  2016.0  07/12/2016 08:56\n",
              "13        uchumi          5.0        2.0  ...   10.0  2016.0  20/10/2016 17:41\n",
              "26        tuskys          9.0        3.0  ...    5.0  2017.0  22/05/2017 10:51\n",
              "31        naivas         10.0        4.0  ...    5.0  2017.0  21/05/2017 14:21\n",
              "49        tuskys          3.0        1.0  ...    5.0  2017.0  19/05/2017 12:06\n",
              "...          ...          ...        ...  ...    ...     ...               ...\n",
              "1411      tuskys         11.0        3.0  ...    6.0  2017.0  15/06/2017 20:46\n",
              "1424      tuskys          1.0        1.0  ...    9.0  2017.0  18/09/2017 15:31\n",
              "1425      ukwala         14.0        3.0  ...   11.0  2016.0  28/11/2016 19:26\n",
              "1434   karrymart          1.0        1.0  ...    5.0  2018.0  23/05/2018 16:08\n",
              "1447      tuskys          4.0        3.0  ...    6.0  2017.0  15/06/2017 20:24\n",
              "\n",
              "[126 rows x 26 columns]>"
            ]
          },
          "metadata": {},
          "execution_count": 147
        }
      ]
    },
    {
      "cell_type": "code",
      "metadata": {
        "colab": {
          "base_uri": "https://localhost:8080/"
        },
        "id": "WQ-VAyxNyTgk",
        "outputId": "32a6c7d1-88a9-482a-e144-28b07c5b76fd"
      },
      "source": [
        "#counting the number of times assets were purchased in high income areas\n",
        "high[assets].count()"
      ],
      "execution_count": null,
      "outputs": [
        {
          "output_type": "stream",
          "name": "stderr",
          "text": [
            "/usr/local/lib/python3.7/dist-packages/ipykernel_launcher.py:2: UserWarning: Boolean Series key will be reindexed to match DataFrame index.\n",
            "  \n"
          ]
        },
        {
          "output_type": "execute_result",
          "data": {
            "text/plain": [
              "<bound method DataFrame.count of      supermarket  no_of_items  variation  ...  month    year         Date_Time\n",
              "222     nakumatt          6.0        3.0  ...    6.0  2017.0  06/06/2017 10:45\n",
              "243     nakumatt          1.0        1.0  ...    6.0  2017.0  07/06/2017 21:00\n",
              "721     nakumatt          1.0        1.0  ...    6.0  2017.0  17/06/2017 09:56\n",
              "756     nakumatt          1.0        1.0  ...    6.0  2017.0  16/06/2017 16:24\n",
              "758     nakumatt          2.0        2.0  ...    6.0  2017.0    3/6/2017 09:03\n",
              "764     nakumatt          1.0        2.0  ...    5.0  2017.0  31/05/2017 13:09\n",
              "771     nakumatt          5.0        4.0  ...    6.0  2017.0  17/06/2017 17:08\n",
              "854     nakumatt          3.0        3.0  ...    5.0  2017.0  29/05/2017 11:30\n",
              "1275  chandarana          1.0        1.0  ...    5.0  2017.0  23/05/2017 20:49\n",
              "1400    nakumatt          1.0        1.0  ...    6.0  2017.0  09/06/2017 17:48\n",
              "1401    nakumatt          1.0        1.0  ...    6.0  2017.0  09/06/2017 17:48\n",
              "1402    nakumatt          2.0        2.0  ...    7.0  2017.0  21/07/2017 22:01\n",
              "1415    nakumatt          1.0        1.0  ...    8.0  2017.0  03/08/2017 20:20\n",
              "1419    nakumatt          1.0        1.0  ...    7.0  2017.0  02/07/2017 17:23\n",
              "\n",
              "[14 rows x 26 columns]>"
            ]
          },
          "metadata": {},
          "execution_count": 148
        }
      ]
    },
    {
      "cell_type": "markdown",
      "metadata": {
        "id": "XtRrWzYe1Zae"
      },
      "source": [
        "#####**Customers from mid income areas purchase assets more as compared to high income areas**"
      ]
    },
    {
      "cell_type": "code",
      "metadata": {
        "colab": {
          "base_uri": "https://localhost:8080/"
        },
        "id": "gzEk9nLIo43m",
        "outputId": "9e309bcd-7f3b-40a4-d6ff-688947ce6d52"
      },
      "source": [
        "#counting the number of times fixed_assets were purchased in high income areas\n",
        "fixed_asset = (df_cleaned['fixed_asset']=='yes')\n",
        "high[fixed_asset].count"
      ],
      "execution_count": null,
      "outputs": [
        {
          "output_type": "stream",
          "name": "stderr",
          "text": [
            "/usr/local/lib/python3.7/dist-packages/ipykernel_launcher.py:3: UserWarning: Boolean Series key will be reindexed to match DataFrame index.\n",
            "  This is separate from the ipykernel package so we can avoid doing imports until\n"
          ]
        },
        {
          "output_type": "execute_result",
          "data": {
            "text/plain": [
              "<bound method DataFrame.count of     supermarket  no_of_items  variation  ...  month    year         Date_Time\n",
              "222    nakumatt          6.0        3.0  ...    6.0  2017.0  06/06/2017 10:45\n",
              "\n",
              "[1 rows x 26 columns]>"
            ]
          },
          "metadata": {},
          "execution_count": 149
        }
      ]
    },
    {
      "cell_type": "code",
      "metadata": {
        "colab": {
          "base_uri": "https://localhost:8080/"
        },
        "id": "-ifSNfQdo5EY",
        "outputId": "cd752ca2-dd9f-49f3-eed7-4869a571239e"
      },
      "source": [
        "#counting the number of times fixed_assets were purchased in mid income areas\n",
        "mid[fixed_asset].count"
      ],
      "execution_count": null,
      "outputs": [
        {
          "output_type": "stream",
          "name": "stderr",
          "text": [
            "/usr/local/lib/python3.7/dist-packages/ipykernel_launcher.py:2: UserWarning: Boolean Series key will be reindexed to match DataFrame index.\n",
            "  \n"
          ]
        },
        {
          "output_type": "execute_result",
          "data": {
            "text/plain": [
              "<bound method DataFrame.count of     supermarket  no_of_items  variation  ...  month    year         Date_Time\n",
              "101    nakumatt          6.0        3.0  ...    3.0  2017.0  10/03/2017 16:30\n",
              "150      tuskys          2.0        1.0  ...    6.0  2017.0  02/06/2017 18:22\n",
              "\n",
              "[2 rows x 26 columns]>"
            ]
          },
          "metadata": {},
          "execution_count": 150
        }
      ]
    },
    {
      "cell_type": "markdown",
      "metadata": {
        "id": "MDFlexI52yTo"
      },
      "source": [
        "**Customers from Mid income areas purchased more fixed assets as compared to high income areas**"
      ]
    },
    {
      "cell_type": "markdown",
      "metadata": {
        "id": "LaiQ5Q0U3m23"
      },
      "source": [
        "### **Did the chain stores that operated 24 hours have more sales?**"
      ]
    },
    {
      "cell_type": "code",
      "metadata": {
        "colab": {
          "base_uri": "https://localhost:8080/",
          "height": 320
        },
        "id": "mU7rArldZIAI",
        "outputId": "9ffc25ba-fbe1-47c8-8136-bd5a74e8daf4"
      },
      "source": [
        "df_cleaned.groupby('24hr').sum().plot(kind = 'bar', y = 'total', title = 'sales by hour comparison graph')"
      ],
      "execution_count": 38,
      "outputs": [
        {
          "output_type": "execute_result",
          "data": {
            "text/plain": [
              "<matplotlib.axes._subplots.AxesSubplot at 0x7f540c296e50>"
            ]
          },
          "metadata": {},
          "execution_count": 38
        },
        {
          "output_type": "display_data",
          "data": {
            "image/png": "[encoded data removed]",
            "text/plain": [
              "<Figure size 432x288 with 1 Axes>"
            ]
          },
          "metadata": {
            "needs_background": "light"
          }
        }
      ]
    },
    {
      "cell_type": "code",
      "metadata": {
        "colab": {
          "base_uri": "https://localhost:8080/"
        },
        "id": "ZqeoRbmT59UA",
        "outputId": "b8346ff0-8384-48a1-cdec-5a628816521d"
      },
      "source": [
        "#classify the stores by the time periods they operate\n",
        "time = df_cleaned.groupby('24hr')\n",
        "#chosingg those that operate for 24hrs\n",
        "two4seven = time.get_group('yes')\n",
        "#finding the sum of the sales column\n",
        "two4seven['total'].sum()"
      ],
      "execution_count": null,
      "outputs": [
        {
          "output_type": "execute_result",
          "data": {
            "text/plain": [
              "37085.0"
            ]
          },
          "metadata": {},
          "execution_count": 165
        }
      ]
    },
    {
      "cell_type": "code",
      "metadata": {
        "colab": {
          "base_uri": "https://localhost:8080/"
        },
        "id": "6axU32PR33tO",
        "outputId": "81eab3c0-37d9-4288-ca78-778c46504647"
      },
      "source": [
        "#chosing those that don't operate for 24hrs\n",
        "day_time = time.get_group('no')\n",
        "#finding the sum of the sales column\n",
        "day_time['total'].sum()"
      ],
      "execution_count": null,
      "outputs": [
        {
          "output_type": "execute_result",
          "data": {
            "text/plain": [
              "419362.61"
            ]
          },
          "metadata": {},
          "execution_count": 164
        }
      ]
    },
    {
      "cell_type": "markdown",
      "metadata": {
        "id": "fUsIj_1DLIfD"
      },
      "source": [
        "#####**Stores that only operated during the day only had more sales compared to those that operated for 24hrs**"
      ]
    },
    {
      "cell_type": "markdown",
      "metadata": {
        "id": "r7CuXCKOWi1s"
      },
      "source": [
        "## **FINDINGS AND RECOMMENDATIONS**\n",
        "1. Supermarkets that were outside malls made more sales on weekdays and weekends as well\n",
        "\n",
        "**Recommendation**: Supermarkets in malls should do more to attract more customers\n",
        "\n",
        "2. Customer prefered purchasing items from chain stores as compared to median and smaller stores\n",
        "\n",
        "**Reccommendations**: Chain stores should set up more supermarkets to reach a larger market\n",
        "\n",
        "3. Customers preferred paying for items using cash as compared to other payment methods\n",
        "\n",
        "**Reccommendations**: Supermarkets should have more lose change to give customers to ensure easy transaction process\n",
        "\n",
        "4. Customers from mid income areas purchase more consumable goods as compared to those from high income areas\n",
        "\n",
        "**Reccommendations**: Supermarkets in mid income areas should stock more consumerable goods to satisfy all their consumers' needs\n",
        "\n",
        "5. Customers from mid income areas purchase assets more as compared to high income areas\n",
        "\n",
        "**Reccommendations**: Supermarkets in high income areas should stock more asset goods to satisfy all their consumers' needs\n",
        "\n",
        "6. Customers from Mid income areas purchased more fixed assets as compared to high income areas\n",
        "\n",
        "**Reccommendations**: Supermarkets in high income areas should stock more fixed asset goods to satisfy all their consumers' needs\n",
        "\n",
        "7. Stores that only operated during the day only had more sales compared to those that operated for 24hrs\n",
        "\n",
        "**Reccommendations**: Supermarkets should focus more on keeping the stores open and operational during the day because that is when most customers tend to buy goods."
      ]
    }
  ]
}