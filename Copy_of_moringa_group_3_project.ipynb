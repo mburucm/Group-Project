{
  "nbformat": 4,
  "nbformat_minor": 0,
  "metadata": {
    "colab": {
      "name": "Copy of moringa group 3 project.ipynb",
      "provenance": [],
      "collapsed_sections": [
        "6IYSkYh-GiC-"
      ],
      "include_colab_link": true
    },
    "kernelspec": {
      "display_name": "Python 3",
      "language": "python",
      "name": "python3"
    },
    "language_info": {
      "codemirror_mode": {
        "name": "ipython",
        "version": 3
      },
      "file_extension": ".py",
      "mimetype": "text/x-python",
      "name": "python",
      "nbconvert_exporter": "python",
      "pygments_lexer": "ipython3",
      "version": "3.8.5"
    }
  },
  "cells": [
    {
      "cell_type": "markdown",
      "metadata": {
        "id": "view-in-github",
        "colab_type": "text"
      },
      "source": [
        "<a href=\"https://colab.research.google.com/github/mburucm/Group-Project/blob/main/Copy_of_moringa_group_3_project.ipynb\" target=\"_parent\"><img src=\"https://colab.research.google.com/assets/colab-badge.svg\" alt=\"Open In Colab\"/></a>"
      ]
    },
    {
      "cell_type": "markdown",
      "metadata": {
        "id": "N8Q9g2-xk-rD"
      },
      "source": [
        "**INTRODUCTION**\n",
        "\n",
        "The following dataset contains a list of Kenyan retail Supermarkets containing information on items, location, day, type of payments among other variables. Historically, supermarkets have their business models radically re-shaped by cashless payment instore, online (advertisement, payments, locations) and in the food industry supply chain.\n",
        "\n",
        "The lack of or derailment in implementation of crucial strategies have led to the closure of major supermarkets across Kenya. These technologies will be deployed in the battle for customers but, more than this, can also benefit the business as a whole. "
      ]
    },
    {
      "cell_type": "code",
      "metadata": {
        "id": "-_Lu6P-n6wN2"
      },
      "source": [
        "# Importing the libraries we will need \n",
        "\n",
        "# Importing the pandas library\n",
        "# \n",
        "import pandas as pd\n",
        "\n",
        "# Importing the numpy library\n",
        "#\n",
        "import numpy as np\n",
        "\n",
        "import matplotlib.pyplot as plt"
      ],
      "execution_count": null,
      "outputs": []
    },
    {
      "cell_type": "code",
      "metadata": {
        "colab": {
          "base_uri": "https://localhost:8080/",
          "height": 226
        },
        "id": "slsMwav2mAv8",
        "outputId": "e76dac9f-a7c3-4179-c8c4-a72d834a245b"
      },
      "source": [
        "#to read the data in the csv file to create a dataframe\n",
        "#the dataframe will be referred to as 'df'\n",
        "df= pd.read_csv('Supermarket Data - Supermarket Data.csv')\n",
        "df\n",
        "#to display the top 5 records of the dataframe\n",
        "df.head(5)"
      ],
      "execution_count": null,
      "outputs": [
        {
          "data": {
            "text/html": [
              "<div>\n",
              "<style scoped>\n",
              "    .dataframe tbody tr th:only-of-type {\n",
              "        vertical-align: middle;\n",
              "    }\n",
              "\n",
              "    .dataframe tbody tr th {\n",
              "        vertical-align: top;\n",
              "    }\n",
              "\n",
              "    .dataframe thead th {\n",
              "        text-align: right;\n",
              "    }\n",
              "</style>\n",
              "<table border=\"1\" class=\"dataframe\">\n",
              "  <thead>\n",
              "    <tr style=\"text-align: right;\">\n",
              "      <th></th>\n",
              "      <th>supermarket</th>\n",
              "      <th>no_of_items</th>\n",
              "      <th>variation</th>\n",
              "      <th>total</th>\n",
              "      <th>paid</th>\n",
              "      <th>change</th>\n",
              "      <th>type</th>\n",
              "      <th>food</th>\n",
              "      <th>snack</th>\n",
              "      <th>beverage</th>\n",
              "      <th>...</th>\n",
              "      <th>time_type</th>\n",
              "      <th>type_market</th>\n",
              "      <th>location</th>\n",
              "      <th>loc_category</th>\n",
              "      <th>day</th>\n",
              "      <th>day_type</th>\n",
              "      <th>24hr</th>\n",
              "      <th>day.1</th>\n",
              "      <th>month</th>\n",
              "      <th>year</th>\n",
              "    </tr>\n",
              "  </thead>\n",
              "  <tbody>\n",
              "    <tr>\n",
              "      <th>0</th>\n",
              "      <td>acacia</td>\n",
              "      <td>1</td>\n",
              "      <td>1</td>\n",
              "      <td>90.0</td>\n",
              "      <td>100</td>\n",
              "      <td>10.0</td>\n",
              "      <td>cash</td>\n",
              "      <td>yes</td>\n",
              "      <td>no</td>\n",
              "      <td>no</td>\n",
              "      <td>...</td>\n",
              "      <td>night</td>\n",
              "      <td>small</td>\n",
              "      <td>saika</td>\n",
              "      <td>mid</td>\n",
              "      <td>saturday</td>\n",
              "      <td>weekend</td>\n",
              "      <td>no</td>\n",
              "      <td>20</td>\n",
              "      <td>5</td>\n",
              "      <td>2017.0</td>\n",
              "    </tr>\n",
              "    <tr>\n",
              "      <th>1</th>\n",
              "      <td>acacia</td>\n",
              "      <td>1</td>\n",
              "      <td>1</td>\n",
              "      <td>90.0</td>\n",
              "      <td>500</td>\n",
              "      <td>410.0</td>\n",
              "      <td>cash</td>\n",
              "      <td>yes</td>\n",
              "      <td>no</td>\n",
              "      <td>no</td>\n",
              "      <td>...</td>\n",
              "      <td>night</td>\n",
              "      <td>small</td>\n",
              "      <td>saika</td>\n",
              "      <td>mid</td>\n",
              "      <td>saturday</td>\n",
              "      <td>weekend</td>\n",
              "      <td>no</td>\n",
              "      <td>20</td>\n",
              "      <td>5</td>\n",
              "      <td>2017.0</td>\n",
              "    </tr>\n",
              "    <tr>\n",
              "      <th>2</th>\n",
              "      <td>acacia</td>\n",
              "      <td>3</td>\n",
              "      <td>1</td>\n",
              "      <td>270.0</td>\n",
              "      <td>300</td>\n",
              "      <td>30.0</td>\n",
              "      <td>cash</td>\n",
              "      <td>yes</td>\n",
              "      <td>no</td>\n",
              "      <td>no</td>\n",
              "      <td>...</td>\n",
              "      <td>night</td>\n",
              "      <td>small</td>\n",
              "      <td>saika</td>\n",
              "      <td>mid</td>\n",
              "      <td>saturday</td>\n",
              "      <td>weekend</td>\n",
              "      <td>no</td>\n",
              "      <td>20</td>\n",
              "      <td>5</td>\n",
              "      <td>2017.0</td>\n",
              "    </tr>\n",
              "    <tr>\n",
              "      <th>3</th>\n",
              "      <td>acacia</td>\n",
              "      <td>3</td>\n",
              "      <td>1</td>\n",
              "      <td>137.0</td>\n",
              "      <td>200</td>\n",
              "      <td>63.0</td>\n",
              "      <td>cash</td>\n",
              "      <td>yes</td>\n",
              "      <td>no</td>\n",
              "      <td>no</td>\n",
              "      <td>...</td>\n",
              "      <td>night</td>\n",
              "      <td>small</td>\n",
              "      <td>saika</td>\n",
              "      <td>mid</td>\n",
              "      <td>saturday</td>\n",
              "      <td>weekend</td>\n",
              "      <td>no</td>\n",
              "      <td>20</td>\n",
              "      <td>5</td>\n",
              "      <td>2017.0</td>\n",
              "    </tr>\n",
              "    <tr>\n",
              "      <th>4</th>\n",
              "      <td>acacia</td>\n",
              "      <td>1</td>\n",
              "      <td>1</td>\n",
              "      <td>75.0</td>\n",
              "      <td>80</td>\n",
              "      <td>5.0</td>\n",
              "      <td>cash</td>\n",
              "      <td>yes</td>\n",
              "      <td>no</td>\n",
              "      <td>no</td>\n",
              "      <td>...</td>\n",
              "      <td>afternoon</td>\n",
              "      <td>small</td>\n",
              "      <td>saika</td>\n",
              "      <td>mid</td>\n",
              "      <td>saturday</td>\n",
              "      <td>weekend</td>\n",
              "      <td>no</td>\n",
              "      <td>20</td>\n",
              "      <td>5</td>\n",
              "      <td>2017.0</td>\n",
              "    </tr>\n",
              "  </tbody>\n",
              "</table>\n",
              "<p>5 rows × 27 columns</p>\n",
              "</div>"
            ],
            "text/plain": [
              "  supermarket  no_of_items  variation  total  paid  change  type food snack  \\\n",
              "0      acacia            1          1   90.0   100    10.0  cash  yes    no   \n",
              "1      acacia            1          1   90.0   500   410.0  cash  yes    no   \n",
              "2      acacia            3          1  270.0   300    30.0  cash  yes    no   \n",
              "3      acacia            3          1  137.0   200    63.0  cash  yes    no   \n",
              "4      acacia            1          1   75.0    80     5.0  cash  yes    no   \n",
              "\n",
              "  beverage  ...  time_type type_market location loc_category       day  \\\n",
              "0       no  ...      night       small    saika          mid  saturday   \n",
              "1       no  ...      night       small    saika          mid  saturday   \n",
              "2       no  ...      night       small    saika          mid  saturday   \n",
              "3       no  ...      night       small    saika          mid  saturday   \n",
              "4       no  ...  afternoon       small    saika          mid  saturday   \n",
              "\n",
              "  day_type 24hr day.1 month    year  \n",
              "0  weekend   no    20     5  2017.0  \n",
              "1  weekend   no    20     5  2017.0  \n",
              "2  weekend   no    20     5  2017.0  \n",
              "3  weekend   no    20     5  2017.0  \n",
              "4  weekend   no    20     5  2017.0  \n",
              "\n",
              "[5 rows x 27 columns]"
            ]
          },
          "execution_count": 67,
          "metadata": {},
          "output_type": "execute_result"
        }
      ]
    },
    {
      "cell_type": "code",
      "metadata": {
        "id": "9exi7leaYAuk",
        "outputId": "2edd545b-aab8-4473-f375-600812b246ae"
      },
      "source": [
        "df.tail()"
      ],
      "execution_count": null,
      "outputs": [
        {
          "data": {
            "text/html": [
              "<div>\n",
              "<style scoped>\n",
              "    .dataframe tbody tr th:only-of-type {\n",
              "        vertical-align: middle;\n",
              "    }\n",
              "\n",
              "    .dataframe tbody tr th {\n",
              "        vertical-align: top;\n",
              "    }\n",
              "\n",
              "    .dataframe thead th {\n",
              "        text-align: right;\n",
              "    }\n",
              "</style>\n",
              "<table border=\"1\" class=\"dataframe\">\n",
              "  <thead>\n",
              "    <tr style=\"text-align: right;\">\n",
              "      <th></th>\n",
              "      <th>supermarket</th>\n",
              "      <th>no_of_items</th>\n",
              "      <th>variation</th>\n",
              "      <th>total</th>\n",
              "      <th>paid</th>\n",
              "      <th>change</th>\n",
              "      <th>type</th>\n",
              "      <th>food</th>\n",
              "      <th>snack</th>\n",
              "      <th>beverage</th>\n",
              "      <th>...</th>\n",
              "      <th>time_type</th>\n",
              "      <th>type_market</th>\n",
              "      <th>location</th>\n",
              "      <th>loc_category</th>\n",
              "      <th>day</th>\n",
              "      <th>day_type</th>\n",
              "      <th>24hr</th>\n",
              "      <th>day.1</th>\n",
              "      <th>month</th>\n",
              "      <th>year</th>\n",
              "    </tr>\n",
              "  </thead>\n",
              "  <tbody>\n",
              "    <tr>\n",
              "      <th>1459</th>\n",
              "      <td>tuskys</td>\n",
              "      <td>4</td>\n",
              "      <td>3</td>\n",
              "      <td>1810.0</td>\n",
              "      <td>2000</td>\n",
              "      <td>190.0</td>\n",
              "      <td>cash</td>\n",
              "      <td>no</td>\n",
              "      <td>yes</td>\n",
              "      <td>no</td>\n",
              "      <td>...</td>\n",
              "      <td>morning</td>\n",
              "      <td>chain</td>\n",
              "      <td>greenspan</td>\n",
              "      <td>mid</td>\n",
              "      <td>Thursday</td>\n",
              "      <td>weekday</td>\n",
              "      <td>no</td>\n",
              "      <td>15</td>\n",
              "      <td>6</td>\n",
              "      <td>2017.0</td>\n",
              "    </tr>\n",
              "    <tr>\n",
              "      <th>1460</th>\n",
              "      <td>nakumatt</td>\n",
              "      <td>2</td>\n",
              "      <td>3</td>\n",
              "      <td>516.0</td>\n",
              "      <td>516</td>\n",
              "      <td>0.0</td>\n",
              "      <td>card</td>\n",
              "      <td>yes</td>\n",
              "      <td>no</td>\n",
              "      <td>yes</td>\n",
              "      <td>...</td>\n",
              "      <td>night</td>\n",
              "      <td>chain</td>\n",
              "      <td>junction</td>\n",
              "      <td>mid</td>\n",
              "      <td>Monday</td>\n",
              "      <td>weekday</td>\n",
              "      <td>no</td>\n",
              "      <td>17</td>\n",
              "      <td>7</td>\n",
              "      <td>2017.0</td>\n",
              "    </tr>\n",
              "    <tr>\n",
              "      <th>1461</th>\n",
              "      <td>tuskys</td>\n",
              "      <td>2</td>\n",
              "      <td>1</td>\n",
              "      <td>290.0</td>\n",
              "      <td>500</td>\n",
              "      <td>210.0</td>\n",
              "      <td>cash</td>\n",
              "      <td>yes</td>\n",
              "      <td>no</td>\n",
              "      <td>no</td>\n",
              "      <td>...</td>\n",
              "      <td>night</td>\n",
              "      <td>chain</td>\n",
              "      <td>cbd</td>\n",
              "      <td>mid</td>\n",
              "      <td>Sunday</td>\n",
              "      <td>weekend</td>\n",
              "      <td>no</td>\n",
              "      <td>30</td>\n",
              "      <td>6</td>\n",
              "      <td>2017.0</td>\n",
              "    </tr>\n",
              "    <tr>\n",
              "      <th>1462</th>\n",
              "      <td>tuskys</td>\n",
              "      <td>5</td>\n",
              "      <td>2</td>\n",
              "      <td>596.0</td>\n",
              "      <td>1000</td>\n",
              "      <td>404.0</td>\n",
              "      <td>cash</td>\n",
              "      <td>yes</td>\n",
              "      <td>no</td>\n",
              "      <td>no</td>\n",
              "      <td>...</td>\n",
              "      <td>morning</td>\n",
              "      <td>chain</td>\n",
              "      <td>greenspan</td>\n",
              "      <td>mid</td>\n",
              "      <td>Monday</td>\n",
              "      <td>weekday</td>\n",
              "      <td>no</td>\n",
              "      <td>8</td>\n",
              "      <td>5</td>\n",
              "      <td>2017.0</td>\n",
              "    </tr>\n",
              "    <tr>\n",
              "      <th>1463</th>\n",
              "      <td>Eastmatt</td>\n",
              "      <td>2</td>\n",
              "      <td>2</td>\n",
              "      <td>120.0</td>\n",
              "      <td>2000</td>\n",
              "      <td>1880.0</td>\n",
              "      <td>cash</td>\n",
              "      <td>yes</td>\n",
              "      <td>yes</td>\n",
              "      <td>no</td>\n",
              "      <td>...</td>\n",
              "      <td>evening</td>\n",
              "      <td>chain</td>\n",
              "      <td>cbd</td>\n",
              "      <td>mid</td>\n",
              "      <td>Friday</td>\n",
              "      <td>weekday</td>\n",
              "      <td>no</td>\n",
              "      <td>23</td>\n",
              "      <td>6</td>\n",
              "      <td>2017.0</td>\n",
              "    </tr>\n",
              "  </tbody>\n",
              "</table>\n",
              "<p>5 rows × 27 columns</p>\n",
              "</div>"
            ],
            "text/plain": [
              "     supermarket  no_of_items  variation   total  paid  change  type food  \\\n",
              "1459      tuskys            4          3  1810.0  2000   190.0  cash   no   \n",
              "1460    nakumatt            2          3   516.0   516     0.0  card  yes   \n",
              "1461      tuskys            2          1   290.0   500   210.0  cash  yes   \n",
              "1462      tuskys            5          2   596.0  1000   404.0  cash  yes   \n",
              "1463    Eastmatt            2          2   120.0  2000  1880.0  cash  yes   \n",
              "\n",
              "     snack beverage  ... time_type type_market   location loc_category  \\\n",
              "1459   yes       no  ...   morning       chain  greenspan          mid   \n",
              "1460    no      yes  ...     night       chain   junction          mid   \n",
              "1461    no       no  ...     night       chain        cbd          mid   \n",
              "1462    no       no  ...   morning       chain  greenspan          mid   \n",
              "1463   yes       no  ...   evening       chain        cbd          mid   \n",
              "\n",
              "           day day_type 24hr day.1 month    year  \n",
              "1459  Thursday  weekday   no    15     6  2017.0  \n",
              "1460    Monday  weekday   no    17     7  2017.0  \n",
              "1461    Sunday  weekend   no    30     6  2017.0  \n",
              "1462    Monday  weekday   no     8     5  2017.0  \n",
              "1463    Friday  weekday   no    23     6  2017.0  \n",
              "\n",
              "[5 rows x 27 columns]"
            ]
          },
          "execution_count": 4,
          "metadata": {},
          "output_type": "execute_result"
        }
      ]
    },
    {
      "cell_type": "code",
      "metadata": {
        "id": "W4sVqk68YAum"
      },
      "source": [
        "## dropping nna values/ null records since they aren't that many  so they will not make a difference\n",
        "\n",
        "df.dropna(0,how= 'all', inplace = True)"
      ],
      "execution_count": null,
      "outputs": []
    },
    {
      "cell_type": "code",
      "metadata": {
        "id": "VZCtccOXYAun",
        "outputId": "ba2ed3ed-4976-4bbd-b654-544be483bb30"
      },
      "source": [
        "df.isnull().value_counts()"
      ],
      "execution_count": null,
      "outputs": [
        {
          "data": {
            "text/plain": [
              "supermarket  no_of_items  variation  total  paid   change  type   food   snack  beverage  consumables  high_end  asset  fixed_asset  date   mall   time   time_type  type_market  location  loc_category  day    day_type  24hr   day.1  month  year \n",
              "False        False        False      False  False  False   False  False  False  False     False        False     False  False        False  False  False  False      False        False     False         False  False     False  False  False  False    1461\n",
              "                                                                                                                                                                                                                                                True        2\n",
              "True         False        False      False  False  False   False  False  False  False     False        False     False  False        False  False  False  False      False        False     False         False  False     False  False  False  False       1\n",
              "dtype: int64"
            ]
          },
          "execution_count": 6,
          "metadata": {},
          "output_type": "execute_result"
        }
      ]
    },
    {
      "cell_type": "code",
      "metadata": {
        "id": "3DCLb9IKYAuo"
      },
      "source": [
        "df1 = df[df.year.notnull()]"
      ],
      "execution_count": null,
      "outputs": []
    },
    {
      "cell_type": "code",
      "metadata": {
        "id": "oUvLLYXlYAup"
      },
      "source": [
        "df1 = df1[df1.supermarket.notnull()]"
      ],
      "execution_count": null,
      "outputs": []
    },
    {
      "cell_type": "code",
      "metadata": {
        "id": "A4UyA18pYAuq",
        "outputId": "3a556cb6-99c4-4862-b679-8495775e8d3d"
      },
      "source": [
        "df1.info()"
      ],
      "execution_count": null,
      "outputs": [
        {
          "name": "stdout",
          "output_type": "stream",
          "text": [
            "<class 'pandas.core.frame.DataFrame'>\n",
            "Int64Index: 1461 entries, 0 to 1463\n",
            "Data columns (total 27 columns):\n",
            " #   Column        Non-Null Count  Dtype  \n",
            "---  ------        --------------  -----  \n",
            " 0   supermarket   1461 non-null   object \n",
            " 1   no_of_items   1461 non-null   int64  \n",
            " 2   variation     1461 non-null   int64  \n",
            " 3   total         1461 non-null   float64\n",
            " 4   paid          1461 non-null   int64  \n",
            " 5   change        1461 non-null   float64\n",
            " 6   type          1461 non-null   object \n",
            " 7   food          1461 non-null   object \n",
            " 8   snack         1461 non-null   object \n",
            " 9   beverage      1461 non-null   object \n",
            " 10  consumables   1461 non-null   object \n",
            " 11  high_end      1461 non-null   object \n",
            " 12  asset         1461 non-null   object \n",
            " 13  fixed_asset   1461 non-null   object \n",
            " 14  date          1461 non-null   object \n",
            " 15  mall          1461 non-null   object \n",
            " 16  time          1461 non-null   object \n",
            " 17  time_type     1461 non-null   object \n",
            " 18  type_market   1461 non-null   object \n",
            " 19  location      1461 non-null   object \n",
            " 20  loc_category  1461 non-null   object \n",
            " 21  day           1461 non-null   object \n",
            " 22  day_type      1461 non-null   object \n",
            " 23  24hr          1461 non-null   object \n",
            " 24  day.1         1461 non-null   object \n",
            " 25  month         1461 non-null   int64  \n",
            " 26  year          1461 non-null   float64\n",
            "dtypes: float64(3), int64(4), object(20)\n",
            "memory usage: 319.6+ KB\n"
          ]
        }
      ]
    },
    {
      "cell_type": "code",
      "metadata": {
        "id": "Ch__dUDpYAus",
        "outputId": "2fd24eee-806d-4786-8c3c-f99e0b310e7a"
      },
      "source": [
        "df1.info()"
      ],
      "execution_count": null,
      "outputs": [
        {
          "name": "stdout",
          "output_type": "stream",
          "text": [
            "<class 'pandas.core.frame.DataFrame'>\n",
            "Int64Index: 1461 entries, 0 to 1463\n",
            "Data columns (total 27 columns):\n",
            " #   Column        Non-Null Count  Dtype  \n",
            "---  ------        --------------  -----  \n",
            " 0   supermarket   1461 non-null   object \n",
            " 1   no_of_items   1461 non-null   int64  \n",
            " 2   variation     1461 non-null   int64  \n",
            " 3   total         1461 non-null   float64\n",
            " 4   paid          1461 non-null   int64  \n",
            " 5   change        1461 non-null   float64\n",
            " 6   type          1461 non-null   object \n",
            " 7   food          1461 non-null   object \n",
            " 8   snack         1461 non-null   object \n",
            " 9   beverage      1461 non-null   object \n",
            " 10  consumables   1461 non-null   object \n",
            " 11  high_end      1461 non-null   object \n",
            " 12  asset         1461 non-null   object \n",
            " 13  fixed_asset   1461 non-null   object \n",
            " 14  date          1461 non-null   object \n",
            " 15  mall          1461 non-null   object \n",
            " 16  time          1461 non-null   object \n",
            " 17  time_type     1461 non-null   object \n",
            " 18  type_market   1461 non-null   object \n",
            " 19  location      1461 non-null   object \n",
            " 20  loc_category  1461 non-null   object \n",
            " 21  day           1461 non-null   object \n",
            " 22  day_type      1461 non-null   object \n",
            " 23  24hr          1461 non-null   object \n",
            " 24  day.1         1461 non-null   object \n",
            " 25  month         1461 non-null   int64  \n",
            " 26  year          1461 non-null   float64\n",
            "dtypes: float64(3), int64(4), object(20)\n",
            "memory usage: 319.6+ KB\n"
          ]
        }
      ]
    },
    {
      "cell_type": "code",
      "metadata": {
        "id": "mz-6XIiGYAut"
      },
      "source": [
        "# converting yera to a numeric data type\n",
        "df1 = df1.astype({\"year\": str})\n",
        "\n",
        "df1  =df1.astype({\"day.1\": str})\n",
        "\n",
        "df1 = df1.astype({\"month\": str})\n",
        "#df['year'] = pd.to_numeric(df['year'])"
      ],
      "execution_count": null,
      "outputs": []
    },
    {
      "cell_type": "code",
      "metadata": {
        "id": "5UE8rhhUYAuu",
        "outputId": "56cab5ab-aa04-4579-89f7-daf0121fc76c"
      },
      "source": [
        "df1.info()\n",
        "\n",
        "df1.head()"
      ],
      "execution_count": null,
      "outputs": [
        {
          "name": "stdout",
          "output_type": "stream",
          "text": [
            "<class 'pandas.core.frame.DataFrame'>\n",
            "Int64Index: 1461 entries, 0 to 1463\n",
            "Data columns (total 27 columns):\n",
            " #   Column        Non-Null Count  Dtype  \n",
            "---  ------        --------------  -----  \n",
            " 0   supermarket   1461 non-null   object \n",
            " 1   no_of_items   1461 non-null   int64  \n",
            " 2   variation     1461 non-null   int64  \n",
            " 3   total         1461 non-null   float64\n",
            " 4   paid          1461 non-null   int64  \n",
            " 5   change        1461 non-null   float64\n",
            " 6   type          1461 non-null   object \n",
            " 7   food          1461 non-null   object \n",
            " 8   snack         1461 non-null   object \n",
            " 9   beverage      1461 non-null   object \n",
            " 10  consumables   1461 non-null   object \n",
            " 11  high_end      1461 non-null   object \n",
            " 12  asset         1461 non-null   object \n",
            " 13  fixed_asset   1461 non-null   object \n",
            " 14  date          1461 non-null   object \n",
            " 15  mall          1461 non-null   object \n",
            " 16  time          1461 non-null   object \n",
            " 17  time_type     1461 non-null   object \n",
            " 18  type_market   1461 non-null   object \n",
            " 19  location      1461 non-null   object \n",
            " 20  loc_category  1461 non-null   object \n",
            " 21  day           1461 non-null   object \n",
            " 22  day_type      1461 non-null   object \n",
            " 23  24hr          1461 non-null   object \n",
            " 24  day.1         1461 non-null   object \n",
            " 25  month         1461 non-null   object \n",
            " 26  year          1461 non-null   object \n",
            "dtypes: float64(2), int64(3), object(22)\n",
            "memory usage: 359.6+ KB\n"
          ]
        },
        {
          "data": {
            "text/html": [
              "<div>\n",
              "<style scoped>\n",
              "    .dataframe tbody tr th:only-of-type {\n",
              "        vertical-align: middle;\n",
              "    }\n",
              "\n",
              "    .dataframe tbody tr th {\n",
              "        vertical-align: top;\n",
              "    }\n",
              "\n",
              "    .dataframe thead th {\n",
              "        text-align: right;\n",
              "    }\n",
              "</style>\n",
              "<table border=\"1\" class=\"dataframe\">\n",
              "  <thead>\n",
              "    <tr style=\"text-align: right;\">\n",
              "      <th></th>\n",
              "      <th>supermarket</th>\n",
              "      <th>no_of_items</th>\n",
              "      <th>variation</th>\n",
              "      <th>total</th>\n",
              "      <th>paid</th>\n",
              "      <th>change</th>\n",
              "      <th>type</th>\n",
              "      <th>food</th>\n",
              "      <th>snack</th>\n",
              "      <th>beverage</th>\n",
              "      <th>...</th>\n",
              "      <th>time_type</th>\n",
              "      <th>type_market</th>\n",
              "      <th>location</th>\n",
              "      <th>loc_category</th>\n",
              "      <th>day</th>\n",
              "      <th>day_type</th>\n",
              "      <th>24hr</th>\n",
              "      <th>day.1</th>\n",
              "      <th>month</th>\n",
              "      <th>year</th>\n",
              "    </tr>\n",
              "  </thead>\n",
              "  <tbody>\n",
              "    <tr>\n",
              "      <th>0</th>\n",
              "      <td>acacia</td>\n",
              "      <td>1</td>\n",
              "      <td>1</td>\n",
              "      <td>90.0</td>\n",
              "      <td>100</td>\n",
              "      <td>10.0</td>\n",
              "      <td>cash</td>\n",
              "      <td>yes</td>\n",
              "      <td>no</td>\n",
              "      <td>no</td>\n",
              "      <td>...</td>\n",
              "      <td>night</td>\n",
              "      <td>small</td>\n",
              "      <td>saika</td>\n",
              "      <td>mid</td>\n",
              "      <td>saturday</td>\n",
              "      <td>weekend</td>\n",
              "      <td>no</td>\n",
              "      <td>20</td>\n",
              "      <td>5</td>\n",
              "      <td>2017</td>\n",
              "    </tr>\n",
              "    <tr>\n",
              "      <th>1</th>\n",
              "      <td>acacia</td>\n",
              "      <td>1</td>\n",
              "      <td>1</td>\n",
              "      <td>90.0</td>\n",
              "      <td>500</td>\n",
              "      <td>410.0</td>\n",
              "      <td>cash</td>\n",
              "      <td>yes</td>\n",
              "      <td>no</td>\n",
              "      <td>no</td>\n",
              "      <td>...</td>\n",
              "      <td>night</td>\n",
              "      <td>small</td>\n",
              "      <td>saika</td>\n",
              "      <td>mid</td>\n",
              "      <td>saturday</td>\n",
              "      <td>weekend</td>\n",
              "      <td>no</td>\n",
              "      <td>20</td>\n",
              "      <td>5</td>\n",
              "      <td>2017</td>\n",
              "    </tr>\n",
              "    <tr>\n",
              "      <th>2</th>\n",
              "      <td>acacia</td>\n",
              "      <td>3</td>\n",
              "      <td>1</td>\n",
              "      <td>270.0</td>\n",
              "      <td>300</td>\n",
              "      <td>30.0</td>\n",
              "      <td>cash</td>\n",
              "      <td>yes</td>\n",
              "      <td>no</td>\n",
              "      <td>no</td>\n",
              "      <td>...</td>\n",
              "      <td>night</td>\n",
              "      <td>small</td>\n",
              "      <td>saika</td>\n",
              "      <td>mid</td>\n",
              "      <td>saturday</td>\n",
              "      <td>weekend</td>\n",
              "      <td>no</td>\n",
              "      <td>20</td>\n",
              "      <td>5</td>\n",
              "      <td>2017</td>\n",
              "    </tr>\n",
              "    <tr>\n",
              "      <th>3</th>\n",
              "      <td>acacia</td>\n",
              "      <td>3</td>\n",
              "      <td>1</td>\n",
              "      <td>137.0</td>\n",
              "      <td>200</td>\n",
              "      <td>63.0</td>\n",
              "      <td>cash</td>\n",
              "      <td>yes</td>\n",
              "      <td>no</td>\n",
              "      <td>no</td>\n",
              "      <td>...</td>\n",
              "      <td>night</td>\n",
              "      <td>small</td>\n",
              "      <td>saika</td>\n",
              "      <td>mid</td>\n",
              "      <td>saturday</td>\n",
              "      <td>weekend</td>\n",
              "      <td>no</td>\n",
              "      <td>20</td>\n",
              "      <td>5</td>\n",
              "      <td>2017</td>\n",
              "    </tr>\n",
              "    <tr>\n",
              "      <th>4</th>\n",
              "      <td>acacia</td>\n",
              "      <td>1</td>\n",
              "      <td>1</td>\n",
              "      <td>75.0</td>\n",
              "      <td>80</td>\n",
              "      <td>5.0</td>\n",
              "      <td>cash</td>\n",
              "      <td>yes</td>\n",
              "      <td>no</td>\n",
              "      <td>no</td>\n",
              "      <td>...</td>\n",
              "      <td>afternoon</td>\n",
              "      <td>small</td>\n",
              "      <td>saika</td>\n",
              "      <td>mid</td>\n",
              "      <td>saturday</td>\n",
              "      <td>weekend</td>\n",
              "      <td>no</td>\n",
              "      <td>20</td>\n",
              "      <td>5</td>\n",
              "      <td>2017</td>\n",
              "    </tr>\n",
              "  </tbody>\n",
              "</table>\n",
              "<p>5 rows × 27 columns</p>\n",
              "</div>"
            ],
            "text/plain": [
              "  supermarket  no_of_items  variation  total  paid  change  type food snack  \\\n",
              "0      acacia            1          1   90.0   100    10.0  cash  yes    no   \n",
              "1      acacia            1          1   90.0   500   410.0  cash  yes    no   \n",
              "2      acacia            3          1  270.0   300    30.0  cash  yes    no   \n",
              "3      acacia            3          1  137.0   200    63.0  cash  yes    no   \n",
              "4      acacia            1          1   75.0    80     5.0  cash  yes    no   \n",
              "\n",
              "  beverage  ...  time_type type_market location loc_category       day  \\\n",
              "0       no  ...      night       small    saika          mid  saturday   \n",
              "1       no  ...      night       small    saika          mid  saturday   \n",
              "2       no  ...      night       small    saika          mid  saturday   \n",
              "3       no  ...      night       small    saika          mid  saturday   \n",
              "4       no  ...  afternoon       small    saika          mid  saturday   \n",
              "\n",
              "  day_type 24hr day.1 month  year  \n",
              "0  weekend   no    20     5  2017  \n",
              "1  weekend   no    20     5  2017  \n",
              "2  weekend   no    20     5  2017  \n",
              "3  weekend   no    20     5  2017  \n",
              "4  weekend   no    20     5  2017  \n",
              "\n",
              "[5 rows x 27 columns]"
            ]
          },
          "execution_count": 16,
          "metadata": {},
          "output_type": "execute_result"
        }
      ]
    },
    {
      "cell_type": "code",
      "metadata": {
        "id": "gqUtwaeaYAuv",
        "outputId": "53f7c794-b7ac-4b34-81a9-bb24cd415bcb"
      },
      "source": [
        "df1['day.1']"
      ],
      "execution_count": null,
      "outputs": [
        {
          "data": {
            "text/plain": [
              "0       20\n",
              "1       20\n",
              "2       20\n",
              "3       20\n",
              "4       20\n",
              "        ..\n",
              "1459    15\n",
              "1460    17\n",
              "1461    30\n",
              "1462     8\n",
              "1463    23\n",
              "Name: day.1, Length: 1461, dtype: int32"
            ]
          },
          "execution_count": 47,
          "metadata": {},
          "output_type": "execute_result"
        }
      ]
    },
    {
      "cell_type": "code",
      "metadata": {
        "id": "uR6S2YLOYAuw",
        "outputId": "4adfa6be-0137-4bcc-b9c3-2b141e8ae1b7"
      },
      "source": [
        "df1[[\"year\", \"month\",\"day.1\"]]"
      ],
      "execution_count": null,
      "outputs": [
        {
          "data": {
            "text/html": [
              "<div>\n",
              "<style scoped>\n",
              "    .dataframe tbody tr th:only-of-type {\n",
              "        vertical-align: middle;\n",
              "    }\n",
              "\n",
              "    .dataframe tbody tr th {\n",
              "        vertical-align: top;\n",
              "    }\n",
              "\n",
              "    .dataframe thead th {\n",
              "        text-align: right;\n",
              "    }\n",
              "</style>\n",
              "<table border=\"1\" class=\"dataframe\">\n",
              "  <thead>\n",
              "    <tr style=\"text-align: right;\">\n",
              "      <th></th>\n",
              "      <th>year</th>\n",
              "      <th>month</th>\n",
              "      <th>day.1</th>\n",
              "    </tr>\n",
              "  </thead>\n",
              "  <tbody>\n",
              "    <tr>\n",
              "      <th>0</th>\n",
              "      <td>2017</td>\n",
              "      <td>5</td>\n",
              "      <td>20</td>\n",
              "    </tr>\n",
              "    <tr>\n",
              "      <th>1</th>\n",
              "      <td>2017</td>\n",
              "      <td>5</td>\n",
              "      <td>20</td>\n",
              "    </tr>\n",
              "    <tr>\n",
              "      <th>2</th>\n",
              "      <td>2017</td>\n",
              "      <td>5</td>\n",
              "      <td>20</td>\n",
              "    </tr>\n",
              "    <tr>\n",
              "      <th>3</th>\n",
              "      <td>2017</td>\n",
              "      <td>5</td>\n",
              "      <td>20</td>\n",
              "    </tr>\n",
              "    <tr>\n",
              "      <th>4</th>\n",
              "      <td>2017</td>\n",
              "      <td>5</td>\n",
              "      <td>20</td>\n",
              "    </tr>\n",
              "    <tr>\n",
              "      <th>...</th>\n",
              "      <td>...</td>\n",
              "      <td>...</td>\n",
              "      <td>...</td>\n",
              "    </tr>\n",
              "    <tr>\n",
              "      <th>1459</th>\n",
              "      <td>2017</td>\n",
              "      <td>6</td>\n",
              "      <td>15</td>\n",
              "    </tr>\n",
              "    <tr>\n",
              "      <th>1460</th>\n",
              "      <td>2017</td>\n",
              "      <td>7</td>\n",
              "      <td>17</td>\n",
              "    </tr>\n",
              "    <tr>\n",
              "      <th>1461</th>\n",
              "      <td>2017</td>\n",
              "      <td>6</td>\n",
              "      <td>30</td>\n",
              "    </tr>\n",
              "    <tr>\n",
              "      <th>1462</th>\n",
              "      <td>2017</td>\n",
              "      <td>5</td>\n",
              "      <td>8</td>\n",
              "    </tr>\n",
              "    <tr>\n",
              "      <th>1463</th>\n",
              "      <td>2017</td>\n",
              "      <td>6</td>\n",
              "      <td>23</td>\n",
              "    </tr>\n",
              "  </tbody>\n",
              "</table>\n",
              "<p>1461 rows × 3 columns</p>\n",
              "</div>"
            ],
            "text/plain": [
              "      year  month  day.1\n",
              "0     2017      5     20\n",
              "1     2017      5     20\n",
              "2     2017      5     20\n",
              "3     2017      5     20\n",
              "4     2017      5     20\n",
              "...    ...    ...    ...\n",
              "1459  2017      6     15\n",
              "1460  2017      7     17\n",
              "1461  2017      6     30\n",
              "1462  2017      5      8\n",
              "1463  2017      6     23\n",
              "\n",
              "[1461 rows x 3 columns]"
            ]
          },
          "execution_count": 13,
          "metadata": {},
          "output_type": "execute_result"
        }
      ]
    },
    {
      "cell_type": "code",
      "metadata": {
        "id": "_li6pvz0YAux",
        "outputId": "01d58cba-9de8-4530-d1f9-82f5b8842284"
      },
      "source": [
        "pd.to_datetime(df1[\"year\"][0],df1['month'][0],df1['day.1'][0])"
      ],
      "execution_count": null,
      "outputs": [
        {
          "ename": "AssertionError",
          "evalue": "",
          "output_type": "error",
          "traceback": [
            "\u001b[1;31m---------------------------------------------------------------------------\u001b[0m",
            "\u001b[1;31mAssertionError\u001b[0m                            Traceback (most recent call last)",
            "\u001b[1;32m<ipython-input-17-aec584860a7e>\u001b[0m in \u001b[0;36m<module>\u001b[1;34m\u001b[0m\n\u001b[1;32m----> 1\u001b[1;33m \u001b[0mpd\u001b[0m\u001b[1;33m.\u001b[0m\u001b[0mto_datetime\u001b[0m\u001b[1;33m(\u001b[0m\u001b[0mdf1\u001b[0m\u001b[1;33m[\u001b[0m\u001b[1;34m\"year\"\u001b[0m\u001b[1;33m]\u001b[0m\u001b[1;33m[\u001b[0m\u001b[1;36m0\u001b[0m\u001b[1;33m]\u001b[0m\u001b[1;33m,\u001b[0m\u001b[0mdf1\u001b[0m\u001b[1;33m[\u001b[0m\u001b[1;34m'month'\u001b[0m\u001b[1;33m]\u001b[0m\u001b[1;33m[\u001b[0m\u001b[1;36m0\u001b[0m\u001b[1;33m]\u001b[0m\u001b[1;33m,\u001b[0m\u001b[0mdf1\u001b[0m\u001b[1;33m[\u001b[0m\u001b[1;34m'day.1'\u001b[0m\u001b[1;33m]\u001b[0m\u001b[1;33m[\u001b[0m\u001b[1;36m0\u001b[0m\u001b[1;33m]\u001b[0m\u001b[1;33m)\u001b[0m\u001b[1;33m\u001b[0m\u001b[1;33m\u001b[0m\u001b[0m\n\u001b[0m",
            "\u001b[1;32m~\\anaconda3\\lib\\site-packages\\pandas\\core\\tools\\datetimes.py\u001b[0m in \u001b[0;36mto_datetime\u001b[1;34m(arg, errors, dayfirst, yearfirst, utc, format, exact, unit, infer_datetime_format, origin, cache)\u001b[0m\n\u001b[0;32m    828\u001b[0m             \u001b[0mresult\u001b[0m \u001b[1;33m=\u001b[0m \u001b[0mconvert_listlike\u001b[0m\u001b[1;33m(\u001b[0m\u001b[0marg\u001b[0m\u001b[1;33m,\u001b[0m \u001b[0mformat\u001b[0m\u001b[1;33m)\u001b[0m\u001b[1;33m\u001b[0m\u001b[1;33m\u001b[0m\u001b[0m\n\u001b[0;32m    829\u001b[0m     \u001b[1;32melse\u001b[0m\u001b[1;33m:\u001b[0m\u001b[1;33m\u001b[0m\u001b[1;33m\u001b[0m\u001b[0m\n\u001b[1;32m--> 830\u001b[1;33m         \u001b[0mresult\u001b[0m \u001b[1;33m=\u001b[0m \u001b[0mconvert_listlike\u001b[0m\u001b[1;33m(\u001b[0m\u001b[0mnp\u001b[0m\u001b[1;33m.\u001b[0m\u001b[0marray\u001b[0m\u001b[1;33m(\u001b[0m\u001b[1;33m[\u001b[0m\u001b[0marg\u001b[0m\u001b[1;33m]\u001b[0m\u001b[1;33m)\u001b[0m\u001b[1;33m,\u001b[0m \u001b[0mformat\u001b[0m\u001b[1;33m)\u001b[0m\u001b[1;33m[\u001b[0m\u001b[1;36m0\u001b[0m\u001b[1;33m]\u001b[0m\u001b[1;33m\u001b[0m\u001b[1;33m\u001b[0m\u001b[0m\n\u001b[0m\u001b[0;32m    831\u001b[0m \u001b[1;33m\u001b[0m\u001b[0m\n\u001b[0;32m    832\u001b[0m     \u001b[1;32mreturn\u001b[0m \u001b[0mresult\u001b[0m\u001b[1;33m\u001b[0m\u001b[1;33m\u001b[0m\u001b[0m\n",
            "\u001b[1;32m~\\anaconda3\\lib\\site-packages\\pandas\\core\\tools\\datetimes.py\u001b[0m in \u001b[0;36m_convert_listlike_datetimes\u001b[1;34m(arg, format, name, tz, unit, errors, infer_datetime_format, dayfirst, yearfirst, exact)\u001b[0m\n\u001b[0;32m    457\u001b[0m         \u001b[1;32massert\u001b[0m \u001b[0mformat\u001b[0m \u001b[1;32mis\u001b[0m \u001b[1;32mNone\u001b[0m \u001b[1;32mor\u001b[0m \u001b[0minfer_datetime_format\u001b[0m\u001b[1;33m\u001b[0m\u001b[1;33m\u001b[0m\u001b[0m\n\u001b[0;32m    458\u001b[0m         \u001b[0mutc\u001b[0m \u001b[1;33m=\u001b[0m \u001b[0mtz\u001b[0m \u001b[1;33m==\u001b[0m \u001b[1;34m\"utc\"\u001b[0m\u001b[1;33m\u001b[0m\u001b[1;33m\u001b[0m\u001b[0m\n\u001b[1;32m--> 459\u001b[1;33m         result, tz_parsed = objects_to_datetime64ns(\n\u001b[0m\u001b[0;32m    460\u001b[0m             \u001b[0marg\u001b[0m\u001b[1;33m,\u001b[0m\u001b[1;33m\u001b[0m\u001b[1;33m\u001b[0m\u001b[0m\n\u001b[0;32m    461\u001b[0m             \u001b[0mdayfirst\u001b[0m\u001b[1;33m=\u001b[0m\u001b[0mdayfirst\u001b[0m\u001b[1;33m,\u001b[0m\u001b[1;33m\u001b[0m\u001b[1;33m\u001b[0m\u001b[0m\n",
            "\u001b[1;32m~\\anaconda3\\lib\\site-packages\\pandas\\core\\arrays\\datetimes.py\u001b[0m in \u001b[0;36mobjects_to_datetime64ns\u001b[1;34m(data, dayfirst, yearfirst, utc, errors, require_iso8601, allow_object)\u001b[0m\n\u001b[0;32m   2036\u001b[0m     \u001b[0mValueError\u001b[0m \u001b[1;33m:\u001b[0m \u001b[1;32mif\u001b[0m \u001b[0mdata\u001b[0m \u001b[0mcannot\u001b[0m \u001b[0mbe\u001b[0m \u001b[0mconverted\u001b[0m \u001b[0mto\u001b[0m \u001b[0mdatetimes\u001b[0m\u001b[1;33m\u001b[0m\u001b[1;33m\u001b[0m\u001b[0m\n\u001b[0;32m   2037\u001b[0m     \"\"\"\n\u001b[1;32m-> 2038\u001b[1;33m     \u001b[1;32massert\u001b[0m \u001b[0merrors\u001b[0m \u001b[1;32min\u001b[0m \u001b[1;33m[\u001b[0m\u001b[1;34m\"raise\"\u001b[0m\u001b[1;33m,\u001b[0m \u001b[1;34m\"ignore\"\u001b[0m\u001b[1;33m,\u001b[0m \u001b[1;34m\"coerce\"\u001b[0m\u001b[1;33m]\u001b[0m\u001b[1;33m\u001b[0m\u001b[1;33m\u001b[0m\u001b[0m\n\u001b[0m\u001b[0;32m   2039\u001b[0m \u001b[1;33m\u001b[0m\u001b[0m\n\u001b[0;32m   2040\u001b[0m     \u001b[1;31m# if str-dtype, convert\u001b[0m\u001b[1;33m\u001b[0m\u001b[1;33m\u001b[0m\u001b[1;33m\u001b[0m\u001b[0m\n",
            "\u001b[1;31mAssertionError\u001b[0m: "
          ]
        }
      ]
    },
    {
      "cell_type": "code",
      "metadata": {
        "id": "kFQwMjQTYAuy",
        "outputId": "045b81b4-1f9e-497c-e6bc-03681ceef4af"
      },
      "source": [
        ""
      ],
      "execution_count": null,
      "outputs": [
        {
          "ename": "ValueError",
          "evalue": "to assemble mappings requires at least that [year, month, day] be specified: [day] is missing",
          "output_type": "error",
          "traceback": [
            "\u001b[1;31m---------------------------------------------------------------------------\u001b[0m",
            "\u001b[1;31mValueError\u001b[0m                                Traceback (most recent call last)",
            "\u001b[1;32m<ipython-input-46-e6a281969752>\u001b[0m in \u001b[0;36m<module>\u001b[1;34m\u001b[0m\n\u001b[1;32m----> 1\u001b[1;33m \u001b[0mdf1\u001b[0m\u001b[1;33m[\u001b[0m\u001b[1;34m'dateTime'\u001b[0m\u001b[1;33m]\u001b[0m \u001b[1;33m=\u001b[0m \u001b[0mpd\u001b[0m\u001b[1;33m.\u001b[0m\u001b[0mto_datetime\u001b[0m\u001b[1;33m(\u001b[0m\u001b[0mdf1\u001b[0m\u001b[1;33m[\u001b[0m\u001b[1;33m[\u001b[0m\u001b[1;34m\"year\"\u001b[0m\u001b[1;33m,\u001b[0m \u001b[1;34m\"month\"\u001b[0m\u001b[1;33m,\u001b[0m \u001b[1;34m\"day.1\"\u001b[0m\u001b[1;33m]\u001b[0m\u001b[1;33m]\u001b[0m\u001b[1;33m)\u001b[0m\u001b[1;33m\u001b[0m\u001b[1;33m\u001b[0m\u001b[0m\n\u001b[0m",
            "\u001b[1;32m~\\anaconda3\\lib\\site-packages\\pandas\\core\\tools\\datetimes.py\u001b[0m in \u001b[0;36mto_datetime\u001b[1;34m(arg, errors, dayfirst, yearfirst, utc, format, exact, unit, infer_datetime_format, origin, cache)\u001b[0m\n\u001b[0;32m    804\u001b[0m             \u001b[0mresult\u001b[0m \u001b[1;33m=\u001b[0m \u001b[0marg\u001b[0m\u001b[1;33m.\u001b[0m\u001b[0m_constructor\u001b[0m\u001b[1;33m(\u001b[0m\u001b[0mvalues\u001b[0m\u001b[1;33m,\u001b[0m \u001b[0mindex\u001b[0m\u001b[1;33m=\u001b[0m\u001b[0marg\u001b[0m\u001b[1;33m.\u001b[0m\u001b[0mindex\u001b[0m\u001b[1;33m,\u001b[0m \u001b[0mname\u001b[0m\u001b[1;33m=\u001b[0m\u001b[0marg\u001b[0m\u001b[1;33m.\u001b[0m\u001b[0mname\u001b[0m\u001b[1;33m)\u001b[0m\u001b[1;33m\u001b[0m\u001b[1;33m\u001b[0m\u001b[0m\n\u001b[0;32m    805\u001b[0m     \u001b[1;32melif\u001b[0m \u001b[0misinstance\u001b[0m\u001b[1;33m(\u001b[0m\u001b[0marg\u001b[0m\u001b[1;33m,\u001b[0m \u001b[1;33m(\u001b[0m\u001b[0mABCDataFrame\u001b[0m\u001b[1;33m,\u001b[0m \u001b[0mabc\u001b[0m\u001b[1;33m.\u001b[0m\u001b[0mMutableMapping\u001b[0m\u001b[1;33m)\u001b[0m\u001b[1;33m)\u001b[0m\u001b[1;33m:\u001b[0m\u001b[1;33m\u001b[0m\u001b[1;33m\u001b[0m\u001b[0m\n\u001b[1;32m--> 806\u001b[1;33m         \u001b[0mresult\u001b[0m \u001b[1;33m=\u001b[0m \u001b[0m_assemble_from_unit_mappings\u001b[0m\u001b[1;33m(\u001b[0m\u001b[0marg\u001b[0m\u001b[1;33m,\u001b[0m \u001b[0merrors\u001b[0m\u001b[1;33m,\u001b[0m \u001b[0mtz\u001b[0m\u001b[1;33m)\u001b[0m\u001b[1;33m\u001b[0m\u001b[1;33m\u001b[0m\u001b[0m\n\u001b[0m\u001b[0;32m    807\u001b[0m     \u001b[1;32melif\u001b[0m \u001b[0misinstance\u001b[0m\u001b[1;33m(\u001b[0m\u001b[0marg\u001b[0m\u001b[1;33m,\u001b[0m \u001b[0mIndex\u001b[0m\u001b[1;33m)\u001b[0m\u001b[1;33m:\u001b[0m\u001b[1;33m\u001b[0m\u001b[1;33m\u001b[0m\u001b[0m\n\u001b[0;32m    808\u001b[0m         \u001b[0mcache_array\u001b[0m \u001b[1;33m=\u001b[0m \u001b[0m_maybe_cache\u001b[0m\u001b[1;33m(\u001b[0m\u001b[0marg\u001b[0m\u001b[1;33m,\u001b[0m \u001b[0mformat\u001b[0m\u001b[1;33m,\u001b[0m \u001b[0mcache\u001b[0m\u001b[1;33m,\u001b[0m \u001b[0mconvert_listlike\u001b[0m\u001b[1;33m)\u001b[0m\u001b[1;33m\u001b[0m\u001b[1;33m\u001b[0m\u001b[0m\n",
            "\u001b[1;32m~\\anaconda3\\lib\\site-packages\\pandas\\core\\tools\\datetimes.py\u001b[0m in \u001b[0;36m_assemble_from_unit_mappings\u001b[1;34m(arg, errors, tz)\u001b[0m\n\u001b[0;32m    903\u001b[0m     \u001b[1;32mif\u001b[0m \u001b[0mlen\u001b[0m\u001b[1;33m(\u001b[0m\u001b[0mreq\u001b[0m\u001b[1;33m)\u001b[0m\u001b[1;33m:\u001b[0m\u001b[1;33m\u001b[0m\u001b[1;33m\u001b[0m\u001b[0m\n\u001b[0;32m    904\u001b[0m         \u001b[0m_required\u001b[0m \u001b[1;33m=\u001b[0m \u001b[1;34m\",\"\u001b[0m\u001b[1;33m.\u001b[0m\u001b[0mjoin\u001b[0m\u001b[1;33m(\u001b[0m\u001b[0mreq\u001b[0m\u001b[1;33m)\u001b[0m\u001b[1;33m\u001b[0m\u001b[1;33m\u001b[0m\u001b[0m\n\u001b[1;32m--> 905\u001b[1;33m         raise ValueError(\n\u001b[0m\u001b[0;32m    906\u001b[0m             \u001b[1;34m\"to assemble mappings requires at least that \"\u001b[0m\u001b[1;33m\u001b[0m\u001b[1;33m\u001b[0m\u001b[0m\n\u001b[0;32m    907\u001b[0m             \u001b[1;34mf\"[year, month, day] be specified: [{_required}] is missing\"\u001b[0m\u001b[1;33m\u001b[0m\u001b[1;33m\u001b[0m\u001b[0m\n",
            "\u001b[1;31mValueError\u001b[0m: to assemble mappings requires at least that [year, month, day] be specified: [day] is missing"
          ]
        }
      ]
    },
    {
      "cell_type": "code",
      "metadata": {
        "id": "QxgQ_zBGYAuz"
      },
      "source": [
        "df2 = df1[[\"year\", \"month\", \"day.1\"]].copy()\n",
        "df2.columns = [\"year\", \"month\", \"day\"]\n",
        "df1['dateTime'] = pd.to_datetime(df2)"
      ],
      "execution_count": null,
      "outputs": []
    },
    {
      "cell_type": "code",
      "metadata": {
        "id": "bHnioXO0YAuz",
        "outputId": "5af389ba-67e6-4db5-d5c8-d267438c5fde"
      },
      "source": [
        "df1.head()"
      ],
      "execution_count": null,
      "outputs": [
        {
          "data": {
            "text/html": [
              "<div>\n",
              "<style scoped>\n",
              "    .dataframe tbody tr th:only-of-type {\n",
              "        vertical-align: middle;\n",
              "    }\n",
              "\n",
              "    .dataframe tbody tr th {\n",
              "        vertical-align: top;\n",
              "    }\n",
              "\n",
              "    .dataframe thead th {\n",
              "        text-align: right;\n",
              "    }\n",
              "</style>\n",
              "<table border=\"1\" class=\"dataframe\">\n",
              "  <thead>\n",
              "    <tr style=\"text-align: right;\">\n",
              "      <th></th>\n",
              "      <th>supermarket</th>\n",
              "      <th>no_of_items</th>\n",
              "      <th>variation</th>\n",
              "      <th>total</th>\n",
              "      <th>paid</th>\n",
              "      <th>change</th>\n",
              "      <th>type</th>\n",
              "      <th>food</th>\n",
              "      <th>snack</th>\n",
              "      <th>beverage</th>\n",
              "      <th>...</th>\n",
              "      <th>type_market</th>\n",
              "      <th>location</th>\n",
              "      <th>loc_category</th>\n",
              "      <th>day</th>\n",
              "      <th>day_type</th>\n",
              "      <th>24hr</th>\n",
              "      <th>day.1</th>\n",
              "      <th>month</th>\n",
              "      <th>year</th>\n",
              "      <th>dateTime</th>\n",
              "    </tr>\n",
              "  </thead>\n",
              "  <tbody>\n",
              "    <tr>\n",
              "      <th>0</th>\n",
              "      <td>acacia</td>\n",
              "      <td>1</td>\n",
              "      <td>1</td>\n",
              "      <td>90.0</td>\n",
              "      <td>100</td>\n",
              "      <td>10.0</td>\n",
              "      <td>cash</td>\n",
              "      <td>yes</td>\n",
              "      <td>no</td>\n",
              "      <td>no</td>\n",
              "      <td>...</td>\n",
              "      <td>small</td>\n",
              "      <td>saika</td>\n",
              "      <td>mid</td>\n",
              "      <td>saturday</td>\n",
              "      <td>weekend</td>\n",
              "      <td>no</td>\n",
              "      <td>20</td>\n",
              "      <td>5</td>\n",
              "      <td>2017</td>\n",
              "      <td>2017-05-20</td>\n",
              "    </tr>\n",
              "    <tr>\n",
              "      <th>1</th>\n",
              "      <td>acacia</td>\n",
              "      <td>1</td>\n",
              "      <td>1</td>\n",
              "      <td>90.0</td>\n",
              "      <td>500</td>\n",
              "      <td>410.0</td>\n",
              "      <td>cash</td>\n",
              "      <td>yes</td>\n",
              "      <td>no</td>\n",
              "      <td>no</td>\n",
              "      <td>...</td>\n",
              "      <td>small</td>\n",
              "      <td>saika</td>\n",
              "      <td>mid</td>\n",
              "      <td>saturday</td>\n",
              "      <td>weekend</td>\n",
              "      <td>no</td>\n",
              "      <td>20</td>\n",
              "      <td>5</td>\n",
              "      <td>2017</td>\n",
              "      <td>2017-05-20</td>\n",
              "    </tr>\n",
              "    <tr>\n",
              "      <th>2</th>\n",
              "      <td>acacia</td>\n",
              "      <td>3</td>\n",
              "      <td>1</td>\n",
              "      <td>270.0</td>\n",
              "      <td>300</td>\n",
              "      <td>30.0</td>\n",
              "      <td>cash</td>\n",
              "      <td>yes</td>\n",
              "      <td>no</td>\n",
              "      <td>no</td>\n",
              "      <td>...</td>\n",
              "      <td>small</td>\n",
              "      <td>saika</td>\n",
              "      <td>mid</td>\n",
              "      <td>saturday</td>\n",
              "      <td>weekend</td>\n",
              "      <td>no</td>\n",
              "      <td>20</td>\n",
              "      <td>5</td>\n",
              "      <td>2017</td>\n",
              "      <td>2017-05-20</td>\n",
              "    </tr>\n",
              "    <tr>\n",
              "      <th>3</th>\n",
              "      <td>acacia</td>\n",
              "      <td>3</td>\n",
              "      <td>1</td>\n",
              "      <td>137.0</td>\n",
              "      <td>200</td>\n",
              "      <td>63.0</td>\n",
              "      <td>cash</td>\n",
              "      <td>yes</td>\n",
              "      <td>no</td>\n",
              "      <td>no</td>\n",
              "      <td>...</td>\n",
              "      <td>small</td>\n",
              "      <td>saika</td>\n",
              "      <td>mid</td>\n",
              "      <td>saturday</td>\n",
              "      <td>weekend</td>\n",
              "      <td>no</td>\n",
              "      <td>20</td>\n",
              "      <td>5</td>\n",
              "      <td>2017</td>\n",
              "      <td>2017-05-20</td>\n",
              "    </tr>\n",
              "    <tr>\n",
              "      <th>4</th>\n",
              "      <td>acacia</td>\n",
              "      <td>1</td>\n",
              "      <td>1</td>\n",
              "      <td>75.0</td>\n",
              "      <td>80</td>\n",
              "      <td>5.0</td>\n",
              "      <td>cash</td>\n",
              "      <td>yes</td>\n",
              "      <td>no</td>\n",
              "      <td>no</td>\n",
              "      <td>...</td>\n",
              "      <td>small</td>\n",
              "      <td>saika</td>\n",
              "      <td>mid</td>\n",
              "      <td>saturday</td>\n",
              "      <td>weekend</td>\n",
              "      <td>no</td>\n",
              "      <td>20</td>\n",
              "      <td>5</td>\n",
              "      <td>2017</td>\n",
              "      <td>2017-05-20</td>\n",
              "    </tr>\n",
              "  </tbody>\n",
              "</table>\n",
              "<p>5 rows × 28 columns</p>\n",
              "</div>"
            ],
            "text/plain": [
              "  supermarket  no_of_items  variation  total  paid  change  type food snack  \\\n",
              "0      acacia            1          1   90.0   100    10.0  cash  yes    no   \n",
              "1      acacia            1          1   90.0   500   410.0  cash  yes    no   \n",
              "2      acacia            3          1  270.0   300    30.0  cash  yes    no   \n",
              "3      acacia            3          1  137.0   200    63.0  cash  yes    no   \n",
              "4      acacia            1          1   75.0    80     5.0  cash  yes    no   \n",
              "\n",
              "  beverage  ... type_market location loc_category       day day_type 24hr  \\\n",
              "0       no  ...       small    saika          mid  saturday  weekend   no   \n",
              "1       no  ...       small    saika          mid  saturday  weekend   no   \n",
              "2       no  ...       small    saika          mid  saturday  weekend   no   \n",
              "3       no  ...       small    saika          mid  saturday  weekend   no   \n",
              "4       no  ...       small    saika          mid  saturday  weekend   no   \n",
              "\n",
              "  day.1 month  year   dateTime  \n",
              "0    20     5  2017 2017-05-20  \n",
              "1    20     5  2017 2017-05-20  \n",
              "2    20     5  2017 2017-05-20  \n",
              "3    20     5  2017 2017-05-20  \n",
              "4    20     5  2017 2017-05-20  \n",
              "\n",
              "[5 rows x 28 columns]"
            ]
          },
          "execution_count": 21,
          "metadata": {},
          "output_type": "execute_result"
        }
      ]
    },
    {
      "cell_type": "code",
      "metadata": {
        "id": "sNuJr2RtYAu0",
        "outputId": "b5329aa4-a576-4bbf-e158-0d5edba5c6d3"
      },
      "source": [
        "#Dropping day month and year columns\n",
        "df1.drop(['year','month','day.1'],axis = 1, inplace = True)\n",
        "df1.head()"
      ],
      "execution_count": null,
      "outputs": [
        {
          "data": {
            "text/html": [
              "<div>\n",
              "<style scoped>\n",
              "    .dataframe tbody tr th:only-of-type {\n",
              "        vertical-align: middle;\n",
              "    }\n",
              "\n",
              "    .dataframe tbody tr th {\n",
              "        vertical-align: top;\n",
              "    }\n",
              "\n",
              "    .dataframe thead th {\n",
              "        text-align: right;\n",
              "    }\n",
              "</style>\n",
              "<table border=\"1\" class=\"dataframe\">\n",
              "  <thead>\n",
              "    <tr style=\"text-align: right;\">\n",
              "      <th></th>\n",
              "      <th>supermarket</th>\n",
              "      <th>no_of_items</th>\n",
              "      <th>variation</th>\n",
              "      <th>total</th>\n",
              "      <th>paid</th>\n",
              "      <th>change</th>\n",
              "      <th>type</th>\n",
              "      <th>food</th>\n",
              "      <th>snack</th>\n",
              "      <th>beverage</th>\n",
              "      <th>...</th>\n",
              "      <th>mall</th>\n",
              "      <th>time</th>\n",
              "      <th>time_type</th>\n",
              "      <th>type_market</th>\n",
              "      <th>location</th>\n",
              "      <th>loc_category</th>\n",
              "      <th>day</th>\n",
              "      <th>day_type</th>\n",
              "      <th>24hr</th>\n",
              "      <th>dateTime</th>\n",
              "    </tr>\n",
              "  </thead>\n",
              "  <tbody>\n",
              "    <tr>\n",
              "      <th>0</th>\n",
              "      <td>acacia</td>\n",
              "      <td>1</td>\n",
              "      <td>1</td>\n",
              "      <td>90.0</td>\n",
              "      <td>100</td>\n",
              "      <td>10.0</td>\n",
              "      <td>cash</td>\n",
              "      <td>yes</td>\n",
              "      <td>no</td>\n",
              "      <td>no</td>\n",
              "      <td>...</td>\n",
              "      <td>no</td>\n",
              "      <td>19:33</td>\n",
              "      <td>night</td>\n",
              "      <td>small</td>\n",
              "      <td>saika</td>\n",
              "      <td>mid</td>\n",
              "      <td>saturday</td>\n",
              "      <td>weekend</td>\n",
              "      <td>no</td>\n",
              "      <td>2017-05-20</td>\n",
              "    </tr>\n",
              "    <tr>\n",
              "      <th>1</th>\n",
              "      <td>acacia</td>\n",
              "      <td>1</td>\n",
              "      <td>1</td>\n",
              "      <td>90.0</td>\n",
              "      <td>500</td>\n",
              "      <td>410.0</td>\n",
              "      <td>cash</td>\n",
              "      <td>yes</td>\n",
              "      <td>no</td>\n",
              "      <td>no</td>\n",
              "      <td>...</td>\n",
              "      <td>no</td>\n",
              "      <td>19:12</td>\n",
              "      <td>night</td>\n",
              "      <td>small</td>\n",
              "      <td>saika</td>\n",
              "      <td>mid</td>\n",
              "      <td>saturday</td>\n",
              "      <td>weekend</td>\n",
              "      <td>no</td>\n",
              "      <td>2017-05-20</td>\n",
              "    </tr>\n",
              "    <tr>\n",
              "      <th>2</th>\n",
              "      <td>acacia</td>\n",
              "      <td>3</td>\n",
              "      <td>1</td>\n",
              "      <td>270.0</td>\n",
              "      <td>300</td>\n",
              "      <td>30.0</td>\n",
              "      <td>cash</td>\n",
              "      <td>yes</td>\n",
              "      <td>no</td>\n",
              "      <td>no</td>\n",
              "      <td>...</td>\n",
              "      <td>no</td>\n",
              "      <td>19:16</td>\n",
              "      <td>night</td>\n",
              "      <td>small</td>\n",
              "      <td>saika</td>\n",
              "      <td>mid</td>\n",
              "      <td>saturday</td>\n",
              "      <td>weekend</td>\n",
              "      <td>no</td>\n",
              "      <td>2017-05-20</td>\n",
              "    </tr>\n",
              "    <tr>\n",
              "      <th>3</th>\n",
              "      <td>acacia</td>\n",
              "      <td>3</td>\n",
              "      <td>1</td>\n",
              "      <td>137.0</td>\n",
              "      <td>200</td>\n",
              "      <td>63.0</td>\n",
              "      <td>cash</td>\n",
              "      <td>yes</td>\n",
              "      <td>no</td>\n",
              "      <td>no</td>\n",
              "      <td>...</td>\n",
              "      <td>no</td>\n",
              "      <td>19:12</td>\n",
              "      <td>night</td>\n",
              "      <td>small</td>\n",
              "      <td>saika</td>\n",
              "      <td>mid</td>\n",
              "      <td>saturday</td>\n",
              "      <td>weekend</td>\n",
              "      <td>no</td>\n",
              "      <td>2017-05-20</td>\n",
              "    </tr>\n",
              "    <tr>\n",
              "      <th>4</th>\n",
              "      <td>acacia</td>\n",
              "      <td>1</td>\n",
              "      <td>1</td>\n",
              "      <td>75.0</td>\n",
              "      <td>80</td>\n",
              "      <td>5.0</td>\n",
              "      <td>cash</td>\n",
              "      <td>yes</td>\n",
              "      <td>no</td>\n",
              "      <td>no</td>\n",
              "      <td>...</td>\n",
              "      <td>no</td>\n",
              "      <td>18:31</td>\n",
              "      <td>afternoon</td>\n",
              "      <td>small</td>\n",
              "      <td>saika</td>\n",
              "      <td>mid</td>\n",
              "      <td>saturday</td>\n",
              "      <td>weekend</td>\n",
              "      <td>no</td>\n",
              "      <td>2017-05-20</td>\n",
              "    </tr>\n",
              "  </tbody>\n",
              "</table>\n",
              "<p>5 rows × 25 columns</p>\n",
              "</div>"
            ],
            "text/plain": [
              "  supermarket  no_of_items  variation  total  paid  change  type food snack  \\\n",
              "0      acacia            1          1   90.0   100    10.0  cash  yes    no   \n",
              "1      acacia            1          1   90.0   500   410.0  cash  yes    no   \n",
              "2      acacia            3          1  270.0   300    30.0  cash  yes    no   \n",
              "3      acacia            3          1  137.0   200    63.0  cash  yes    no   \n",
              "4      acacia            1          1   75.0    80     5.0  cash  yes    no   \n",
              "\n",
              "  beverage  ... mall   time  time_type type_market location loc_category  \\\n",
              "0       no  ...   no  19:33      night       small    saika          mid   \n",
              "1       no  ...   no  19:12      night       small    saika          mid   \n",
              "2       no  ...   no  19:16      night       small    saika          mid   \n",
              "3       no  ...   no  19:12      night       small    saika          mid   \n",
              "4       no  ...   no  18:31  afternoon       small    saika          mid   \n",
              "\n",
              "        day day_type 24hr   dateTime  \n",
              "0  saturday  weekend   no 2017-05-20  \n",
              "1  saturday  weekend   no 2017-05-20  \n",
              "2  saturday  weekend   no 2017-05-20  \n",
              "3  saturday  weekend   no 2017-05-20  \n",
              "4  saturday  weekend   no 2017-05-20  \n",
              "\n",
              "[5 rows x 25 columns]"
            ]
          },
          "execution_count": 23,
          "metadata": {},
          "output_type": "execute_result"
        }
      ]
    },
    {
      "cell_type": "code",
      "metadata": {
        "id": "YTVjc9GQYAu1",
        "outputId": "e41f4490-8a09-4f65-c979-294b8d3c5453"
      },
      "source": [
        "\n",
        "#df.apply(lambda r : pd.datetime.combine(r['date_column_name'],r['time_column_name']).time(),1)\n",
        "#df['DateTime'] = pd.to_datetime(df.pop('day')) + pd.to_timedelta(df.pop('time'))\n",
        "\n",
        "df['day']\n"
      ],
      "execution_count": null,
      "outputs": [
        {
          "data": {
            "text/plain": [
              "0       saturday\n",
              "1       saturday\n",
              "2       saturday\n",
              "3       saturday\n",
              "4       saturday\n",
              "          ...   \n",
              "1459    Thursday\n",
              "1460      Monday\n",
              "1461      Sunday\n",
              "1462      Monday\n",
              "1463      Friday\n",
              "Name: day, Length: 1464, dtype: object"
            ]
          },
          "execution_count": 9,
          "metadata": {},
          "output_type": "execute_result"
        }
      ]
    },
    {
      "cell_type": "code",
      "metadata": {
        "colab": {
          "base_uri": "https://localhost:8080/"
        },
        "id": "1aZZ4GvM0XC-",
        "outputId": "44df1dfa-3203-4fc8-98b4-24a8cf222b2a"
      },
      "source": [
        ""
      ],
      "execution_count": null,
      "outputs": [
        {
          "name": "stdout",
          "output_type": "stream",
          "text": [
            "Mounted at /content/drive\n"
          ]
        }
      ]
    },
    {
      "cell_type": "code",
      "metadata": {
        "colab": {
          "base_uri": "https://localhost:8080/"
        },
        "id": "TsL2JG8x7vBe",
        "outputId": "27d9f90d-f7b5-40bf-97ce-ce4831f28d4f"
      },
      "source": [
        "#getting information on the dataframe\n",
        "df1.info()"
      ],
      "execution_count": null,
      "outputs": [
        {
          "name": "stdout",
          "output_type": "stream",
          "text": [
            "<class 'pandas.core.frame.DataFrame'>\n",
            "Int64Index: 1461 entries, 0 to 1463\n",
            "Data columns (total 25 columns):\n",
            " #   Column        Non-Null Count  Dtype         \n",
            "---  ------        --------------  -----         \n",
            " 0   supermarket   1461 non-null   object        \n",
            " 1   no_of_items   1461 non-null   int64         \n",
            " 2   variation     1461 non-null   int64         \n",
            " 3   total         1461 non-null   float64       \n",
            " 4   paid          1461 non-null   int64         \n",
            " 5   change        1461 non-null   float64       \n",
            " 6   type          1461 non-null   object        \n",
            " 7   food          1461 non-null   object        \n",
            " 8   snack         1461 non-null   object        \n",
            " 9   beverage      1461 non-null   object        \n",
            " 10  consumables   1461 non-null   object        \n",
            " 11  high_end      1461 non-null   object        \n",
            " 12  asset         1461 non-null   object        \n",
            " 13  fixed_asset   1461 non-null   object        \n",
            " 14  date          1461 non-null   object        \n",
            " 15  mall          1461 non-null   object        \n",
            " 16  time          1461 non-null   object        \n",
            " 17  time_type     1461 non-null   object        \n",
            " 18  type_market   1461 non-null   object        \n",
            " 19  location      1461 non-null   object        \n",
            " 20  loc_category  1461 non-null   object        \n",
            " 21  day           1461 non-null   object        \n",
            " 22  day_type      1461 non-null   object        \n",
            " 23  24hr          1461 non-null   object        \n",
            " 24  dateTime      1461 non-null   datetime64[ns]\n",
            "dtypes: datetime64[ns](1), float64(2), int64(3), object(19)\n",
            "memory usage: 336.8+ KB\n"
          ]
        }
      ]
    },
    {
      "cell_type": "markdown",
      "metadata": {
        "id": "6IYSkYh-GiC-"
      },
      "source": [
        "# df.drop()"
      ]
    },
    {
      "cell_type": "code",
      "metadata": {
        "colab": {
          "base_uri": "https://localhost:8080/"
        },
        "id": "3H-uhxSt77Z7",
        "outputId": "94fcea16-d37d-495c-b52e-bca34c1a95d4"
      },
      "source": [
        "#to get the number of rows and columns respectively\n",
        "df.shape"
      ],
      "execution_count": null,
      "outputs": [
        {
          "data": {
            "text/plain": [
              "(1464, 27)"
            ]
          },
          "execution_count": 9,
          "metadata": {},
          "output_type": "execute_result"
        }
      ]
    },
    {
      "cell_type": "code",
      "metadata": {
        "colab": {
          "base_uri": "https://localhost:8080/"
        },
        "id": "T35r-pP7mn0q",
        "outputId": "76d5a069-422b-4870-f9aa-38515ed85697"
      },
      "source": [
        "#to check null values in the DataFrame\n",
        "df.isnull().value_counts()"
      ],
      "execution_count": null,
      "outputs": [
        {
          "data": {
            "text/plain": [
              "supermarket  no_of_items  variation  total  paid   change  type   food   snack  beverage  consumables  high_end  asset  fixed_asset  date   mall   time   time_type  type_market  location  loc_category  day    day_type  24hr   day.1  month  year \n",
              "False        False        False      False  False  False   False  False  False  False     False        False     False  False        False  False  False  False      False        False     False         False  False     False  False  False  False    1461\n",
              "                                                                                                                                                                                                                                                True        2\n",
              "True         False        False      False  False  False   False  False  False  False     False        False     False  False        False  False  False  False      False        False     False         False  False     False  False  False  False       1\n",
              "dtype: int64"
            ]
          },
          "execution_count": 13,
          "metadata": {},
          "output_type": "execute_result"
        }
      ]
    },
    {
      "cell_type": "code",
      "metadata": {
        "colab": {
          "base_uri": "https://localhost:8080/",
          "height": 444
        },
        "id": "zQYCln4LmoBw",
        "outputId": "f7133fed-60c8-4820-88e9-845bd4946910"
      },
      "source": [
        "#to review the cleaned dataframe\n",
        "df1"
      ],
      "execution_count": null,
      "outputs": [
        {
          "data": {
            "text/html": [
              "<div>\n",
              "<style scoped>\n",
              "    .dataframe tbody tr th:only-of-type {\n",
              "        vertical-align: middle;\n",
              "    }\n",
              "\n",
              "    .dataframe tbody tr th {\n",
              "        vertical-align: top;\n",
              "    }\n",
              "\n",
              "    .dataframe thead th {\n",
              "        text-align: right;\n",
              "    }\n",
              "</style>\n",
              "<table border=\"1\" class=\"dataframe\">\n",
              "  <thead>\n",
              "    <tr style=\"text-align: right;\">\n",
              "      <th></th>\n",
              "      <th>supermarket</th>\n",
              "      <th>no_of_items</th>\n",
              "      <th>variation</th>\n",
              "      <th>total</th>\n",
              "      <th>paid</th>\n",
              "      <th>change</th>\n",
              "      <th>type</th>\n",
              "      <th>food</th>\n",
              "      <th>snack</th>\n",
              "      <th>beverage</th>\n",
              "      <th>...</th>\n",
              "      <th>mall</th>\n",
              "      <th>time</th>\n",
              "      <th>time_type</th>\n",
              "      <th>type_market</th>\n",
              "      <th>location</th>\n",
              "      <th>loc_category</th>\n",
              "      <th>day</th>\n",
              "      <th>day_type</th>\n",
              "      <th>24hr</th>\n",
              "      <th>dateTime</th>\n",
              "    </tr>\n",
              "  </thead>\n",
              "  <tbody>\n",
              "    <tr>\n",
              "      <th>0</th>\n",
              "      <td>acacia</td>\n",
              "      <td>1</td>\n",
              "      <td>1</td>\n",
              "      <td>90.0</td>\n",
              "      <td>100</td>\n",
              "      <td>10.0</td>\n",
              "      <td>cash</td>\n",
              "      <td>yes</td>\n",
              "      <td>no</td>\n",
              "      <td>no</td>\n",
              "      <td>...</td>\n",
              "      <td>no</td>\n",
              "      <td>19:33</td>\n",
              "      <td>night</td>\n",
              "      <td>small</td>\n",
              "      <td>saika</td>\n",
              "      <td>mid</td>\n",
              "      <td>saturday</td>\n",
              "      <td>weekend</td>\n",
              "      <td>no</td>\n",
              "      <td>2017-05-20</td>\n",
              "    </tr>\n",
              "    <tr>\n",
              "      <th>1</th>\n",
              "      <td>acacia</td>\n",
              "      <td>1</td>\n",
              "      <td>1</td>\n",
              "      <td>90.0</td>\n",
              "      <td>500</td>\n",
              "      <td>410.0</td>\n",
              "      <td>cash</td>\n",
              "      <td>yes</td>\n",
              "      <td>no</td>\n",
              "      <td>no</td>\n",
              "      <td>...</td>\n",
              "      <td>no</td>\n",
              "      <td>19:12</td>\n",
              "      <td>night</td>\n",
              "      <td>small</td>\n",
              "      <td>saika</td>\n",
              "      <td>mid</td>\n",
              "      <td>saturday</td>\n",
              "      <td>weekend</td>\n",
              "      <td>no</td>\n",
              "      <td>2017-05-20</td>\n",
              "    </tr>\n",
              "    <tr>\n",
              "      <th>2</th>\n",
              "      <td>acacia</td>\n",
              "      <td>3</td>\n",
              "      <td>1</td>\n",
              "      <td>270.0</td>\n",
              "      <td>300</td>\n",
              "      <td>30.0</td>\n",
              "      <td>cash</td>\n",
              "      <td>yes</td>\n",
              "      <td>no</td>\n",
              "      <td>no</td>\n",
              "      <td>...</td>\n",
              "      <td>no</td>\n",
              "      <td>19:16</td>\n",
              "      <td>night</td>\n",
              "      <td>small</td>\n",
              "      <td>saika</td>\n",
              "      <td>mid</td>\n",
              "      <td>saturday</td>\n",
              "      <td>weekend</td>\n",
              "      <td>no</td>\n",
              "      <td>2017-05-20</td>\n",
              "    </tr>\n",
              "    <tr>\n",
              "      <th>3</th>\n",
              "      <td>acacia</td>\n",
              "      <td>3</td>\n",
              "      <td>1</td>\n",
              "      <td>137.0</td>\n",
              "      <td>200</td>\n",
              "      <td>63.0</td>\n",
              "      <td>cash</td>\n",
              "      <td>yes</td>\n",
              "      <td>no</td>\n",
              "      <td>no</td>\n",
              "      <td>...</td>\n",
              "      <td>no</td>\n",
              "      <td>19:12</td>\n",
              "      <td>night</td>\n",
              "      <td>small</td>\n",
              "      <td>saika</td>\n",
              "      <td>mid</td>\n",
              "      <td>saturday</td>\n",
              "      <td>weekend</td>\n",
              "      <td>no</td>\n",
              "      <td>2017-05-20</td>\n",
              "    </tr>\n",
              "    <tr>\n",
              "      <th>4</th>\n",
              "      <td>acacia</td>\n",
              "      <td>1</td>\n",
              "      <td>1</td>\n",
              "      <td>75.0</td>\n",
              "      <td>80</td>\n",
              "      <td>5.0</td>\n",
              "      <td>cash</td>\n",
              "      <td>yes</td>\n",
              "      <td>no</td>\n",
              "      <td>no</td>\n",
              "      <td>...</td>\n",
              "      <td>no</td>\n",
              "      <td>18:31</td>\n",
              "      <td>afternoon</td>\n",
              "      <td>small</td>\n",
              "      <td>saika</td>\n",
              "      <td>mid</td>\n",
              "      <td>saturday</td>\n",
              "      <td>weekend</td>\n",
              "      <td>no</td>\n",
              "      <td>2017-05-20</td>\n",
              "    </tr>\n",
              "    <tr>\n",
              "      <th>...</th>\n",
              "      <td>...</td>\n",
              "      <td>...</td>\n",
              "      <td>...</td>\n",
              "      <td>...</td>\n",
              "      <td>...</td>\n",
              "      <td>...</td>\n",
              "      <td>...</td>\n",
              "      <td>...</td>\n",
              "      <td>...</td>\n",
              "      <td>...</td>\n",
              "      <td>...</td>\n",
              "      <td>...</td>\n",
              "      <td>...</td>\n",
              "      <td>...</td>\n",
              "      <td>...</td>\n",
              "      <td>...</td>\n",
              "      <td>...</td>\n",
              "      <td>...</td>\n",
              "      <td>...</td>\n",
              "      <td>...</td>\n",
              "      <td>...</td>\n",
              "    </tr>\n",
              "    <tr>\n",
              "      <th>1459</th>\n",
              "      <td>tuskys</td>\n",
              "      <td>4</td>\n",
              "      <td>3</td>\n",
              "      <td>1810.0</td>\n",
              "      <td>2000</td>\n",
              "      <td>190.0</td>\n",
              "      <td>cash</td>\n",
              "      <td>no</td>\n",
              "      <td>yes</td>\n",
              "      <td>no</td>\n",
              "      <td>...</td>\n",
              "      <td>yes</td>\n",
              "      <td>11:28</td>\n",
              "      <td>morning</td>\n",
              "      <td>chain</td>\n",
              "      <td>greenspan</td>\n",
              "      <td>mid</td>\n",
              "      <td>Thursday</td>\n",
              "      <td>weekday</td>\n",
              "      <td>no</td>\n",
              "      <td>2017-06-15</td>\n",
              "    </tr>\n",
              "    <tr>\n",
              "      <th>1460</th>\n",
              "      <td>nakumatt</td>\n",
              "      <td>2</td>\n",
              "      <td>3</td>\n",
              "      <td>516.0</td>\n",
              "      <td>516</td>\n",
              "      <td>0.0</td>\n",
              "      <td>card</td>\n",
              "      <td>yes</td>\n",
              "      <td>no</td>\n",
              "      <td>yes</td>\n",
              "      <td>...</td>\n",
              "      <td>yes</td>\n",
              "      <td>21:00</td>\n",
              "      <td>night</td>\n",
              "      <td>chain</td>\n",
              "      <td>junction</td>\n",
              "      <td>mid</td>\n",
              "      <td>Monday</td>\n",
              "      <td>weekday</td>\n",
              "      <td>no</td>\n",
              "      <td>2017-07-17</td>\n",
              "    </tr>\n",
              "    <tr>\n",
              "      <th>1461</th>\n",
              "      <td>tuskys</td>\n",
              "      <td>2</td>\n",
              "      <td>1</td>\n",
              "      <td>290.0</td>\n",
              "      <td>500</td>\n",
              "      <td>210.0</td>\n",
              "      <td>cash</td>\n",
              "      <td>yes</td>\n",
              "      <td>no</td>\n",
              "      <td>no</td>\n",
              "      <td>...</td>\n",
              "      <td>no</td>\n",
              "      <td>21:09</td>\n",
              "      <td>night</td>\n",
              "      <td>chain</td>\n",
              "      <td>cbd</td>\n",
              "      <td>mid</td>\n",
              "      <td>Sunday</td>\n",
              "      <td>weekend</td>\n",
              "      <td>no</td>\n",
              "      <td>2017-06-30</td>\n",
              "    </tr>\n",
              "    <tr>\n",
              "      <th>1462</th>\n",
              "      <td>tuskys</td>\n",
              "      <td>5</td>\n",
              "      <td>2</td>\n",
              "      <td>596.0</td>\n",
              "      <td>1000</td>\n",
              "      <td>404.0</td>\n",
              "      <td>cash</td>\n",
              "      <td>yes</td>\n",
              "      <td>no</td>\n",
              "      <td>no</td>\n",
              "      <td>...</td>\n",
              "      <td>yes</td>\n",
              "      <td>11:00</td>\n",
              "      <td>morning</td>\n",
              "      <td>chain</td>\n",
              "      <td>greenspan</td>\n",
              "      <td>mid</td>\n",
              "      <td>Monday</td>\n",
              "      <td>weekday</td>\n",
              "      <td>no</td>\n",
              "      <td>2017-05-08</td>\n",
              "    </tr>\n",
              "    <tr>\n",
              "      <th>1463</th>\n",
              "      <td>Eastmatt</td>\n",
              "      <td>2</td>\n",
              "      <td>2</td>\n",
              "      <td>120.0</td>\n",
              "      <td>2000</td>\n",
              "      <td>1880.0</td>\n",
              "      <td>cash</td>\n",
              "      <td>yes</td>\n",
              "      <td>yes</td>\n",
              "      <td>no</td>\n",
              "      <td>...</td>\n",
              "      <td>no</td>\n",
              "      <td>16:51</td>\n",
              "      <td>evening</td>\n",
              "      <td>chain</td>\n",
              "      <td>cbd</td>\n",
              "      <td>mid</td>\n",
              "      <td>Friday</td>\n",
              "      <td>weekday</td>\n",
              "      <td>no</td>\n",
              "      <td>2017-06-23</td>\n",
              "    </tr>\n",
              "  </tbody>\n",
              "</table>\n",
              "<p>1461 rows × 25 columns</p>\n",
              "</div>"
            ],
            "text/plain": [
              "     supermarket  no_of_items  variation   total  paid  change  type food  \\\n",
              "0         acacia            1          1    90.0   100    10.0  cash  yes   \n",
              "1         acacia            1          1    90.0   500   410.0  cash  yes   \n",
              "2         acacia            3          1   270.0   300    30.0  cash  yes   \n",
              "3         acacia            3          1   137.0   200    63.0  cash  yes   \n",
              "4         acacia            1          1    75.0    80     5.0  cash  yes   \n",
              "...          ...          ...        ...     ...   ...     ...   ...  ...   \n",
              "1459      tuskys            4          3  1810.0  2000   190.0  cash   no   \n",
              "1460    nakumatt            2          3   516.0   516     0.0  card  yes   \n",
              "1461      tuskys            2          1   290.0   500   210.0  cash  yes   \n",
              "1462      tuskys            5          2   596.0  1000   404.0  cash  yes   \n",
              "1463    Eastmatt            2          2   120.0  2000  1880.0  cash  yes   \n",
              "\n",
              "     snack beverage  ... mall   time  time_type type_market   location  \\\n",
              "0       no       no  ...   no  19:33      night       small      saika   \n",
              "1       no       no  ...   no  19:12      night       small      saika   \n",
              "2       no       no  ...   no  19:16      night       small      saika   \n",
              "3       no       no  ...   no  19:12      night       small      saika   \n",
              "4       no       no  ...   no  18:31  afternoon       small      saika   \n",
              "...    ...      ...  ...  ...    ...        ...         ...        ...   \n",
              "1459   yes       no  ...  yes  11:28    morning       chain  greenspan   \n",
              "1460    no      yes  ...  yes  21:00      night       chain   junction   \n",
              "1461    no       no  ...   no  21:09      night       chain        cbd   \n",
              "1462    no       no  ...  yes  11:00    morning       chain  greenspan   \n",
              "1463   yes       no  ...   no  16:51    evening       chain        cbd   \n",
              "\n",
              "     loc_category       day day_type 24hr   dateTime  \n",
              "0             mid  saturday  weekend   no 2017-05-20  \n",
              "1             mid  saturday  weekend   no 2017-05-20  \n",
              "2             mid  saturday  weekend   no 2017-05-20  \n",
              "3             mid  saturday  weekend   no 2017-05-20  \n",
              "4             mid  saturday  weekend   no 2017-05-20  \n",
              "...           ...       ...      ...  ...        ...  \n",
              "1459          mid  Thursday  weekday   no 2017-06-15  \n",
              "1460          mid    Monday  weekday   no 2017-07-17  \n",
              "1461          mid    Sunday  weekend   no 2017-06-30  \n",
              "1462          mid    Monday  weekday   no 2017-05-08  \n",
              "1463          mid    Friday  weekday   no 2017-06-23  \n",
              "\n",
              "[1461 rows x 25 columns]"
            ]
          },
          "execution_count": 25,
          "metadata": {},
          "output_type": "execute_result"
        }
      ]
    },
    {
      "cell_type": "code",
      "metadata": {
        "id": "NInb92coYAu6",
        "outputId": "0b47a5c2-6e93-44cd-96ef-ad10bc629d3f"
      },
      "source": [
        "df.head()"
      ],
      "execution_count": null,
      "outputs": [
        {
          "data": {
            "text/html": [
              "<div>\n",
              "<style scoped>\n",
              "    .dataframe tbody tr th:only-of-type {\n",
              "        vertical-align: middle;\n",
              "    }\n",
              "\n",
              "    .dataframe tbody tr th {\n",
              "        vertical-align: top;\n",
              "    }\n",
              "\n",
              "    .dataframe thead th {\n",
              "        text-align: right;\n",
              "    }\n",
              "</style>\n",
              "<table border=\"1\" class=\"dataframe\">\n",
              "  <thead>\n",
              "    <tr style=\"text-align: right;\">\n",
              "      <th></th>\n",
              "      <th>supermarket</th>\n",
              "      <th>no_of_items</th>\n",
              "      <th>variation</th>\n",
              "      <th>total</th>\n",
              "      <th>paid</th>\n",
              "      <th>change</th>\n",
              "      <th>type</th>\n",
              "      <th>food</th>\n",
              "      <th>snack</th>\n",
              "      <th>beverage</th>\n",
              "      <th>...</th>\n",
              "      <th>time_type</th>\n",
              "      <th>type_market</th>\n",
              "      <th>location</th>\n",
              "      <th>loc_category</th>\n",
              "      <th>day</th>\n",
              "      <th>day_type</th>\n",
              "      <th>24hr</th>\n",
              "      <th>day.1</th>\n",
              "      <th>month</th>\n",
              "      <th>year</th>\n",
              "    </tr>\n",
              "  </thead>\n",
              "  <tbody>\n",
              "    <tr>\n",
              "      <th>0</th>\n",
              "      <td>acacia</td>\n",
              "      <td>1</td>\n",
              "      <td>1</td>\n",
              "      <td>90.0</td>\n",
              "      <td>100</td>\n",
              "      <td>10.0</td>\n",
              "      <td>cash</td>\n",
              "      <td>yes</td>\n",
              "      <td>no</td>\n",
              "      <td>no</td>\n",
              "      <td>...</td>\n",
              "      <td>night</td>\n",
              "      <td>small</td>\n",
              "      <td>saika</td>\n",
              "      <td>mid</td>\n",
              "      <td>saturday</td>\n",
              "      <td>weekend</td>\n",
              "      <td>no</td>\n",
              "      <td>20</td>\n",
              "      <td>5</td>\n",
              "      <td>2017.0</td>\n",
              "    </tr>\n",
              "    <tr>\n",
              "      <th>1</th>\n",
              "      <td>acacia</td>\n",
              "      <td>1</td>\n",
              "      <td>1</td>\n",
              "      <td>90.0</td>\n",
              "      <td>500</td>\n",
              "      <td>410.0</td>\n",
              "      <td>cash</td>\n",
              "      <td>yes</td>\n",
              "      <td>no</td>\n",
              "      <td>no</td>\n",
              "      <td>...</td>\n",
              "      <td>night</td>\n",
              "      <td>small</td>\n",
              "      <td>saika</td>\n",
              "      <td>mid</td>\n",
              "      <td>saturday</td>\n",
              "      <td>weekend</td>\n",
              "      <td>no</td>\n",
              "      <td>20</td>\n",
              "      <td>5</td>\n",
              "      <td>2017.0</td>\n",
              "    </tr>\n",
              "    <tr>\n",
              "      <th>2</th>\n",
              "      <td>acacia</td>\n",
              "      <td>3</td>\n",
              "      <td>1</td>\n",
              "      <td>270.0</td>\n",
              "      <td>300</td>\n",
              "      <td>30.0</td>\n",
              "      <td>cash</td>\n",
              "      <td>yes</td>\n",
              "      <td>no</td>\n",
              "      <td>no</td>\n",
              "      <td>...</td>\n",
              "      <td>night</td>\n",
              "      <td>small</td>\n",
              "      <td>saika</td>\n",
              "      <td>mid</td>\n",
              "      <td>saturday</td>\n",
              "      <td>weekend</td>\n",
              "      <td>no</td>\n",
              "      <td>20</td>\n",
              "      <td>5</td>\n",
              "      <td>2017.0</td>\n",
              "    </tr>\n",
              "    <tr>\n",
              "      <th>3</th>\n",
              "      <td>acacia</td>\n",
              "      <td>3</td>\n",
              "      <td>1</td>\n",
              "      <td>137.0</td>\n",
              "      <td>200</td>\n",
              "      <td>63.0</td>\n",
              "      <td>cash</td>\n",
              "      <td>yes</td>\n",
              "      <td>no</td>\n",
              "      <td>no</td>\n",
              "      <td>...</td>\n",
              "      <td>night</td>\n",
              "      <td>small</td>\n",
              "      <td>saika</td>\n",
              "      <td>mid</td>\n",
              "      <td>saturday</td>\n",
              "      <td>weekend</td>\n",
              "      <td>no</td>\n",
              "      <td>20</td>\n",
              "      <td>5</td>\n",
              "      <td>2017.0</td>\n",
              "    </tr>\n",
              "    <tr>\n",
              "      <th>4</th>\n",
              "      <td>acacia</td>\n",
              "      <td>1</td>\n",
              "      <td>1</td>\n",
              "      <td>75.0</td>\n",
              "      <td>80</td>\n",
              "      <td>5.0</td>\n",
              "      <td>cash</td>\n",
              "      <td>yes</td>\n",
              "      <td>no</td>\n",
              "      <td>no</td>\n",
              "      <td>...</td>\n",
              "      <td>afternoon</td>\n",
              "      <td>small</td>\n",
              "      <td>saika</td>\n",
              "      <td>mid</td>\n",
              "      <td>saturday</td>\n",
              "      <td>weekend</td>\n",
              "      <td>no</td>\n",
              "      <td>20</td>\n",
              "      <td>5</td>\n",
              "      <td>2017.0</td>\n",
              "    </tr>\n",
              "  </tbody>\n",
              "</table>\n",
              "<p>5 rows × 27 columns</p>\n",
              "</div>"
            ],
            "text/plain": [
              "  supermarket  no_of_items  variation  total  paid  change  type food snack  \\\n",
              "0      acacia            1          1   90.0   100    10.0  cash  yes    no   \n",
              "1      acacia            1          1   90.0   500   410.0  cash  yes    no   \n",
              "2      acacia            3          1  270.0   300    30.0  cash  yes    no   \n",
              "3      acacia            3          1  137.0   200    63.0  cash  yes    no   \n",
              "4      acacia            1          1   75.0    80     5.0  cash  yes    no   \n",
              "\n",
              "  beverage  ...  time_type type_market location loc_category       day  \\\n",
              "0       no  ...      night       small    saika          mid  saturday   \n",
              "1       no  ...      night       small    saika          mid  saturday   \n",
              "2       no  ...      night       small    saika          mid  saturday   \n",
              "3       no  ...      night       small    saika          mid  saturday   \n",
              "4       no  ...  afternoon       small    saika          mid  saturday   \n",
              "\n",
              "  day_type 24hr day.1 month    year  \n",
              "0  weekend   no    20     5  2017.0  \n",
              "1  weekend   no    20     5  2017.0  \n",
              "2  weekend   no    20     5  2017.0  \n",
              "3  weekend   no    20     5  2017.0  \n",
              "4  weekend   no    20     5  2017.0  \n",
              "\n",
              "[5 rows x 27 columns]"
            ]
          },
          "execution_count": 37,
          "metadata": {},
          "output_type": "execute_result"
        }
      ]
    },
    {
      "cell_type": "code",
      "metadata": {
        "id": "FSvlCyfymoGZ"
      },
      "source": [
        "### Grouping based on the name\n",
        "# Create a column containing the month\n",
        "df1['month'] = pd.to_datetime(df1['dateTime']).dt.to_period('M')\n",
        "groups = df1.groupby(\"supermarket\")\n"
      ],
      "execution_count": null,
      "outputs": []
    },
    {
      "cell_type": "code",
      "metadata": {
        "id": "DflfpyMiYAu7"
      },
      "source": [
        "supermarkets = df1['supermarket'].unique()"
      ],
      "execution_count": null,
      "outputs": []
    },
    {
      "cell_type": "code",
      "metadata": {
        "id": "ePhH2UZJYAu7",
        "outputId": "173f1a2e-9130-4638-e6ac-e763aa136962"
      },
      "source": [
        "df1.head()"
      ],
      "execution_count": null,
      "outputs": [
        {
          "data": {
            "text/html": [
              "<div>\n",
              "<style scoped>\n",
              "    .dataframe tbody tr th:only-of-type {\n",
              "        vertical-align: middle;\n",
              "    }\n",
              "\n",
              "    .dataframe tbody tr th {\n",
              "        vertical-align: top;\n",
              "    }\n",
              "\n",
              "    .dataframe thead th {\n",
              "        text-align: right;\n",
              "    }\n",
              "</style>\n",
              "<table border=\"1\" class=\"dataframe\">\n",
              "  <thead>\n",
              "    <tr style=\"text-align: right;\">\n",
              "      <th></th>\n",
              "      <th>supermarket</th>\n",
              "      <th>no_of_items</th>\n",
              "      <th>variation</th>\n",
              "      <th>total</th>\n",
              "      <th>paid</th>\n",
              "      <th>change</th>\n",
              "      <th>type</th>\n",
              "      <th>food</th>\n",
              "      <th>snack</th>\n",
              "      <th>beverage</th>\n",
              "      <th>...</th>\n",
              "      <th>time</th>\n",
              "      <th>time_type</th>\n",
              "      <th>type_market</th>\n",
              "      <th>location</th>\n",
              "      <th>loc_category</th>\n",
              "      <th>day</th>\n",
              "      <th>day_type</th>\n",
              "      <th>24hr</th>\n",
              "      <th>dateTime</th>\n",
              "      <th>month</th>\n",
              "    </tr>\n",
              "  </thead>\n",
              "  <tbody>\n",
              "    <tr>\n",
              "      <th>0</th>\n",
              "      <td>acacia</td>\n",
              "      <td>1</td>\n",
              "      <td>1</td>\n",
              "      <td>90.0</td>\n",
              "      <td>100</td>\n",
              "      <td>10.0</td>\n",
              "      <td>cash</td>\n",
              "      <td>yes</td>\n",
              "      <td>no</td>\n",
              "      <td>no</td>\n",
              "      <td>...</td>\n",
              "      <td>19:33</td>\n",
              "      <td>night</td>\n",
              "      <td>small</td>\n",
              "      <td>saika</td>\n",
              "      <td>mid</td>\n",
              "      <td>saturday</td>\n",
              "      <td>weekend</td>\n",
              "      <td>no</td>\n",
              "      <td>2017-05-20</td>\n",
              "      <td>2017-05</td>\n",
              "    </tr>\n",
              "    <tr>\n",
              "      <th>1</th>\n",
              "      <td>acacia</td>\n",
              "      <td>1</td>\n",
              "      <td>1</td>\n",
              "      <td>90.0</td>\n",
              "      <td>500</td>\n",
              "      <td>410.0</td>\n",
              "      <td>cash</td>\n",
              "      <td>yes</td>\n",
              "      <td>no</td>\n",
              "      <td>no</td>\n",
              "      <td>...</td>\n",
              "      <td>19:12</td>\n",
              "      <td>night</td>\n",
              "      <td>small</td>\n",
              "      <td>saika</td>\n",
              "      <td>mid</td>\n",
              "      <td>saturday</td>\n",
              "      <td>weekend</td>\n",
              "      <td>no</td>\n",
              "      <td>2017-05-20</td>\n",
              "      <td>2017-05</td>\n",
              "    </tr>\n",
              "    <tr>\n",
              "      <th>2</th>\n",
              "      <td>acacia</td>\n",
              "      <td>3</td>\n",
              "      <td>1</td>\n",
              "      <td>270.0</td>\n",
              "      <td>300</td>\n",
              "      <td>30.0</td>\n",
              "      <td>cash</td>\n",
              "      <td>yes</td>\n",
              "      <td>no</td>\n",
              "      <td>no</td>\n",
              "      <td>...</td>\n",
              "      <td>19:16</td>\n",
              "      <td>night</td>\n",
              "      <td>small</td>\n",
              "      <td>saika</td>\n",
              "      <td>mid</td>\n",
              "      <td>saturday</td>\n",
              "      <td>weekend</td>\n",
              "      <td>no</td>\n",
              "      <td>2017-05-20</td>\n",
              "      <td>2017-05</td>\n",
              "    </tr>\n",
              "    <tr>\n",
              "      <th>3</th>\n",
              "      <td>acacia</td>\n",
              "      <td>3</td>\n",
              "      <td>1</td>\n",
              "      <td>137.0</td>\n",
              "      <td>200</td>\n",
              "      <td>63.0</td>\n",
              "      <td>cash</td>\n",
              "      <td>yes</td>\n",
              "      <td>no</td>\n",
              "      <td>no</td>\n",
              "      <td>...</td>\n",
              "      <td>19:12</td>\n",
              "      <td>night</td>\n",
              "      <td>small</td>\n",
              "      <td>saika</td>\n",
              "      <td>mid</td>\n",
              "      <td>saturday</td>\n",
              "      <td>weekend</td>\n",
              "      <td>no</td>\n",
              "      <td>2017-05-20</td>\n",
              "      <td>2017-05</td>\n",
              "    </tr>\n",
              "    <tr>\n",
              "      <th>4</th>\n",
              "      <td>acacia</td>\n",
              "      <td>1</td>\n",
              "      <td>1</td>\n",
              "      <td>75.0</td>\n",
              "      <td>80</td>\n",
              "      <td>5.0</td>\n",
              "      <td>cash</td>\n",
              "      <td>yes</td>\n",
              "      <td>no</td>\n",
              "      <td>no</td>\n",
              "      <td>...</td>\n",
              "      <td>18:31</td>\n",
              "      <td>afternoon</td>\n",
              "      <td>small</td>\n",
              "      <td>saika</td>\n",
              "      <td>mid</td>\n",
              "      <td>saturday</td>\n",
              "      <td>weekend</td>\n",
              "      <td>no</td>\n",
              "      <td>2017-05-20</td>\n",
              "      <td>2017-05</td>\n",
              "    </tr>\n",
              "  </tbody>\n",
              "</table>\n",
              "<p>5 rows × 26 columns</p>\n",
              "</div>"
            ],
            "text/plain": [
              "  supermarket  no_of_items  variation  total  paid  change  type food snack  \\\n",
              "0      acacia            1          1   90.0   100    10.0  cash  yes    no   \n",
              "1      acacia            1          1   90.0   500   410.0  cash  yes    no   \n",
              "2      acacia            3          1  270.0   300    30.0  cash  yes    no   \n",
              "3      acacia            3          1  137.0   200    63.0  cash  yes    no   \n",
              "4      acacia            1          1   75.0    80     5.0  cash  yes    no   \n",
              "\n",
              "  beverage  ...   time  time_type type_market location loc_category       day  \\\n",
              "0       no  ...  19:33      night       small    saika          mid  saturday   \n",
              "1       no  ...  19:12      night       small    saika          mid  saturday   \n",
              "2       no  ...  19:16      night       small    saika          mid  saturday   \n",
              "3       no  ...  19:12      night       small    saika          mid  saturday   \n",
              "4       no  ...  18:31  afternoon       small    saika          mid  saturday   \n",
              "\n",
              "  day_type 24hr   dateTime    month  \n",
              "0  weekend   no 2017-05-20  2017-05  \n",
              "1  weekend   no 2017-05-20  2017-05  \n",
              "2  weekend   no 2017-05-20  2017-05  \n",
              "3  weekend   no 2017-05-20  2017-05  \n",
              "4  weekend   no 2017-05-20  2017-05  \n",
              "\n",
              "[5 rows x 26 columns]"
            ]
          },
          "execution_count": 69,
          "metadata": {},
          "output_type": "execute_result"
        }
      ]
    },
    {
      "cell_type": "code",
      "metadata": {
        "id": "V5lu2jD_YAu8",
        "outputId": "c563063c-521f-437c-ee90-cdf2081be95c"
      },
      "source": [
        "for market in supermarkets:\n",
        "    \n",
        "    groups.get_group(market).groupby('month').sum().plot(kind = 'bar', y = 'total', title =\"a plot for \"+market+\" |for each month\")\n",
        "    "
      ],
      "execution_count": null,
      "outputs": [
        {
          "data": {
            "image/png": "[encoded data removed]",
            "text/plain": [
              "<Figure size 432x288 with 1 Axes>"
            ]
          },
          "metadata": {
            "needs_background": "light"
          },
          "output_type": "display_data"
        },
        {
          "data": {
            "image/png": "[encoded data removed]",
            "text/plain": [
              "<Figure size 432x288 with 1 Axes>"
            ]
          },
          "metadata": {
            "needs_background": "light"
          },
          "output_type": "display_data"
        },
        {
          "data": {
            "image/png": "[encoded data removed]",
            "text/plain": [
              "<Figure size 432x288 with 1 Axes>"
            ]
          },
          "metadata": {
            "needs_background": "light"
          },
          "output_type": "display_data"
        },
        {
          "data": {
            "image/png": "[encoded data removed]",
            "text/plain": [
              "<Figure size 432x288 with 1 Axes>"
            ]
          },
          "metadata": {
            "needs_background": "light"
          },
          "output_type": "display_data"
        },
        {
          "data": {
            "image/png": "[encoded data removed]",
            "text/plain": [
              "<Figure size 432x288 with 1 Axes>"
            ]
          },
          "metadata": {
            "needs_background": "light"
          },
          "output_type": "display_data"
        },
        {
          "data": {
            "image/png": "[encoded data removed]",
            "text/plain": [
              "<Figure size 432x288 with 1 Axes>"
            ]
          },
          "metadata": {
            "needs_background": "light"
          },
          "output_type": "display_data"
        },
        {
          "data": {
            "image/png": "[encoded data removed]",
            "text/plain": [
              "<Figure size 432x288 with 1 Axes>"
            ]
          },
          "metadata": {
            "needs_background": "light"
          },
          "output_type": "display_data"
        },
        {
          "data": {
            "image/png": "[encoded data removed]",
            "text/plain": [
              "<Figure size 432x288 with 1 Axes>"
            ]
          },
          "metadata": {
            "needs_background": "light"
          },
          "output_type": "display_data"
        },
        {
          "data": {
            "image/png": "[encoded data removed]",
            "text/plain": [
              "<Figure size 432x288 with 1 Axes>"
            ]
          },
          "metadata": {
            "needs_background": "light"
          },
          "output_type": "display_data"
        },
        {
          "data": {
            "image/png": "[encoded data removed]",
            "text/plain": [
              "<Figure size 432x288 with 1 Axes>"
            ]
          },
          "metadata": {
            "needs_background": "light"
          },
          "output_type": "display_data"
        },
        {
          "data": {
            "image/png": "[encoded data removed]",
            "text/plain": [
              "<Figure size 432x288 with 1 Axes>"
            ]
          },
          "metadata": {
            "needs_background": "light"
          },
          "output_type": "display_data"
        },
        {
          "data": {
            "image/png": "[encoded data removed]",
            "text/plain": [
              "<Figure size 432x288 with 1 Axes>"
            ]
          },
          "metadata": {
            "needs_background": "light"
          },
          "output_type": "display_data"
        },
        {
          "data": {
            "image/png": "[encoded data removed]",
            "text/plain": [
              "<Figure size 432x288 with 1 Axes>"
            ]
          },
          "metadata": {
            "needs_background": "light"
          },
          "output_type": "display_data"
        },
        {
          "data": {
            "image/png": "[encoded data removed]",
            "text/plain": [
              "<Figure size 432x288 with 1 Axes>"
            ]
          },
          "metadata": {
            "needs_background": "light"
          },
          "output_type": "display_data"
        },
        {
          "data": {
            "image/png": "[encoded data removed]",
            "text/plain": [
              "<Figure size 432x288 with 1 Axes>"
            ]
          },
          "metadata": {
            "needs_background": "light"
          },
          "output_type": "display_data"
        },
        {
          "data": {
            "image/png": "[encoded data removed]",
            "text/plain": [
              "<Figure size 432x288 with 1 Axes>"
            ]
          },
          "metadata": {
            "needs_background": "light"
          },
          "output_type": "display_data"
        },
        {
          "data": {
            "image/png": "[encoded data removed]",
            "text/plain": [
              "<Figure size 432x288 with 1 Axes>"
            ]
          },
          "metadata": {
            "needs_background": "light"
          },
          "output_type": "display_data"
        },
        {
          "data": {
            "image/png": "[encoded data removed]",
            "text/plain": [
              "<Figure size 432x288 with 1 Axes>"
            ]
          },
          "metadata": {
            "needs_background": "light"
          },
          "output_type": "display_data"
        },
        {
          "data": {
            "image/png": "[encoded data removed]",
            "text/plain": [
              "<Figure size 432x288 with 1 Axes>"
            ]
          },
          "metadata": {
            "needs_background": "light"
          },
          "output_type": "display_data"
        },
        {
          "data": {
            "image/png": "[encoded data removed]",
            "text/plain": [
              "<Figure size 432x288 with 1 Axes>"
            ]
          },
          "metadata": {
            "needs_background": "light"
          },
          "output_type": "display_data"
        },
        {
          "data": {
            "image/png": "[encoded data removed]",
            "text/plain": [
              "<Figure size 432x288 with 1 Axes>"
            ]
          },
          "metadata": {
            "needs_background": "light"
          },
          "output_type": "display_data"
        },
        {
          "data": {
            "image/png": "[encoded data removed]",
            "text/plain": [
              "<Figure size 432x288 with 1 Axes>"
            ]
          },
          "metadata": {
            "needs_background": "light"
          },
          "output_type": "display_data"
        },
        {
          "data": {
            "image/png": "[encoded data removed]",
            "text/plain": [
              "<Figure size 432x288 with 1 Axes>"
            ]
          },
          "metadata": {
            "needs_background": "light"
          },
          "output_type": "display_data"
        },
        {
          "data": {
            "image/png": "[encoded data removed]",
            "text/plain": [
              "<Figure size 432x288 with 1 Axes>"
            ]
          },
          "metadata": {
            "needs_background": "light"
          },
          "output_type": "display_data"
        }
      ]
    },
    {
      "cell_type": "code",
      "metadata": {
        "id": "GRGQ5SR8YAu8",
        "outputId": "3c1d60cc-908d-49d9-897a-dbd75cfbcc41"
      },
      "source": [
        "groups.get_group(market).groupby('type').count().plot(kind = 'bar')"
      ],
      "execution_count": null,
      "outputs": [
        {
          "data": {
            "text/plain": [
              "<AxesSubplot:xlabel='type'>"
            ]
          },
          "execution_count": 81,
          "metadata": {},
          "output_type": "execute_result"
        },
        {
          "data": {
            "image/png": "[encoded data removed]",
            "text/plain": [
              "<Figure size 432x288 with 1 Axes>"
            ]
          },
          "metadata": {
            "needs_background": "light"
          },
          "output_type": "display_data"
        }
      ]
    },
    {
      "cell_type": "code",
      "metadata": {
        "id": "V584y9OHYAu9",
        "outputId": "3855eea6-f77e-4d87-95eb-ebce92143db0"
      },
      "source": [
        "groups.get_group(market).groupby('type').count()['supermarket'].plot(kind= 'bar')"
      ],
      "execution_count": null,
      "outputs": [
        {
          "data": {
            "text/plain": [
              "<AxesSubplot:xlabel='type'>"
            ]
          },
          "execution_count": 91,
          "metadata": {},
          "output_type": "execute_result"
        },
        {
          "data": {
            "image/png": "[encoded data removed]",
            "text/plain": [
              "<Figure size 432x288 with 1 Axes>"
            ]
          },
          "metadata": {
            "needs_background": "light"
          },
          "output_type": "display_data"
        }
      ]
    },
    {
      "cell_type": "code",
      "metadata": {
        "id": "v4Jad7WhYAu9",
        "outputId": "c6701930-9cea-4611-8f14-8325e6d4b76a"
      },
      "source": [
        "supermarkets"
      ],
      "execution_count": null,
      "outputs": [
        {
          "data": {
            "text/plain": [
              "array(['acacia', 'nakumatt', 'chandarana', 'tuskys', 'uchumi', 'naivas',\n",
              "       'kamindi', 'karrymart', 'ukwala', 'neema', 'eastmatt', 'kassmart',\n",
              "       'fairway', 'tumaini', 'cleanshelf', 'large neema', 'interstrat',\n",
              "       'zucchini', 'magna', 'Tuskys', 'Naivas', 'Selfridges', 'Eastmatt',\n",
              "       'foodplus'], dtype=object)"
            ]
          },
          "execution_count": 96,
          "metadata": {},
          "output_type": "execute_result"
        }
      ]
    },
    {
      "cell_type": "code",
      "metadata": {
        "id": "C5nuNjHAYAu-",
        "outputId": "60647b72-2443-451e-a047-48852701debe"
      },
      "source": [
        "for market in supermarkets:\n",
        "    groups.get_group(market).groupby('type').count()['supermarket'].plot(kind = 'bar', y = 'type', title =\"a plot for \"+market+\" for each month\")\n",
        "    plt.show()\n",
        "    "
      ],
      "execution_count": null,
      "outputs": [
        {
          "data": {
            "image/png": "[encoded data removed]",
            "text/plain": [
              "<Figure size 432x288 with 1 Axes>"
            ]
          },
          "metadata": {
            "needs_background": "light"
          },
          "output_type": "display_data"
        },
        {
          "data": {
            "image/png": "[encoded data removed]",
            "text/plain": [
              "<Figure size 432x288 with 1 Axes>"
            ]
          },
          "metadata": {
            "needs_background": "light"
          },
          "output_type": "display_data"
        },
        {
          "data": {
            "image/png": "[encoded data removed]",
            "text/plain": [
              "<Figure size 432x288 with 1 Axes>"
            ]
          },
          "metadata": {
            "needs_background": "light"
          },
          "output_type": "display_data"
        },
        {
          "data": {
            "image/png": "[encoded data removed]",
            "text/plain": [
              "<Figure size 432x288 with 1 Axes>"
            ]
          },
          "metadata": {
            "needs_background": "light"
          },
          "output_type": "display_data"
        },
        {
          "data": {
            "image/png": "[encoded data removed]",
            "text/plain": [
              "<Figure size 432x288 with 1 Axes>"
            ]
          },
          "metadata": {
            "needs_background": "light"
          },
          "output_type": "display_data"
        },
        {
          "data": {
            "image/png": "[encoded data removed]",
            "text/plain": [
              "<Figure size 432x288 with 1 Axes>"
            ]
          },
          "metadata": {
            "needs_background": "light"
          },
          "output_type": "display_data"
        },
        {
          "data": {
            "image/png": "[encoded data removed]",
            "text/plain": [
              "<Figure size 432x288 with 1 Axes>"
            ]
          },
          "metadata": {
            "needs_background": "light"
          },
          "output_type": "display_data"
        },
        {
          "data": {
            "image/png": "[encoded data removed]",
            "text/plain": [
              "<Figure size 432x288 with 1 Axes>"
            ]
          },
          "metadata": {
            "needs_background": "light"
          },
          "output_type": "display_data"
        },
        {
          "data": {
            "image/png": "[encoded data removed]",
            "text/plain": [
              "<Figure size 432x288 with 1 Axes>"
            ]
          },
          "metadata": {
            "needs_background": "light"
          },
          "output_type": "display_data"
        },
        {
          "data": {
            "image/png": "[encoded data removed]",
            "text/plain": [
              "<Figure size 432x288 with 1 Axes>"
            ]
          },
          "metadata": {
            "needs_background": "light"
          },
          "output_type": "display_data"
        },
        {
          "data": {
            "image/png": "[encoded data removed]",
            "text/plain": [
              "<Figure size 432x288 with 1 Axes>"
            ]
          },
          "metadata": {
            "needs_background": "light"
          },
          "output_type": "display_data"
        },
        {
          "data": {
            "image/png": "[encoded data removed]",
            "text/plain": [
              "<Figure size 432x288 with 1 Axes>"
            ]
          },
          "metadata": {
            "needs_background": "light"
          },
          "output_type": "display_data"
        },
        {
          "data": {
            "image/png": "[encoded data removed]",
            "text/plain": [
              "<Figure size 432x288 with 1 Axes>"
            ]
          },
          "metadata": {
            "needs_background": "light"
          },
          "output_type": "display_data"
        },
        {
          "data": {
            "image/png": "[encoded data removed]",
            "text/plain": [
              "<Figure size 432x288 with 1 Axes>"
            ]
          },
          "metadata": {
            "needs_background": "light"
          },
          "output_type": "display_data"
        },
        {
          "data": {
            "image/png": "[encoded data removed]",
            "text/plain": [
              "<Figure size 432x288 with 1 Axes>"
            ]
          },
          "metadata": {
            "needs_background": "light"
          },
          "output_type": "display_data"
        },
        {
          "data": {
            "image/png": "[encoded data removed]",
            "text/plain": [
              "<Figure size 432x288 with 1 Axes>"
            ]
          },
          "metadata": {
            "needs_background": "light"
          },
          "output_type": "display_data"
        },
        {
          "data": {
            "image/png": "[encoded data removed]",
            "text/plain": [
              "<Figure size 432x288 with 1 Axes>"
            ]
          },
          "metadata": {
            "needs_background": "light"
          },
          "output_type": "display_data"
        },
        {
          "data": {
            "image/png": "[encoded data removed]",
            "text/plain": [
              "<Figure size 432x288 with 1 Axes>"
            ]
          },
          "metadata": {
            "needs_background": "light"
          },
          "output_type": "display_data"
        },
        {
          "data": {
            "image/png": "[encoded data removed]",
            "text/plain": [
              "<Figure size 432x288 with 1 Axes>"
            ]
          },
          "metadata": {
            "needs_background": "light"
          },
          "output_type": "display_data"
        },
        {
          "data": {
            "image/png": "[encoded data removed]",
            "text/plain": [
              "<Figure size 432x288 with 1 Axes>"
            ]
          },
          "metadata": {
            "needs_background": "light"
          },
          "output_type": "display_data"
        },
        {
          "data": {
            "image/png": "[encoded data removed]",
            "text/plain": [
              "<Figure size 432x288 with 1 Axes>"
            ]
          },
          "metadata": {
            "needs_background": "light"
          },
          "output_type": "display_data"
        },
        {
          "data": {
            "image/png": "[encoded data removed]",
            "text/plain": [
              "<Figure size 432x288 with 1 Axes>"
            ]
          },
          "metadata": {
            "needs_background": "light"
          },
          "output_type": "display_data"
        },
        {
          "data": {
            "image/png": "[encoded data removed]",
            "text/plain": [
              "<Figure size 432x288 with 1 Axes>"
            ]
          },
          "metadata": {
            "needs_background": "light"
          },
          "output_type": "display_data"
        },
        {
          "data": {
            "image/png": "[encoded data removed]",
            "text/plain": [
              "<Figure size 432x288 with 1 Axes>"
            ]
          },
          "metadata": {
            "needs_background": "light"
          },
          "output_type": "display_data"
        }
      ]
    },
    {
      "cell_type": "code",
      "metadata": {
        "id": "krD5eARfYAu-"
      },
      "source": [
        "groups.get_group('acacia').groupby('month').mean().plot(kind = 'bar', y = 'total')"
      ],
      "execution_count": null,
      "outputs": []
    },
    {
      "cell_type": "code",
      "metadata": {
        "id": "jz9-OViimoTT",
        "outputId": "4fea46fd-bcdc-4076-aa90-9e428963df73"
      },
      "source": [
        "groups.get_group('ac')"
      ],
      "execution_count": null,
      "outputs": [
        {
          "ename": "KeyError",
          "evalue": "'ac'",
          "output_type": "error",
          "traceback": [
            "\u001b[1;31m---------------------------------------------------------------------------\u001b[0m",
            "\u001b[1;31mKeyError\u001b[0m                                  Traceback (most recent call last)",
            "\u001b[1;32m<ipython-input-83-35853865c117>\u001b[0m in \u001b[0;36m<module>\u001b[1;34m\u001b[0m\n\u001b[1;32m----> 1\u001b[1;33m \u001b[0mgroups\u001b[0m\u001b[1;33m.\u001b[0m\u001b[0mget_group\u001b[0m\u001b[1;33m(\u001b[0m\u001b[1;34m'ac'\u001b[0m\u001b[1;33m)\u001b[0m\u001b[1;33m\u001b[0m\u001b[1;33m\u001b[0m\u001b[0m\n\u001b[0m",
            "\u001b[1;32m~\\anaconda3\\lib\\site-packages\\pandas\\core\\groupby\\groupby.py\u001b[0m in \u001b[0;36mget_group\u001b[1;34m(self, name, obj)\u001b[0m\n\u001b[0;32m    808\u001b[0m         \u001b[0minds\u001b[0m \u001b[1;33m=\u001b[0m \u001b[0mself\u001b[0m\u001b[1;33m.\u001b[0m\u001b[0m_get_index\u001b[0m\u001b[1;33m(\u001b[0m\u001b[0mname\u001b[0m\u001b[1;33m)\u001b[0m\u001b[1;33m\u001b[0m\u001b[1;33m\u001b[0m\u001b[0m\n\u001b[0;32m    809\u001b[0m         \u001b[1;32mif\u001b[0m \u001b[1;32mnot\u001b[0m \u001b[0mlen\u001b[0m\u001b[1;33m(\u001b[0m\u001b[0minds\u001b[0m\u001b[1;33m)\u001b[0m\u001b[1;33m:\u001b[0m\u001b[1;33m\u001b[0m\u001b[1;33m\u001b[0m\u001b[0m\n\u001b[1;32m--> 810\u001b[1;33m             \u001b[1;32mraise\u001b[0m \u001b[0mKeyError\u001b[0m\u001b[1;33m(\u001b[0m\u001b[0mname\u001b[0m\u001b[1;33m)\u001b[0m\u001b[1;33m\u001b[0m\u001b[1;33m\u001b[0m\u001b[0m\n\u001b[0m\u001b[0;32m    811\u001b[0m \u001b[1;33m\u001b[0m\u001b[0m\n\u001b[0;32m    812\u001b[0m         \u001b[1;32mreturn\u001b[0m \u001b[0mobj\u001b[0m\u001b[1;33m.\u001b[0m\u001b[0m_take_with_is_copy\u001b[0m\u001b[1;33m(\u001b[0m\u001b[0minds\u001b[0m\u001b[1;33m,\u001b[0m \u001b[0maxis\u001b[0m\u001b[1;33m=\u001b[0m\u001b[0mself\u001b[0m\u001b[1;33m.\u001b[0m\u001b[0maxis\u001b[0m\u001b[1;33m)\u001b[0m\u001b[1;33m\u001b[0m\u001b[1;33m\u001b[0m\u001b[0m\n",
            "\u001b[1;31mKeyError\u001b[0m: 'ac'"
          ]
        }
      ]
    },
    {
      "cell_type": "code",
      "metadata": {
        "id": "eqRKIYGVYAvA"
      },
      "source": [
        "# Create a column containing the month\n",
        "df1['month'] = pd.to_datetime(df1['dateTime']).dt.to_period('M')"
      ],
      "execution_count": null,
      "outputs": []
    },
    {
      "cell_type": "code",
      "metadata": {
        "id": "WjabDIKdYAvA",
        "outputId": "50ea29d6-11bd-494f-b23e-b734b3973cad"
      },
      "source": [
        "df1.plot.bar(x = 'month', y = 'total')"
      ],
      "execution_count": null,
      "outputs": [
        {
          "data": {
            "text/plain": [
              "<AxesSubplot:xlabel='month'>"
            ]
          },
          "execution_count": 45,
          "metadata": {},
          "output_type": "execute_result"
        },
        {
          "data": {
            "image/png": "[encoded data removed]",
            "text/plain": [
              "<Figure size 432x288 with 1 Axes>"
            ]
          },
          "metadata": {
            "needs_background": "light"
          },
          "output_type": "display_data"
        }
      ]
    },
    {
      "cell_type": "code",
      "metadata": {
        "id": "7TVXGKVxYAvB"
      },
      "source": [
        ""
      ],
      "execution_count": null,
      "outputs": []
    }
  ]
}